{
  "nbformat": 4,
  "nbformat_minor": 0,
  "metadata": {
    "colab": {
      "provenance": [],
      "private_outputs": true
    },
    "kernelspec": {
      "name": "python3",
      "display_name": "Python 3"
    },
    "accelerator": "GPU"
  },
  "cells": [
    {
      "cell_type": "markdown",
      "source": [],
      "metadata": {
        "id": "Hzf3UjyOaJ0Y"
      }
    },
    {
      "cell_type": "markdown",
      "metadata": {
        "id": "Cqo1gtPX6BXO"
      },
      "source": [
        "# How to train YOLOv3 using Darknet on Colab notebook and optimize the VM runtime load times\n",
        "\n",
        "## Welcome!\n",
        "\n",
        "This Colab notebook will show you how to:\n",
        "\n",
        "* Train a **Yolo v3** model using **Darknet** using the Colab **12GB-RAM GPU**.\n",
        "* Turn Colab notebooks into an effective tool to work on real projects. Dealing with the handicap of a runtime that will **blow up every 12 hours** into the space!\n",
        "  * Working directly from the files on your computer.\n",
        "  * Configure your notebook to install everything you need and start training in about a minute (Tested using 550MB dataset).\n",
        "  * Receive your trained weights directly on your computer during the training. While the notebook is training you can check how it is going using your trained weights in your computer.\n",
        "\n",
        "\n",
        "#### This notebook is part of the post [How to train YOLOv3 using Darknet framework and optimize the VM runtime load times](http://blog.ibanyez.info/blogs/coding/20190410-run-a-google-colab-notebook-to-train-yolov3-using-darknet-in/) I encourage you to visit! You will find a deeper explanation about Google Colab, the goods and the limitations of this great tool.\n",
        "\n",
        "\n",
        "### These are the steps we'll follow:\n",
        "\n",
        "* Configure Google Drive and map as network  _Drive_.\n",
        "* Some utils to help to do some tasks.\n",
        "* Configure the pre-requisites on the runtime.\n",
        "  * Check the CUDA installation on the runtime VM.\n",
        "  * Install cuDNN.\n",
        "  * Clone and compile Darknet. We'll use a repo based on [AlexeyAB's Darknet repo](https://github.com/AlexeyAB/darknet/). I applied  some changes to make possible to load files from `/My Drive/` and reduced the number of logs on console to speed up the notebook.\n",
        "  * We'll check that everything works great.\n",
        "* Explained how to manage your YOLO files on your computer and it will be used transparently from this notebook.\n",
        "\n",
        "> _**NOTE:** Cells with an annotation **`# Not Necessary cell`**. Can be removed without having any impact. They are only explanatory content._\n",
        "\n",
        "### Without further ado, let's start!\n"
      ]
    },
    {
      "cell_type": "markdown",
      "source": [
        "Vou utilizar nesse projeto a YoloV5\n"
      ],
      "metadata": {
        "id": "Xy9NmV1QH3Yt"
      }
    },
    {
      "cell_type": "markdown",
      "source": [
        "Para iniciar, vamos baixar o código-fonte do YOLOv5 do repositório oficial no GitHub"
      ],
      "metadata": {
        "id": "97bUk2JgJNTB"
      }
    },
    {
      "cell_type": "code",
      "source": [
        "!git clone https://github.com/ultralytics/yolov5.git\n"
      ],
      "metadata": {
        "id": "z_kKt0V6aUEe"
      },
      "execution_count": null,
      "outputs": []
    },
    {
      "cell_type": "code",
      "source": [
        "%cd yolov5\n",
        "!pip install -r requirements.txt\n"
      ],
      "metadata": {
        "id": "IFOQfd38acWk"
      },
      "execution_count": null,
      "outputs": []
    },
    {
      "cell_type": "code",
      "source": [
        "from google.colab import drive\n",
        "drive.mount('/content/drive')\n"
      ],
      "metadata": {
        "id": "mGj81bCd06Jc"
      },
      "execution_count": null,
      "outputs": []
    },
    {
      "cell_type": "markdown",
      "source": [
        "Ajustando o dataSet no meu Drive"
      ],
      "metadata": {
        "id": "HeGASveiIAM0"
      }
    },
    {
      "cell_type": "code",
      "source": [
        "# Caminho onde você fez o upload\n",
        "path_to_drive = '/content/drive/MyDrive/COCO/'\n",
        "\n",
        "# Descompactando as imagens\n",
        "!unzip -q {path_to_drive}val2017.zip -d {path_to_drive}val2017/\n",
        "\n",
        "# Descompactando as anotações\n",
        "!unzip -q {path_to_drive}annotations_trainval2017.zip -d {path_to_drive}annotations/\n"
      ],
      "metadata": {
        "id": "hlbIA7tVqFv9"
      },
      "execution_count": null,
      "outputs": []
    },
    {
      "cell_type": "code",
      "source": [
        "# Movendo imagens para a pasta correta\n",
        "!mv /content/drive/MyDrive/COCO/val2017/val2017/* /content/drive/MyDrive/COCO/val2017/\n",
        "\n",
        "# Movendo anotações para a pasta correta\n",
        "!mv /content/drive/MyDrive/COCO/annotations/annotations/* /content/drive/MyDrive/COCO/annotations/\n"
      ],
      "metadata": {
        "id": "NokyZXxqX1Gm"
      },
      "execution_count": null,
      "outputs": []
    },
    {
      "cell_type": "code",
      "source": [
        "# Verificando imagens de validação\n",
        "!ls /content/drive/MyDrive/COCO/val2017/\n",
        "\n",
        "# Verificando anotações\n",
        "!ls /content/drive/MyDrive/COCO/annotations/\n"
      ],
      "metadata": {
        "id": "mAY43QiqX7cY"
      },
      "execution_count": null,
      "outputs": []
    },
    {
      "cell_type": "code",
      "source": [
        "import os\n",
        "import json"
      ],
      "metadata": {
        "id": "_4rYvE3BYXJd"
      },
      "execution_count": null,
      "outputs": []
    },
    {
      "cell_type": "code",
      "source": [
        "\n",
        "# Definindo os caminhos corretos\n",
        "coco_images_path = \"/content/drive/MyDrive/COCO/val2017/\"\n",
        "coco_annotations_path = \"/content/drive/MyDrive/COCO/annotations/instances_val2017.json\"\n",
        "\n",
        "# Verificando se o arquivo de anotações existe\n",
        "if os.path.exists(coco_annotations_path):\n",
        "    with open(coco_annotations_path, \"r\") as f:\n",
        "        coco_data = json.load(f)\n",
        "    print(\"Anotações carregadas com sucesso!\")\n",
        "    print(\"Número de imagens anotadas:\", len(coco_data[\"images\"]))\n",
        "    print(\"Número de categorias:\", len(coco_data[\"categories\"]))\n",
        "else:\n",
        "    print(\"Arquivo de anotações não encontrado.\")\n"
      ],
      "metadata": {
        "id": "XRzlwGltYvbZ"
      },
      "execution_count": null,
      "outputs": []
    },
    {
      "cell_type": "code",
      "source": [
        "import random\n",
        "import matplotlib.pyplot as plt\n",
        "import cv2\n",
        "from google.colab.patches import cv2_imshow"
      ],
      "metadata": {
        "id": "bs9rdzc4ZJPQ"
      },
      "execution_count": null,
      "outputs": []
    },
    {
      "cell_type": "code",
      "source": [
        "#Escolhendo uma imagem do dataset\n",
        "random_image_info = random.choice(coco_data[\"images\"])\n",
        "image_id = random_image_info[\"id\"]\n",
        "image_filename = random_image_info[\"file_name\"]\n",
        "\n",
        "#Caminho\n",
        "image_path = os.path.join(coco_images_path, image_filename)\n",
        "\n",
        "#Carregando a imagem com OpenCV\n",
        "image = cv2.imread(image_path)\n",
        "image = cv2.cvtColor(image, cv2.COLOR_BGR2RGB) #Convertendo para RGB\n",
        "\n",
        "#Exibir a imagem\n",
        "plt.figure(figsize=(8,8))\n",
        "plt.imshow(image)\n",
        "plt.axis(\"off\")\n",
        "plt.title(f\"Imagem ID: {image_id}\")\n",
        "plt.show()"
      ],
      "metadata": {
        "id": "TQ5Z4NoQZeD1"
      },
      "execution_count": null,
      "outputs": []
    },
    {
      "cell_type": "code",
      "source": [
        "import shutil\n",
        "import json\n",
        "import os\n",
        "from pathlib import Path\n",
        "\n",
        "# Diretórios\n",
        "annotations_file = '/content/drive/MyDrive/COCO/annotations/instances_val2017.json'\n",
        "images_source_dir = '/content/drive/MyDrive/COCO/val2017'\n",
        "images_dest_dir = '/content/drive/MyDrive/COCO/yolo_images'\n",
        "\n",
        "# Mapear classes para os índices do YOLO\n",
        "class_map = {\n",
        "    1: 0,  # Pessoa -> Classe 0\n",
        "    3: 1   # Carro -> Classe 1\n",
        "}\n",
        "\n",
        "# Criar o diretório de destino para as imagens\n",
        "Path(images_dest_dir).mkdir(parents=True, exist_ok=True)\n",
        "\n",
        "# Função para mover imagens de \"pessoa\" e \"carro\"\n",
        "def move_images_by_class():\n",
        "    with open(annotations_file, 'r') as f:\n",
        "        coco_data = json.load(f)\n",
        "\n",
        "    # Iterar sobre as anotações\n",
        "    for annotation in coco_data['annotations']:\n",
        "        if annotation['category_id'] in class_map:  # Verificar se a classe é \"pessoa\" ou \"carro\"\n",
        "            image_id = annotation['image_id']\n",
        "            # Encontrar a imagem correspondente\n",
        "            image_info = next((img for img in coco_data['images'] if img['id'] == image_id), None)\n",
        "            if image_info:\n",
        "                # Caminho da imagem\n",
        "                image_path = os.path.join(images_source_dir, image_info['file_name'])\n",
        "                dest_path = os.path.join(images_dest_dir, image_info['file_name'])\n",
        "\n",
        "                # Copiar imagem para o diretório de destino\n",
        "                shutil.copy(image_path, dest_path)\n",
        "\n",
        "# Chamar a função para mover as imagens\n",
        "move_images_by_class()\n"
      ],
      "metadata": {
        "id": "i2tsjqKyghab"
      },
      "execution_count": null,
      "outputs": []
    },
    {
      "cell_type": "code",
      "source": [
        "import os\n",
        "\n",
        "images_dest_dir = '/content/drive/MyDrive/COCO/yolo_images'\n",
        "print(\"Imagens copiadas:\", os.listdir(images_dest_dir)[:10])  # Mostra as 10 primeiras imagens\n"
      ],
      "metadata": {
        "id": "SozNpamF9sWr"
      },
      "execution_count": null,
      "outputs": []
    },
    {
      "cell_type": "code",
      "source": [
        "print(\"Total de imagens copiadas:\", len(os.listdir(images_dest_dir)))\n"
      ],
      "metadata": {
        "id": "Nc-KWS169zX8"
      },
      "execution_count": null,
      "outputs": []
    },
    {
      "cell_type": "code",
      "source": [
        "import json\n",
        "\n",
        "annotations_file = '/content/drive/MyDrive/COCO/annotations/instances_val2017.json'\n",
        "\n",
        "with open(annotations_file, 'r') as f:\n",
        "    coco_data = json.load(f)\n",
        "\n",
        "category_ids = set(annotation['category_id'] for annotation in coco_data['annotations'])\n",
        "print(\"IDs das categorias disponíveis no dataset:\", category_ids)\n"
      ],
      "metadata": {
        "id": "GyzhWjBd93TP"
      },
      "execution_count": null,
      "outputs": []
    },
    {
      "cell_type": "markdown",
      "source": [
        "Agora vamos gerar os arquivos de anotações .txt para cada imagem correpondente, para treinar a rede Yolo.\n"
      ],
      "metadata": {
        "id": "2_gn11Xw-rc0"
      }
    },
    {
      "cell_type": "code",
      "source": [
        "import os\n",
        "import json\n",
        "from pathlib import Path\n",
        "\n",
        "# Diretórios\n",
        "annotations_file = '/content/drive/MyDrive/COCO/annotations/instances_val2017.json'\n",
        "images_dest_dir = '/content/drive/MyDrive/COCO/yolo_images'\n",
        "labels_dest_dir = '/content/drive/MyDrive/COCO/yolo_labels'\n",
        "\n",
        "# Criar o diretório de destino para os arquivos de anotação\n",
        "Path(labels_dest_dir).mkdir(parents=True, exist_ok=True)\n",
        "\n",
        "# Mapear classes para os índices do YOLO\n",
        "class_map = {\n",
        "    1: 0,  # Pessoa -> Classe 0\n",
        "    3: 1   # Carro -> Classe 1\n",
        "}\n",
        "\n",
        "# Abrir o arquivo JSON de anotações\n",
        "with open(annotations_file, 'r') as f:\n",
        "    coco_data = json.load(f)\n",
        "\n",
        "# Criar um dicionário para armazenar as anotações por imagem\n",
        "annotations_by_image = {}\n",
        "for annotation in coco_data['annotations']:\n",
        "    if annotation['category_id'] in class_map:\n",
        "        image_id = annotation['image_id']\n",
        "        image_filename = f\"{image_id:012d}.jpg\"\n",
        "\n",
        "        bbox = annotation['bbox']  # [x_min, y_min, width, height]\n",
        "        x_min, y_min, width, height = bbox\n",
        "\n",
        "        # Encontrar informações da imagem\n",
        "        image_info = next((img for img in coco_data['images'] if img['id'] == image_id), None)\n",
        "        if not image_info:\n",
        "            continue\n",
        "\n",
        "        img_width, img_height = image_info['width'], image_info['height']\n",
        "\n",
        "        # Converter para formato YOLO\n",
        "        x_center = (x_min + width / 2) / img_width\n",
        "        y_center = (y_min + height / 2) / img_height\n",
        "        width /= img_width\n",
        "        height /= img_height\n",
        "\n",
        "        # Adicionar anotação ao dicionário\n",
        "        if image_filename not in annotations_by_image:\n",
        "            annotations_by_image[image_filename] = []\n",
        "\n",
        "        annotations_by_image[image_filename].append(\n",
        "            f\"{class_map[annotation['category_id']]} {x_center:.6f} {y_center:.6f} {width:.6f} {height:.6f}\"\n",
        "        )\n",
        "\n",
        "# Criar arquivos de anotação para cada imagem\n",
        "for image_filename, annotations in annotations_by_image.items():\n",
        "    label_filename = os.path.join(labels_dest_dir, image_filename.replace('.jpg', '.txt'))\n",
        "    with open(label_filename, 'w') as label_file:\n",
        "        label_file.write('\\n'.join(annotations))\n",
        "\n",
        "print(f\"Arquivos de anotação gerados: {len(annotations_by_image)}\")\n"
      ],
      "metadata": {
        "id": "BuB0FR3PBHPs"
      },
      "execution_count": null,
      "outputs": []
    },
    {
      "cell_type": "markdown",
      "source": [
        "Criando o diretório yolo_dataset"
      ],
      "metadata": {
        "id": "3He5M16hFShq"
      }
    },
    {
      "cell_type": "code",
      "source": [
        "import os\n",
        "from pathlib import Path\n",
        "\n",
        "# Criar o diretório, se não existir\n",
        "data_dir = \"/content/drive/MyDrive/COCO/yolo_dataset\"\n",
        "Path(data_dir).mkdir(parents=True, exist_ok=True)\n",
        "\n",
        "# Conteúdo do arquivo YAML\n",
        "data_yaml = \"\"\"train: /content/drive/MyDrive/COCO/yolo_dataset/train/images\n",
        "val: /content/drive/MyDrive/COCO/yolo_dataset/val/images\n",
        "\n",
        "nc: 2\n",
        "names: [\"pessoa\", \"carro\"]\n",
        "\"\"\"\n",
        "\n",
        "# Criar o arquivo data.yaml\n",
        "yaml_path = os.path.join(data_dir, \"data.yaml\")\n",
        "with open(yaml_path, \"w\") as f:\n",
        "    f.write(data_yaml)\n",
        "\n",
        "print(f\"Arquivo 'data.yaml' criado com sucesso em: {yaml_path}\")\n"
      ],
      "metadata": {
        "id": "62fpfsqQFIHY"
      },
      "execution_count": null,
      "outputs": []
    },
    {
      "cell_type": "markdown",
      "source": [
        "Gerar o .YAML"
      ],
      "metadata": {
        "id": "RijicuH7FYDJ"
      }
    },
    {
      "cell_type": "code",
      "source": [
        "data_yaml = \"\"\"train: /content/drive/MyDrive/COCO/yolo_dataset/train/images\n",
        "val: /content/drive/MyDrive/COCO/yolo_dataset/val/images\n",
        "\n",
        "nc: 2\n",
        "names: [\"pessoa\", \"carro\"]\n",
        "\"\"\"\n",
        "\n",
        "# Criar o arquivo\n",
        "with open(\"/content/drive/MyDrive/COCO/yolo_dataset/data.yaml\", \"w\") as f:\n",
        "    f.write(data_yaml)\n",
        "\n",
        "print(\"Arquivo 'data.yaml' criado com sucesso!\")\n"
      ],
      "metadata": {
        "id": "JmkOq1sjFQ5J"
      },
      "execution_count": null,
      "outputs": []
    },
    {
      "cell_type": "markdown",
      "source": [
        "Preparar a estrutura do diretório e separar as imagens para o treinamento\n"
      ],
      "metadata": {
        "id": "Z72RfqZwFl7L"
      }
    },
    {
      "cell_type": "code",
      "source": [
        "import os\n",
        "from pathlib import Path\n",
        "import shutil\n",
        "import random\n",
        "\n",
        "# Definir os caminhos\n",
        "base_dir = \"/content/drive/MyDrive/COCO/yolo_dataset\"\n",
        "train_images_dir = os.path.join(base_dir, \"train/images\")\n",
        "train_labels_dir = os.path.join(base_dir, \"train/labels\")\n",
        "val_images_dir = os.path.join(base_dir, \"val/images\")\n",
        "val_labels_dir = os.path.join(base_dir, \"val/labels\")\n",
        "\n",
        "# Criar os diretórios\n",
        "for dir_path in [train_images_dir, train_labels_dir, val_images_dir, val_labels_dir]:\n",
        "    Path(dir_path).mkdir(parents=True, exist_ok=True)\n",
        "\n",
        "# Listar todas as imagens e misturar aleatoriamente\n",
        "all_images = os.listdir(\"/content/drive/MyDrive/COCO/yolo_images\")\n",
        "random.shuffle(all_images)\n",
        "\n",
        "# Separar 85% para treino e 15% para validação\n",
        "train_split = int(len(all_images) * 0.85)\n",
        "train_files = all_images[:train_split]\n",
        "val_files = all_images[train_split:]\n",
        "\n",
        "# Função para mover imagens e anotações\n",
        "def move_files(files, dest_img_dir, dest_label_dir):\n",
        "    for file_name in files:\n",
        "        img_path = f\"/content/drive/MyDrive/COCO/yolo_images/{file_name}\"\n",
        "        label_path = img_path.replace(\".jpg\", \".txt\").replace(\"yolo_images\", \"yolo_labels\")\n",
        "\n",
        "        if os.path.exists(img_path):\n",
        "            shutil.move(img_path, os.path.join(dest_img_dir, file_name))\n",
        "\n",
        "        if os.path.exists(label_path):\n",
        "            shutil.move(label_path, os.path.join(dest_label_dir, os.path.basename(label_path)))\n",
        "\n",
        "# Mover arquivos para treino e validação\n",
        "move_files(train_files, train_images_dir, train_labels_dir)\n",
        "move_files(val_files, val_images_dir, val_labels_dir)\n",
        "\n",
        "print(\"Divisão de treino e validação concluída!\")\n"
      ],
      "metadata": {
        "id": "3QINTMwBFe-T"
      },
      "execution_count": null,
      "outputs": []
    },
    {
      "cell_type": "markdown",
      "source": [
        "Definir o modelo YOLO\n"
      ],
      "metadata": {
        "id": "WEq7fj9hGAQl"
      }
    },
    {
      "cell_type": "code",
      "source": [
        "#Verificar se há GPU disponível no colab para usar\n",
        "import torch\n",
        "print(torch.cuda.is_available())  # Se for True, use --device 0\n"
      ],
      "metadata": {
        "id": "s8-zsKMg7FlT"
      },
      "execution_count": null,
      "outputs": []
    },
    {
      "cell_type": "markdown",
      "source": [
        "Vamos rodar o modelo. Aqui eu precisei ajustar alguns parametros do treinamento para facilita-lo, devido ao desempenho."
      ],
      "metadata": {
        "id": "9m7HYAwWIN0K"
      }
    },
    {
      "cell_type": "code",
      "source": [
        "# Desativar Weights & Biases e rodar o treinamento\n",
        "%env WANDB_DISABLED=True\n",
        "!python train.py --img 200 --batch 8 --epochs 8 --data /content/drive/MyDrive/COCO/yolo_dataset/data.yaml --weights yolov5s.pt --device cpu --nosave --cache  --name my_yolo --project /content/drive/MyDrive/COCO/yolo_training --freeze 10\n",
        "\n"
      ],
      "metadata": {
        "id": "hqx62px6kWBn"
      },
      "execution_count": null,
      "outputs": []
    },
    {
      "cell_type": "markdown",
      "source": [
        "Modelo treinado com o Transfer Learning. Agora vamos validar testando uma imagem."
      ],
      "metadata": {
        "id": "H3LGD99y-iWC"
      }
    },
    {
      "cell_type": "code",
      "source": [
        "!python detect.py --weights /content/drive/MyDrive/COCO/yolo_training/my_yolo7/weights/best.pt --img 320 --conf 0.5 --source /content/drive/MyDrive/COCO/yolo_images/teste1.jpg --device cpu\n"
      ],
      "metadata": {
        "id": "NFNKcxVy7k2y"
      },
      "execution_count": null,
      "outputs": []
    },
    {
      "cell_type": "markdown",
      "source": [
        "Vamos utilizar uma biblioteca para visualizar a imagem teste e validar se houve a detecção!"
      ],
      "metadata": {
        "id": "Zy6bymZ6NLlW"
      }
    },
    {
      "cell_type": "code",
      "source": [
        "from IPython.display import display\n",
        "from PIL import Image\n",
        "\n",
        "image_path = \"runs/detect/exp4/teste1.jpg\"  # Ajuste caso o nome seja diferente\n",
        "display(Image.open(image_path))\n"
      ],
      "metadata": {
        "id": "5yn0lAHv-YA8"
      },
      "execution_count": null,
      "outputs": []
    }
  ]
}