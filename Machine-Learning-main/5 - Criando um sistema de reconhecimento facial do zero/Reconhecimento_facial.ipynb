{
  "nbformat": 4,
  "nbformat_minor": 0,
  "metadata": {
    "colab": {
      "provenance": [],
      "gpuType": "T4"
    },
    "kernelspec": {
      "name": "python3",
      "display_name": "Python 3"
    },
    "language_info": {
      "name": "python"
    },
    "accelerator": "GPU"
  },
  "cells": [
    {
      "cell_type": "code",
      "source": [
        "# Instalar e importar o YOLOv8\n",
        "!pip install ultralytics\n",
        "from ultralytics import YOLO\n",
        "import torch\n",
        "import os"
      ],
      "metadata": {
        "colab": {
          "base_uri": "https://localhost:8080/"
        },
        "id": "tTwtbR6sTlsu",
        "outputId": "2dc3cf06-121a-4339-f982-93066854a866"
      },
      "execution_count": null,
      "outputs": [
        {
          "output_type": "stream",
          "name": "stdout",
          "text": [
            "Collecting ultralytics\n",
            "  Downloading ultralytics-8.3.74-py3-none-any.whl.metadata (35 kB)\n",
            "Requirement already satisfied: numpy<=2.1.1,>=1.23.0 in /usr/local/lib/python3.11/dist-packages (from ultralytics) (1.26.4)\n",
            "Requirement already satisfied: matplotlib>=3.3.0 in /usr/local/lib/python3.11/dist-packages (from ultralytics) (3.10.0)\n",
            "Requirement already satisfied: opencv-python>=4.6.0 in /usr/local/lib/python3.11/dist-packages (from ultralytics) (4.11.0.86)\n",
            "Requirement already satisfied: pillow>=7.1.2 in /usr/local/lib/python3.11/dist-packages (from ultralytics) (11.1.0)\n",
            "Requirement already satisfied: pyyaml>=5.3.1 in /usr/local/lib/python3.11/dist-packages (from ultralytics) (6.0.2)\n",
            "Requirement already satisfied: requests>=2.23.0 in /usr/local/lib/python3.11/dist-packages (from ultralytics) (2.32.3)\n",
            "Requirement already satisfied: scipy>=1.4.1 in /usr/local/lib/python3.11/dist-packages (from ultralytics) (1.13.1)\n",
            "Requirement already satisfied: torch>=1.8.0 in /usr/local/lib/python3.11/dist-packages (from ultralytics) (2.5.1+cu124)\n",
            "Requirement already satisfied: torchvision>=0.9.0 in /usr/local/lib/python3.11/dist-packages (from ultralytics) (0.20.1+cu124)\n",
            "Requirement already satisfied: tqdm>=4.64.0 in /usr/local/lib/python3.11/dist-packages (from ultralytics) (4.67.1)\n",
            "Requirement already satisfied: psutil in /usr/local/lib/python3.11/dist-packages (from ultralytics) (5.9.5)\n",
            "Requirement already satisfied: py-cpuinfo in /usr/local/lib/python3.11/dist-packages (from ultralytics) (9.0.0)\n",
            "Requirement already satisfied: pandas>=1.1.4 in /usr/local/lib/python3.11/dist-packages (from ultralytics) (2.2.2)\n",
            "Requirement already satisfied: seaborn>=0.11.0 in /usr/local/lib/python3.11/dist-packages (from ultralytics) (0.13.2)\n",
            "Collecting ultralytics-thop>=2.0.0 (from ultralytics)\n",
            "  Downloading ultralytics_thop-2.0.14-py3-none-any.whl.metadata (9.4 kB)\n",
            "Requirement already satisfied: contourpy>=1.0.1 in /usr/local/lib/python3.11/dist-packages (from matplotlib>=3.3.0->ultralytics) (1.3.1)\n",
            "Requirement already satisfied: cycler>=0.10 in /usr/local/lib/python3.11/dist-packages (from matplotlib>=3.3.0->ultralytics) (0.12.1)\n",
            "Requirement already satisfied: fonttools>=4.22.0 in /usr/local/lib/python3.11/dist-packages (from matplotlib>=3.3.0->ultralytics) (4.55.8)\n",
            "Requirement already satisfied: kiwisolver>=1.3.1 in /usr/local/lib/python3.11/dist-packages (from matplotlib>=3.3.0->ultralytics) (1.4.8)\n",
            "Requirement already satisfied: packaging>=20.0 in /usr/local/lib/python3.11/dist-packages (from matplotlib>=3.3.0->ultralytics) (24.2)\n",
            "Requirement already satisfied: pyparsing>=2.3.1 in /usr/local/lib/python3.11/dist-packages (from matplotlib>=3.3.0->ultralytics) (3.2.1)\n",
            "Requirement already satisfied: python-dateutil>=2.7 in /usr/local/lib/python3.11/dist-packages (from matplotlib>=3.3.0->ultralytics) (2.8.2)\n",
            "Requirement already satisfied: pytz>=2020.1 in /usr/local/lib/python3.11/dist-packages (from pandas>=1.1.4->ultralytics) (2025.1)\n",
            "Requirement already satisfied: tzdata>=2022.7 in /usr/local/lib/python3.11/dist-packages (from pandas>=1.1.4->ultralytics) (2025.1)\n",
            "Requirement already satisfied: charset-normalizer<4,>=2 in /usr/local/lib/python3.11/dist-packages (from requests>=2.23.0->ultralytics) (3.4.1)\n",
            "Requirement already satisfied: idna<4,>=2.5 in /usr/local/lib/python3.11/dist-packages (from requests>=2.23.0->ultralytics) (3.10)\n",
            "Requirement already satisfied: urllib3<3,>=1.21.1 in /usr/local/lib/python3.11/dist-packages (from requests>=2.23.0->ultralytics) (2.3.0)\n",
            "Requirement already satisfied: certifi>=2017.4.17 in /usr/local/lib/python3.11/dist-packages (from requests>=2.23.0->ultralytics) (2025.1.31)\n",
            "Requirement already satisfied: filelock in /usr/local/lib/python3.11/dist-packages (from torch>=1.8.0->ultralytics) (3.17.0)\n",
            "Requirement already satisfied: typing-extensions>=4.8.0 in /usr/local/lib/python3.11/dist-packages (from torch>=1.8.0->ultralytics) (4.12.2)\n",
            "Requirement already satisfied: networkx in /usr/local/lib/python3.11/dist-packages (from torch>=1.8.0->ultralytics) (3.4.2)\n",
            "Requirement already satisfied: jinja2 in /usr/local/lib/python3.11/dist-packages (from torch>=1.8.0->ultralytics) (3.1.5)\n",
            "Requirement already satisfied: fsspec in /usr/local/lib/python3.11/dist-packages (from torch>=1.8.0->ultralytics) (2024.10.0)\n",
            "Collecting nvidia-cuda-nvrtc-cu12==12.4.127 (from torch>=1.8.0->ultralytics)\n",
            "  Downloading nvidia_cuda_nvrtc_cu12-12.4.127-py3-none-manylinux2014_x86_64.whl.metadata (1.5 kB)\n",
            "Collecting nvidia-cuda-runtime-cu12==12.4.127 (from torch>=1.8.0->ultralytics)\n",
            "  Downloading nvidia_cuda_runtime_cu12-12.4.127-py3-none-manylinux2014_x86_64.whl.metadata (1.5 kB)\n",
            "Collecting nvidia-cuda-cupti-cu12==12.4.127 (from torch>=1.8.0->ultralytics)\n",
            "  Downloading nvidia_cuda_cupti_cu12-12.4.127-py3-none-manylinux2014_x86_64.whl.metadata (1.6 kB)\n",
            "Collecting nvidia-cudnn-cu12==9.1.0.70 (from torch>=1.8.0->ultralytics)\n",
            "  Downloading nvidia_cudnn_cu12-9.1.0.70-py3-none-manylinux2014_x86_64.whl.metadata (1.6 kB)\n",
            "Collecting nvidia-cublas-cu12==12.4.5.8 (from torch>=1.8.0->ultralytics)\n",
            "  Downloading nvidia_cublas_cu12-12.4.5.8-py3-none-manylinux2014_x86_64.whl.metadata (1.5 kB)\n",
            "Collecting nvidia-cufft-cu12==11.2.1.3 (from torch>=1.8.0->ultralytics)\n",
            "  Downloading nvidia_cufft_cu12-11.2.1.3-py3-none-manylinux2014_x86_64.whl.metadata (1.5 kB)\n",
            "Collecting nvidia-curand-cu12==10.3.5.147 (from torch>=1.8.0->ultralytics)\n",
            "  Downloading nvidia_curand_cu12-10.3.5.147-py3-none-manylinux2014_x86_64.whl.metadata (1.5 kB)\n",
            "Collecting nvidia-cusolver-cu12==11.6.1.9 (from torch>=1.8.0->ultralytics)\n",
            "  Downloading nvidia_cusolver_cu12-11.6.1.9-py3-none-manylinux2014_x86_64.whl.metadata (1.6 kB)\n",
            "Collecting nvidia-cusparse-cu12==12.3.1.170 (from torch>=1.8.0->ultralytics)\n",
            "  Downloading nvidia_cusparse_cu12-12.3.1.170-py3-none-manylinux2014_x86_64.whl.metadata (1.6 kB)\n",
            "Requirement already satisfied: nvidia-nccl-cu12==2.21.5 in /usr/local/lib/python3.11/dist-packages (from torch>=1.8.0->ultralytics) (2.21.5)\n",
            "Requirement already satisfied: nvidia-nvtx-cu12==12.4.127 in /usr/local/lib/python3.11/dist-packages (from torch>=1.8.0->ultralytics) (12.4.127)\n",
            "Collecting nvidia-nvjitlink-cu12==12.4.127 (from torch>=1.8.0->ultralytics)\n",
            "  Downloading nvidia_nvjitlink_cu12-12.4.127-py3-none-manylinux2014_x86_64.whl.metadata (1.5 kB)\n",
            "Requirement already satisfied: triton==3.1.0 in /usr/local/lib/python3.11/dist-packages (from torch>=1.8.0->ultralytics) (3.1.0)\n",
            "Requirement already satisfied: sympy==1.13.1 in /usr/local/lib/python3.11/dist-packages (from torch>=1.8.0->ultralytics) (1.13.1)\n",
            "Requirement already satisfied: mpmath<1.4,>=1.1.0 in /usr/local/lib/python3.11/dist-packages (from sympy==1.13.1->torch>=1.8.0->ultralytics) (1.3.0)\n",
            "Requirement already satisfied: six>=1.5 in /usr/local/lib/python3.11/dist-packages (from python-dateutil>=2.7->matplotlib>=3.3.0->ultralytics) (1.17.0)\n",
            "Requirement already satisfied: MarkupSafe>=2.0 in /usr/local/lib/python3.11/dist-packages (from jinja2->torch>=1.8.0->ultralytics) (3.0.2)\n",
            "Downloading ultralytics-8.3.74-py3-none-any.whl (914 kB)\n",
            "\u001b[2K   \u001b[90m━━━━━━━━━━━━━━━━━━━━━━━━━━━━━━━━━━━━━━━━\u001b[0m \u001b[32m914.7/914.7 kB\u001b[0m \u001b[31m20.1 MB/s\u001b[0m eta \u001b[36m0:00:00\u001b[0m\n",
            "\u001b[?25hDownloading nvidia_cublas_cu12-12.4.5.8-py3-none-manylinux2014_x86_64.whl (363.4 MB)\n",
            "\u001b[2K   \u001b[90m━━━━━━━━━━━━━━━━━━━━━━━━━━━━━━━━━━━━━━━━\u001b[0m \u001b[32m363.4/363.4 MB\u001b[0m \u001b[31m4.2 MB/s\u001b[0m eta \u001b[36m0:00:00\u001b[0m\n",
            "\u001b[?25hDownloading nvidia_cuda_cupti_cu12-12.4.127-py3-none-manylinux2014_x86_64.whl (13.8 MB)\n",
            "\u001b[2K   \u001b[90m━━━━━━━━━━━━━━━━━━━━━━━━━━━━━━━━━━━━━━━━\u001b[0m \u001b[32m13.8/13.8 MB\u001b[0m \u001b[31m68.9 MB/s\u001b[0m eta \u001b[36m0:00:00\u001b[0m\n",
            "\u001b[?25hDownloading nvidia_cuda_nvrtc_cu12-12.4.127-py3-none-manylinux2014_x86_64.whl (24.6 MB)\n",
            "\u001b[2K   \u001b[90m━━━━━━━━━━━━━━━━━━━━━━━━━━━━━━━━━━━━━━━━\u001b[0m \u001b[32m24.6/24.6 MB\u001b[0m \u001b[31m63.7 MB/s\u001b[0m eta \u001b[36m0:00:00\u001b[0m\n",
            "\u001b[?25hDownloading nvidia_cuda_runtime_cu12-12.4.127-py3-none-manylinux2014_x86_64.whl (883 kB)\n",
            "\u001b[2K   \u001b[90m━━━━━━━━━━━━━━━━━━━━━━━━━━━━━━━━━━━━━━━━\u001b[0m \u001b[32m883.7/883.7 kB\u001b[0m \u001b[31m46.5 MB/s\u001b[0m eta \u001b[36m0:00:00\u001b[0m\n",
            "\u001b[?25hDownloading nvidia_cudnn_cu12-9.1.0.70-py3-none-manylinux2014_x86_64.whl (664.8 MB)\n",
            "\u001b[2K   \u001b[90m━━━━━━━━━━━━━━━━━━━━━━━━━━━━━━━━━━━━━━━━\u001b[0m \u001b[32m664.8/664.8 MB\u001b[0m \u001b[31m2.8 MB/s\u001b[0m eta \u001b[36m0:00:00\u001b[0m\n",
            "\u001b[?25hDownloading nvidia_cufft_cu12-11.2.1.3-py3-none-manylinux2014_x86_64.whl (211.5 MB)\n",
            "\u001b[2K   \u001b[90m━━━━━━━━━━━━━━━━━━━━━━━━━━━━━━━━━━━━━━━━\u001b[0m \u001b[32m211.5/211.5 MB\u001b[0m \u001b[31m6.4 MB/s\u001b[0m eta \u001b[36m0:00:00\u001b[0m\n",
            "\u001b[?25hDownloading nvidia_curand_cu12-10.3.5.147-py3-none-manylinux2014_x86_64.whl (56.3 MB)\n",
            "\u001b[2K   \u001b[90m━━━━━━━━━━━━━━━━━━━━━━━━━━━━━━━━━━━━━━━━\u001b[0m \u001b[32m56.3/56.3 MB\u001b[0m \u001b[31m13.0 MB/s\u001b[0m eta \u001b[36m0:00:00\u001b[0m\n",
            "\u001b[?25hDownloading nvidia_cusolver_cu12-11.6.1.9-py3-none-manylinux2014_x86_64.whl (127.9 MB)\n",
            "\u001b[2K   \u001b[90m━━━━━━━━━━━━━━━━━━━━━━━━━━━━━━━━━━━━━━━━\u001b[0m \u001b[32m127.9/127.9 MB\u001b[0m \u001b[31m7.1 MB/s\u001b[0m eta \u001b[36m0:00:00\u001b[0m\n",
            "\u001b[?25hDownloading nvidia_cusparse_cu12-12.3.1.170-py3-none-manylinux2014_x86_64.whl (207.5 MB)\n",
            "\u001b[2K   \u001b[90m━━━━━━━━━━━━━━━━━━━━━━━━━━━━━━━━━━━━━━━━\u001b[0m \u001b[32m207.5/207.5 MB\u001b[0m \u001b[31m5.9 MB/s\u001b[0m eta \u001b[36m0:00:00\u001b[0m\n",
            "\u001b[?25hDownloading nvidia_nvjitlink_cu12-12.4.127-py3-none-manylinux2014_x86_64.whl (21.1 MB)\n",
            "\u001b[2K   \u001b[90m━━━━━━━━━━━━━━━━━━━━━━━━━━━━━━━━━━━━━━━━\u001b[0m \u001b[32m21.1/21.1 MB\u001b[0m \u001b[31m60.2 MB/s\u001b[0m eta \u001b[36m0:00:00\u001b[0m\n",
            "\u001b[?25hDownloading ultralytics_thop-2.0.14-py3-none-any.whl (26 kB)\n",
            "Installing collected packages: nvidia-nvjitlink-cu12, nvidia-curand-cu12, nvidia-cufft-cu12, nvidia-cuda-runtime-cu12, nvidia-cuda-nvrtc-cu12, nvidia-cuda-cupti-cu12, nvidia-cublas-cu12, nvidia-cusparse-cu12, nvidia-cudnn-cu12, nvidia-cusolver-cu12, ultralytics-thop, ultralytics\n",
            "  Attempting uninstall: nvidia-nvjitlink-cu12\n",
            "    Found existing installation: nvidia-nvjitlink-cu12 12.5.82\n",
            "    Uninstalling nvidia-nvjitlink-cu12-12.5.82:\n",
            "      Successfully uninstalled nvidia-nvjitlink-cu12-12.5.82\n",
            "  Attempting uninstall: nvidia-curand-cu12\n",
            "    Found existing installation: nvidia-curand-cu12 10.3.6.82\n",
            "    Uninstalling nvidia-curand-cu12-10.3.6.82:\n",
            "      Successfully uninstalled nvidia-curand-cu12-10.3.6.82\n",
            "  Attempting uninstall: nvidia-cufft-cu12\n",
            "    Found existing installation: nvidia-cufft-cu12 11.2.3.61\n",
            "    Uninstalling nvidia-cufft-cu12-11.2.3.61:\n",
            "      Successfully uninstalled nvidia-cufft-cu12-11.2.3.61\n",
            "  Attempting uninstall: nvidia-cuda-runtime-cu12\n",
            "    Found existing installation: nvidia-cuda-runtime-cu12 12.5.82\n",
            "    Uninstalling nvidia-cuda-runtime-cu12-12.5.82:\n",
            "      Successfully uninstalled nvidia-cuda-runtime-cu12-12.5.82\n",
            "  Attempting uninstall: nvidia-cuda-nvrtc-cu12\n",
            "    Found existing installation: nvidia-cuda-nvrtc-cu12 12.5.82\n",
            "    Uninstalling nvidia-cuda-nvrtc-cu12-12.5.82:\n",
            "      Successfully uninstalled nvidia-cuda-nvrtc-cu12-12.5.82\n",
            "  Attempting uninstall: nvidia-cuda-cupti-cu12\n",
            "    Found existing installation: nvidia-cuda-cupti-cu12 12.5.82\n",
            "    Uninstalling nvidia-cuda-cupti-cu12-12.5.82:\n",
            "      Successfully uninstalled nvidia-cuda-cupti-cu12-12.5.82\n",
            "  Attempting uninstall: nvidia-cublas-cu12\n",
            "    Found existing installation: nvidia-cublas-cu12 12.5.3.2\n",
            "    Uninstalling nvidia-cublas-cu12-12.5.3.2:\n",
            "      Successfully uninstalled nvidia-cublas-cu12-12.5.3.2\n",
            "  Attempting uninstall: nvidia-cusparse-cu12\n",
            "    Found existing installation: nvidia-cusparse-cu12 12.5.1.3\n",
            "    Uninstalling nvidia-cusparse-cu12-12.5.1.3:\n",
            "      Successfully uninstalled nvidia-cusparse-cu12-12.5.1.3\n",
            "  Attempting uninstall: nvidia-cudnn-cu12\n",
            "    Found existing installation: nvidia-cudnn-cu12 9.3.0.75\n",
            "    Uninstalling nvidia-cudnn-cu12-9.3.0.75:\n",
            "      Successfully uninstalled nvidia-cudnn-cu12-9.3.0.75\n",
            "  Attempting uninstall: nvidia-cusolver-cu12\n",
            "    Found existing installation: nvidia-cusolver-cu12 11.6.3.83\n",
            "    Uninstalling nvidia-cusolver-cu12-11.6.3.83:\n",
            "      Successfully uninstalled nvidia-cusolver-cu12-11.6.3.83\n",
            "Successfully installed nvidia-cublas-cu12-12.4.5.8 nvidia-cuda-cupti-cu12-12.4.127 nvidia-cuda-nvrtc-cu12-12.4.127 nvidia-cuda-runtime-cu12-12.4.127 nvidia-cudnn-cu12-9.1.0.70 nvidia-cufft-cu12-11.2.1.3 nvidia-curand-cu12-10.3.5.147 nvidia-cusolver-cu12-11.6.1.9 nvidia-cusparse-cu12-12.3.1.170 nvidia-nvjitlink-cu12-12.4.127 ultralytics-8.3.74 ultralytics-thop-2.0.14\n",
            "Creating new Ultralytics Settings v0.0.6 file ✅ \n",
            "View Ultralytics Settings with 'yolo settings' or at '/root/.config/Ultralytics/settings.json'\n",
            "Update Settings with 'yolo settings key=value', i.e. 'yolo settings runs_dir=path/to/dir'. For help see https://docs.ultralytics.com/quickstart/#ultralytics-settings.\n"
          ]
        }
      ]
    },
    {
      "cell_type": "code",
      "source": [
        "# Criar a pasta do dataset\n",
        "!mkdir -p dataset\n"
      ],
      "metadata": {
        "id": "EjoWbMJjVeA1"
      },
      "execution_count": null,
      "outputs": []
    },
    {
      "cell_type": "code",
      "source": [
        "import os\n",
        "\n",
        "# Criar diretório para armazenar o dataset\n",
        "dataset_path = \"dataset\"\n",
        "os.makedirs(dataset_path, exist_ok=True)\n",
        "\n",
        "# Baixar e extrair o dataset\n",
        "dataset_url = \"https://universe.roboflow.com/ds/HR8ew3wt9b?key=44cQvFuJk2\"\n",
        "os.system(f\"curl -L '{dataset_url}' -o {dataset_path}/roboflow.zip\")\n",
        "os.system(f\"unzip {dataset_path}/roboflow.zip -d {dataset_path}\")\n",
        "os.system(f\"rm {dataset_path}/roboflow.zip\")\n",
        "\n",
        "# Verificar se os arquivos foram extraídos corretamente\n",
        "print(\"Arquivos no diretório dataset:\", os.listdir(dataset_path))\n"
      ],
      "metadata": {
        "colab": {
          "base_uri": "https://localhost:8080/"
        },
        "id": "tyfx06xuVjCG",
        "outputId": "0602fd01-afcc-46b6-868f-56a97cdfa33b"
      },
      "execution_count": null,
      "outputs": [
        {
          "output_type": "stream",
          "name": "stdout",
          "text": [
            "Arquivos no diretório dataset: ['README.roboflow.txt', 'test', 'train', 'README.dataset.txt', 'data.yaml', 'valid']\n"
          ]
        }
      ]
    },
    {
      "cell_type": "code",
      "source": [
        "# Caminho para o dataset extraído\n",
        "DATASET_PATH = \"dataset\"  # Ajuste conforme necessário"
      ],
      "metadata": {
        "id": "OM1pMgFCVnHf"
      },
      "execution_count": null,
      "outputs": []
    },
    {
      "cell_type": "code",
      "source": [
        "import os\n",
        "# Caminho do arquivo de configuração do dataset\n",
        "data_yaml = os.path.join(DATASET_PATH, \"data.yaml\")\n",
        "print(f\"Arquivo de configuração: {data_yaml}\")"
      ],
      "metadata": {
        "colab": {
          "base_uri": "https://localhost:8080/"
        },
        "id": "daIwbbyUVsu4",
        "outputId": "65bb2600-b038-4cde-dc0e-025a60f0b4b8"
      },
      "execution_count": null,
      "outputs": [
        {
          "output_type": "stream",
          "name": "stdout",
          "text": [
            "Arquivo de configuração: dataset/data.yaml\n"
          ]
        }
      ]
    },
    {
      "cell_type": "code",
      "source": [
        "# Baixar o modelo YOLOv8 pré-treinado\n",
        "model = YOLO(\"yolov8n.pt\")  # Versão \"nano\" para ser mais leve"
      ],
      "metadata": {
        "colab": {
          "base_uri": "https://localhost:8080/"
        },
        "id": "AH-2skSWV2JG",
        "outputId": "322a8468-5d38-43fe-f1a4-362ce8f7d4e8"
      },
      "execution_count": null,
      "outputs": [
        {
          "output_type": "stream",
          "name": "stdout",
          "text": [
            "Downloading https://github.com/ultralytics/assets/releases/download/v8.3.0/yolov8n.pt to 'yolov8n.pt'...\n"
          ]
        },
        {
          "output_type": "stream",
          "name": "stderr",
          "text": [
            "100%|██████████| 6.25M/6.25M [00:00<00:00, 122MB/s]\n"
          ]
        }
      ]
    },
    {
      "cell_type": "code",
      "source": [
        "# Verificar se temos GPU disponível\n",
        "device = 'cuda' if torch.cuda.is_available() else 'cpu'\n",
        "print(f'Usando dispositivo: {device}')"
      ],
      "metadata": {
        "colab": {
          "base_uri": "https://localhost:8080/"
        },
        "id": "wGWH2hpmWrL2",
        "outputId": "2197a1d2-a328-4055-be53-cff2144809a6"
      },
      "execution_count": null,
      "outputs": [
        {
          "output_type": "stream",
          "name": "stdout",
          "text": [
            "Usando dispositivo: cuda\n"
          ]
        }
      ]
    },
    {
      "cell_type": "code",
      "source": [
        "import os\n",
        "\n",
        "dataset_path = \"dataset\"  # Ajuste caso necessário\n",
        "print(\"Conteúdo do dataset:\", os.listdir(dataset_path))\n"
      ],
      "metadata": {
        "colab": {
          "base_uri": "https://localhost:8080/"
        },
        "id": "V7C7CMH1YngG",
        "outputId": "46c98281-f8e4-42d0-96a0-8f114e26a516"
      },
      "execution_count": null,
      "outputs": [
        {
          "output_type": "stream",
          "name": "stdout",
          "text": [
            "Conteúdo do dataset: ['README.roboflow.txt', 'test', 'train', 'README.dataset.txt', 'data.yaml', 'valid']\n"
          ]
        }
      ]
    },
    {
      "cell_type": "code",
      "source": [
        "# Verificar a estrutura dos diretórios extraídos\n",
        "for root, dirs, files in os.walk(dataset_path):\n",
        "    print(f\"Diretório: {root}\")\n",
        "    print(f\"Subdiretórios: {dirs}\")\n",
        "    print(f\"Arquivos: {files}\")\n"
      ],
      "metadata": {
        "colab": {
          "base_uri": "https://localhost:8080/"
        },
        "id": "XaIrqbzGar_G",
        "outputId": "688e2fd2-0bd6-4958-eaa9-b7d5ab6c1d57"
      },
      "execution_count": null,
      "outputs": [
        {
          "output_type": "stream",
          "name": "stdout",
          "text": [
            "Diretório: dataset\n",
            "Subdiretórios: ['test', 'train', 'valid']\n",
            "Arquivos: ['README.roboflow.txt', 'README.dataset.txt', 'data.yaml']\n",
            "Diretório: dataset/test\n",
            "Subdiretórios: ['images', 'labels']\n",
            "Arquivos: []\n",
            "Diretório: dataset/test/images\n",
            "Subdiretórios: []\n",
            "Arquivos: ['Jon_Image_29_jpg.rf.2b9de4650948f54f1bc50d1cbb5c2c75.jpg', 'Daenerys_Image_62_jpg.rf.84be740d578b06179e5ef9f686ffcb51.jpg', 'Daenerys_Image_91_jpg.rf.24193ad9ef9c7fbac91815166d3eb5b9.jpg', 'Robb_Image_5_jpg.rf.165354a6efef3ad3a6e59c8b3370fbef.jpg', 'Jon_Image_37_jpg.rf.399007d76c81f67a2028274445d2fe0f.jpg', 'Tyrion_Image_30_jpg.rf.3d5dbaac05a31a077a231eabcaad3f7d.jpg', 'Jon_Image_50_jpg.rf.10ccc44602f9848c0a5513154e7af8ea.jpg', 'Robb_Image_33_png.rf.450c9d180ad105b3f0aa6ef1a972e93b.jpg', 'Jon_Image_8_jpg.rf.4c7df3b5e9995e2c28484c96d5367057.jpg', 'Sansa_Image_6_jpg.rf.5fb31d3d144d9a0ab4098b91563a1a40.jpg', 'Daenerys_Image_25_jpg.rf.d0d161dca50ca2494ebe53c60639b986.jpg', 'Sansa_Image_63_png.rf.128ca225816183bd7b3d6972edb58ae3.jpg', 'Tyrion_Image_20_jpg.rf.40d2efb99ded74dbe57845acee193b16.jpg', 'Jon_Image_17_jpg.rf.a50f00cd18abb366e507b39cf31b7746.jpg', 'Robb_Image_13_jpg.rf.586bf84ed53575c5a87697e66ec08f87.jpg', 'Jon_Image_15_jpg.rf.0df161dcf6490226b67ef0a9292b7868.jpg', 'Sansa_Image_51_jpg.rf.d52afc4340aa51220918cda90a95c083.jpg', 'Daenerys_Image_10_jpg.rf.eff0a699d90e3f527387d1c61ac281e2.jpg', 'Tyrion_Image_86_jpg.rf.08813dcc62977ac08633e892adcb545c.jpg', 'Jon_Image_31_jpg.rf.da2ff1d5c7c0c4deabf2ba60441568cc.jpg', 'Daenerys_Image_90_png.rf.76634c47dab9f7925444b80a293c2556.jpg', 'Robb_Image_41_jpg.rf.17b52f817406d7fd17df5cea8ce1e9e0.jpg', 'Robb_Image_24_png.rf.ba3b223867073399eb47d20cd75269b9.jpg', 'Tyrion_Image_11_png.rf.ccbb6af413f33dbcb10e07fa83ef6c83.jpg', 'Daenerys_Image_72_jpg.rf.f9fba98c63d5bfcf626e158bb2ad168f.jpg', 'Daenerys_Image_95_jpg.rf.9baa53428e4d81c0a2409c21447dbd75.jpg', 'Jon_Image_91_jpg.rf.d29ff3a5400289b4c0a5bfaadc8d7b48.jpg', 'Robb_Image_2_jpg.rf.39d292ff274aae7e1946c4860a12e8d9.jpg', 'Tyrion_Image_74_png.rf.e23094416256cf9fc9474c82084e6b0a.jpg', 'Robb_Image_52_jpg.rf.f509fa2d89253c2b92be8f10241ee3e6.jpg', 'Daenerys_Image_70_jpg.rf.3075aca98977d4582e26cc504ed7c319.jpg', 'Sansa_Image_12_jpg.rf.aeec02ebf14b2409a17cbcddb6476e68.jpg', 'Tyrion_Image_54_jpg.rf.f78b08077e49dcdb666b80553b3015ec.jpg', 'Tyrion_Image_32_jpg.rf.66e7a0ebeedb11e8b1f95cc18f7fe09d.jpg', 'Tyrion_Image_61_jpg.rf.84477a93cff58f0619e54a049f59fcbb.jpg', 'Robb_Image_95_jpg.rf.591ebc91d4f0f4d32da364a331fe6c66.jpg', 'Jon_Image_6_jpg.rf.2dbff6dd3e7e17db321560181b5f5703.jpg', 'Sansa_Image_83_jpg.rf.561870ca6cee2c3a500b808d56af79b1.jpg', 'Daenerys_Image_31_jpg.rf.3fcc79b0a492b4d1d3114cd2c0532cd5.jpg']\n",
            "Diretório: dataset/test/labels\n",
            "Subdiretórios: []\n",
            "Arquivos: ['Daenerys_Image_91_jpg.rf.24193ad9ef9c7fbac91815166d3eb5b9.txt', 'Robb_Image_2_jpg.rf.39d292ff274aae7e1946c4860a12e8d9.txt', 'Jon_Image_8_jpg.rf.4c7df3b5e9995e2c28484c96d5367057.txt', 'Jon_Image_50_jpg.rf.10ccc44602f9848c0a5513154e7af8ea.txt', 'Jon_Image_29_jpg.rf.2b9de4650948f54f1bc50d1cbb5c2c75.txt', 'Daenerys_Image_95_jpg.rf.9baa53428e4d81c0a2409c21447dbd75.txt', 'Robb_Image_41_jpg.rf.17b52f817406d7fd17df5cea8ce1e9e0.txt', 'Jon_Image_17_jpg.rf.a50f00cd18abb366e507b39cf31b7746.txt', 'Tyrion_Image_11_png.rf.ccbb6af413f33dbcb10e07fa83ef6c83.txt', 'Robb_Image_33_png.rf.450c9d180ad105b3f0aa6ef1a972e93b.txt', 'Robb_Image_13_jpg.rf.586bf84ed53575c5a87697e66ec08f87.txt', 'Sansa_Image_83_jpg.rf.561870ca6cee2c3a500b808d56af79b1.txt', 'Robb_Image_24_png.rf.ba3b223867073399eb47d20cd75269b9.txt', 'Jon_Image_6_jpg.rf.2dbff6dd3e7e17db321560181b5f5703.txt', 'Tyrion_Image_74_png.rf.e23094416256cf9fc9474c82084e6b0a.txt', 'Daenerys_Image_10_jpg.rf.eff0a699d90e3f527387d1c61ac281e2.txt', 'Jon_Image_31_jpg.rf.da2ff1d5c7c0c4deabf2ba60441568cc.txt', 'Sansa_Image_51_jpg.rf.d52afc4340aa51220918cda90a95c083.txt', 'Sansa_Image_6_jpg.rf.5fb31d3d144d9a0ab4098b91563a1a40.txt', 'Sansa_Image_63_png.rf.128ca225816183bd7b3d6972edb58ae3.txt', 'Jon_Image_15_jpg.rf.0df161dcf6490226b67ef0a9292b7868.txt', 'Daenerys_Image_62_jpg.rf.84be740d578b06179e5ef9f686ffcb51.txt', 'Tyrion_Image_30_jpg.rf.3d5dbaac05a31a077a231eabcaad3f7d.txt', 'Sansa_Image_12_jpg.rf.aeec02ebf14b2409a17cbcddb6476e68.txt', 'Daenerys_Image_25_jpg.rf.d0d161dca50ca2494ebe53c60639b986.txt', 'Robb_Image_52_jpg.rf.f509fa2d89253c2b92be8f10241ee3e6.txt', 'Tyrion_Image_32_jpg.rf.66e7a0ebeedb11e8b1f95cc18f7fe09d.txt', 'Tyrion_Image_86_jpg.rf.08813dcc62977ac08633e892adcb545c.txt', 'Jon_Image_91_jpg.rf.d29ff3a5400289b4c0a5bfaadc8d7b48.txt', 'Jon_Image_37_jpg.rf.399007d76c81f67a2028274445d2fe0f.txt', 'Tyrion_Image_61_jpg.rf.84477a93cff58f0619e54a049f59fcbb.txt', 'Daenerys_Image_31_jpg.rf.3fcc79b0a492b4d1d3114cd2c0532cd5.txt', 'Robb_Image_95_jpg.rf.591ebc91d4f0f4d32da364a331fe6c66.txt', 'Tyrion_Image_54_jpg.rf.f78b08077e49dcdb666b80553b3015ec.txt', 'Robb_Image_5_jpg.rf.165354a6efef3ad3a6e59c8b3370fbef.txt', 'Daenerys_Image_70_jpg.rf.3075aca98977d4582e26cc504ed7c319.txt', 'Tyrion_Image_20_jpg.rf.40d2efb99ded74dbe57845acee193b16.txt', 'Daenerys_Image_72_jpg.rf.f9fba98c63d5bfcf626e158bb2ad168f.txt', 'Daenerys_Image_90_png.rf.76634c47dab9f7925444b80a293c2556.txt']\n",
            "Diretório: dataset/train\n",
            "Subdiretórios: ['images', 'labels']\n",
            "Arquivos: []\n",
            "Diretório: dataset/train/images\n",
            "Subdiretórios: []\n",
            "Arquivos: ['Sansa_Image_47_jpg.rf.40b2fa790a251a6fcb083488f57f9c7e.jpg', 'Robb_Image_45_jpg.rf.5f95eb0e163761eca25db73babc1f5d5.jpg', 'Jon_Image_36_jpg.rf.baed210a3d2bcfc81cd3fd537281d5e3.jpg', 'Jon_Image_32_jpg.rf.7652af54d6615e5b9d4e583677deebd8.jpg', 'Sansa_Image_16_jpg.rf.586517f5bd71fc7dbe9ebfc54d96cdf8.jpg', 'Daenerys_Image_92_png.rf.91b84a69ec743138f55de00a0a0306ee.jpg', 'Jon_Image_23_jpg.rf.5c6feed90bd444c65e1b0128ffa17640.jpg', 'Robb_Image_8_jpg.rf.4ec3e2f9542c9498f0c92246f54e58e1.jpg', 'Daenerys_Image_2_jpg.rf.50863e65a4863fa71aa054734d4482af.jpg', 'Daenerys_Image_7_jpg.rf.d1508917e0bf3d6ee1bb19f48ad407f2.jpg', 'Sansa_Image_42_jpg.rf.95fb911bd9d10c9bd8069ddf4c873d71.jpg', 'Sansa_Image_80_jpg.rf.67348c2e058e20495922b3d949c35f0d.jpg', 'Sansa_Image_44_jpg.rf.5fa9aaf1cb53684e30e8ab23e4f24c34.jpg', 'Sansa_Image_62_jpg.rf.f2add0af0b8effb76ce2b89696728266.jpg', 'Robb_Image_15_jpg.rf.304f793b0538ab29d9b9ed57c56e6f45.jpg', 'Jon_Image_3_jpg.rf.c070cdbbce6c348c223182ad04ab1a56.jpg', 'Sansa_Image_8_jpg.rf.48b31512578bccbaf934e4745d7605c3.jpg', 'Tyrion_Image_21_jpg.rf.4d1fc9ac7fdc452fb337309a24e497c5.jpg', 'Sansa_Image_50_jpg.rf.2704a2327a3265d980a7644ec9e2b8c6.jpg', 'Jon_Image_62_jpg.rf.a4f1a60188fb60ac730fb458ecf77700.jpg', 'Robb_Image_80_jpg.rf.316645ba24888344d932d10f636ca048.jpg', 'Tyrion_Image_40_png.rf.0cd44df7d0946b961805d76022e23bd3.jpg', 'Robb_Image_60_jpg.rf.9f81381af87ac174b21246b759910f1c.jpg', 'Robb_Image_34_jpg.rf.10131c84f1280cf8a4086572bf09f8b1.jpg', 'Jon_Image_97_jpg.rf.93a658bbb3b7d115fc587d2edf61b884.jpg', 'Daenerys_Image_33_jpg.rf.f3a61056b8498dbc92ce6668b545af46.jpg', 'Robb_Image_18_png.rf.c7137a31eaf9b4351417420f021fe00e.jpg', 'Jon_Image_72_jpg.rf.7e6d77adaa3fb2e29970dfe3732fdd8b.jpg', 'Robb_Image_25_png.rf.f6f9e2019e0426618cea8a5b5384f86d.jpg', 'Sansa_Image_66_jpg.rf.ca3d4aa76bdffd3a63ac609420f3e5fc.jpg', 'Jon_Image_40_jpg.rf.e512575f5ab7364a8f46b1b8c42ec40b.jpg', 'Sansa_Image_85_png.rf.a6c31ce94ce4454e5815ef1fb48714a9.jpg', 'Tyrion_Image_13_jpg.rf.aba10d70113aed4eb7023d7b1baf1a40.jpg', 'Sansa_Image_64_jpg.rf.66069e7a7ffa438c672dcf577919a73e.jpg', 'Robb_Image_36_jpg.rf.5377bd86911427fe4736eabbddc407af.jpg', 'Jon_Image_19_jpg.rf.7f44bf68dc729487e40eb8f69a7ab503.jpg', 'Sansa_Image_86_jpg.rf.3a8fe1d24b4bdf8298e4c84cc8ebcdc6.jpg', 'Jon_Image_34_jpg.rf.b378216593d381aeba6c880b9d6e352c.jpg', 'Daenerys_Image_65_jpg.rf.cf878d38c37fbd27cc9e0b728895eed9.jpg', 'Sansa_Image_4_jpg.rf.d9560e21a5c0b12468765917ff56b039.jpg', 'Daenerys_Image_28_jpg.rf.bc4f5ef0fe68ab7126d14307d08fe393.jpg', 'Daenerys_Image_80_jpg.rf.f0077165b6bfcaeb98752e2d0a70a6ef.jpg', 'Jon_Image_83_jpg.rf.6fe224769dac507884664f3ab3959a4a.jpg', 'Jon_Image_57_jpg.rf.21f8fd6044836dc3e259629a3b504d2a.jpg', 'Robb_Image_27_jpg.rf.635db5d513685fb69af6bbc5dd09b2ac.jpg', 'Robb_Image_21_jpg.rf.d4974bb910b3f07cfae699b39ca3007a.jpg', 'Sansa_Image_38_jpg.rf.c43a955cc16d4e59c1e7922e4cc422dd.jpg', 'Robb_Image_50_png.rf.926ee30a9b02cf5015aa41dc81aa75c3.jpg', 'Jon_Image_10_jpg.rf.31c9c86c23f87e1476710f0959cbf0db.jpg', 'Sansa_Image_37_png.rf.b9af98dde076837b7d453a1dad1310ec.jpg', 'Daenerys_Image_75_png.rf.609c6c47f67c771fa8fa97c74e0656f0.jpg', 'Daenerys_Image_76_jpg.rf.dcac8981e290df06a881d36e1de8772b.jpg', 'Jon_Image_69_jpg.rf.aefbc17ffa0d2f472dc1b4361625fe8f.jpg', 'Daenerys_Image_32_png.rf.477167f2126bf2ba72cdb520e1a5eaf8.jpg', 'Sansa_Image_17_jpg.rf.01431a3b44695fdcb64ace0d7ebd9eb0.jpg', 'Daenerys_Image_8_jpg.rf.37b8289692d80522a89de1c15de0222f.jpg', 'Sansa_Image_92_jpg.rf.4c5124e48ea7830e7e309fe1445f5a5f.jpg', 'Daenerys_Image_97_jpg.rf.70cc820f70f850d0c013c7ba1924c389.jpg', 'Sansa_Image_93_jpg.rf.2ca0c8b94ece1c5f8ccf4fd08b16c3aa.jpg', 'Sansa_Image_100_jpg.rf.ddd76fb63da7e14e4b7332345027cd8c.jpg', 'Sansa_Image_29_jpg.rf.ca734b09602485a4470ad09bc2e986ca.jpg', 'Daenerys_Image_48_jpg.rf.971ab2286bf0c0fd6fd67d001b2cd268.jpg', 'Jon_Image_13_jpg.rf.843e1f2362550e4f2360c71fa214e080.jpg', 'Robb_Image_92_png.rf.737805f2816048639b040e4dda81c7b9.jpg', 'Daenerys_Image_55_jpg.rf.2a7ad7bb5884375d71f8a944d9b97cfc.jpg', 'Robb_Image_76_png.rf.5ebcae5ffb9d019a707ad511f9d5c06a.jpg', 'Robb_Image_96_jpg.rf.a0095aa9e47f3249ee313a1cc66bca0c.jpg', 'Robb_Image_58_jpg.rf.7fba34d53258489faa2b268f6733f502.jpg', 'Daenerys_Image_16_jpg.rf.22060f2ec4435257b9e3ead2522d0b14.jpg', 'Jon_Image_88_jpg.rf.d056f620ea185fd6f64f28a96dbd8e1b.jpg', 'Jon_Image_4_jpg.rf.ff4969035df71077a269d3e947628e76.jpg', 'Tyrion_Image_9_jpg.rf.48907c91364d6a8df1e94645d49ff1d2.jpg', 'Tyrion_Image_26_jpg.rf.e6e12f7512de54b5050cba3302663ec1.jpg', 'Daenerys_Image_82_jpg.rf.198d249bec7ca4acd07badc30c74b84d.jpg', 'Sansa_Image_43_jpg.rf.fb5683323e6ba7c917f0d226715c9050.jpg', 'Jon_Image_35_jpg.rf.dc181a939a9fe3048e02ba86e1f93d6b.jpg', 'Tyrion_Image_37_jpg.rf.bf7eee5b2410241202610d06ac125e07.jpg', 'Sansa_Image_61_jpg.rf.83a0671078d99f155bb5cdce858110ce.jpg', 'Jon_Image_30_jpeg.rf.0efdd92bd8f6719cabd058ebc47b9f21.jpg', 'Robb_Image_69_jpeg.rf.373e747432596258827906394a230c93.jpg', 'Tyrion_Image_34_jpg.rf.3ac1fbe25320c1b24a83abbfd2640a16.jpg', 'Daenerys_Image_74_jpg.rf.2adf9c3cddf6b3d7795794eea1f5ac04.jpg', 'Daenerys_Image_20_jpg.rf.da1938c39f3a1524648b1403958260ef.jpg', 'Sansa_Image_20_jpg.rf.2a56f94391d68f2400fd0e6120b778df.jpg', 'Sansa_Image_49_jpg.rf.974d991905db7c0f276c8d649e1f6e22.jpg', 'Sansa_Image_18_jpg.rf.2794892edcdc6ca22c3ba78fe230e0a8.jpg', 'Daenerys_Image_36_jpg.rf.6ca338ac27725d3a56f736b792d8bc20.jpg', 'Robb_Image_72_png.rf.cf664629347510ac6756cd6fd8279225.jpg', 'Sansa_Image_33_jpg.rf.23828b6a5361f244d8cc7211d679241d.jpg', 'Tyrion_Image_15_jpg.rf.7563e30a056edd57846aa20a81c83c4e.jpg', 'Sansa_Image_96_png.rf.7a9f9e7d327da96cc4969091cd62e2c2.jpg', 'Daenerys_Image_59_jpg.rf.91a68a27c9f12a3c1a972b459d4e2fad.jpg', 'Tyrion_Image_5_jpg.rf.52435f460688f74ebd4bcb2712708789.jpg', 'Tyrion_Image_8_jpg.rf.59d27117a632d43a7b32a5e5dcce455d.jpg', 'Robb_Image_49_jpg.rf.83e49427cf1a5dbd7e24055296783595.jpg', 'Robb_Image_66_jpg.rf.9cbc0ae984231d3309177be5094aeb14.jpg', 'Robb_Image_38_jpg.rf.a5548392e473ed544184409ef125e8a7.jpg', 'Jon_Image_93_jpg.rf.002c0e70159e6b48f4e265385e565a3f.jpg', 'Sansa_Image_88_jpg.rf.5c7ddc6052d22851986530989252d012.jpg', 'Jon_Image_54_jpg.rf.2d7337b2fa5e5bac05577ccc3f849253.jpg', 'Jon_Image_5_jpg.rf.d42c4560b236d418065b6e578834f4a7.jpg', 'Tyrion_Image_10_jpg.rf.b0337f8749ee6e4e5032c8206e3a7579.jpg', 'Daenerys_Image_13_jpg.rf.3960e91738b9643639ba2a40bf4769be.jpg', 'Robb_Image_55_png.rf.036da25fcb3d57e9619b444fc9cd877b.jpg', 'Robb_Image_53_png.rf.a24800a06d51f3c595c638a84c88f1b2.jpg', 'Sansa_Image_81_jpg.rf.6b4cce933f5dbd76847888d73b3f4abe.jpg', 'Daenerys_Image_38_jpg.rf.e10ecfb5b5c4a3f2bcf055c0e00dfa21.jpg', 'Sansa_Image_35_jpg.rf.1530ce2d83016b146d8fce9cb6fc02e1.jpg', 'Robb_Image_88_jpg.rf.3ea66e76c1e1c25ed7e38e0f520e6369.jpg', 'Daenerys_Image_78_png.rf.f7c009879c82c692032e715954b12ece.jpg', 'Daenerys_Image_45_jpg.rf.7217f3ffe0f995b129b4a880699c8038.jpg', 'Daenerys_Image_39_jpg.rf.9a0a631c627442b48e32a426e56b54af.jpg', 'Jon_Image_81_jpg.rf.f49a47e76266855766f55bcc2809987c.jpg', 'Tyrion_Image_41_jpg.rf.ab5fc5857f62253817a75576721682e1.jpg', 'Sansa_Image_99_jpg.rf.1b1d9dca2f263b8fa48fd40fa80032cc.jpg', 'Daenerys_Image_93_png.rf.61adc7b2e5f52591a5f03c5208b56bc5.jpg', 'Jon_Image_12_jpg.rf.aac638ca0f10251a34147457aedb8932.jpg', 'Robb_Image_19_jpg.rf.d483a4d53c2eb0cdddd304dcebf6649c.jpg', 'Sansa_Image_2_jpg.rf.5501941fda6691b2ca79265d3ed7ec41.jpg', 'Robb_Image_84_jpg.rf.37fb075055fa00769f2a8b7ffdbd45ac.jpg', 'Robb_Image_30_PNG.rf.6f1de2641d477b92432d2f9725ed71b9.jpg', 'Daenerys_Image_21_jpg.rf.3896a4b44f69afd93cb9a9a8d4dcbd6a.jpg', 'Sansa_Image_87_png.rf.350eb5b583e5a10f0505e7775a2a1178.jpg', 'Daenerys_Image_44_png.rf.a73d511e2a0e3d7262aa87cea1c5b82d.jpg', 'Jon_Image_38_jpg.rf.94d804c1df3e13dbd10ab2e8344e0855.jpg', 'Jon_Image_16_jpg.rf.f23a6182d047379f3c632996a61fe3ee.jpg', 'Daenerys_Image_73_jpg.rf.5b8f156b7fb666d5910216be5892cd7f.jpg', 'Daenerys_Image_41_jpg.rf.9354c2c421b4aa4e74d322c6a0696a76.jpg', 'Sansa_Image_91_png.rf.63d6af05ca57f250c612c96cb7e41e5f.jpg', 'Tyrion_Image_65_jpg.rf.a9408392af36504999b14228e5c216ad.jpg', 'Jon_Image_47_jpg.rf.941167e6940d5f69451eead355348c9f.jpg', 'Jon_Image_66_jpg.rf.3e07b628943a39dc49b53226e2e14d62.jpg', 'Daenerys_Image_3_jpg.rf.07ff3dbeb6ab592a47307179c45a7789.jpg', 'Tyrion_Image_29_jpg.rf.531d6754979de09835e01065698ff4e0.jpg', 'Tyrion_Image_52_jpg.rf.35318a1a48fc2b5f7a28ca069e41ad97.jpg', 'Tyrion_Image_59_jpg.rf.47e5706a7cba2e877120323c2dbd1f86.jpg', 'Tyrion_Image_55_png.rf.972e0133f8ecdc90e673d003eeed6de8.jpg', 'Jon_Image_14_jpg.rf.05c7b64e7ce28f0bc36e7425e7d6522b.jpg', 'Robb_Image_75_jpg.rf.2c816802206dff4e80b0117029ce094d.jpg', 'Robb_Image_70_jpg.rf.61f7d7ba4d7ac5ffb30b37cd4dc5a848.jpg', 'Sansa_Image_73_png.rf.3d00a2c91147f64e8bb798f3d9fd6537.jpg', 'Sansa_Image_5_jpg.rf.3833353a8c98441210b769178ea8c76a.jpg', 'Jon_Image_22_jpg.rf.9fe35e3735b4c5e01043ab4dcb0d19b3.jpg', 'Daenerys_Image_35_jpg.rf.d4faa9cd736c41d19b59caf292db29c2.jpg', 'Tyrion_Image_80_jpg.rf.ab9c370708b539c93010fc00b36fa468.jpg', 'Jon_Image_53_png.rf.53d095868d7db0ca3559ec07737d4834.jpg', 'Sansa_Image_98_png.rf.0db36f98770a8f1a8b1efc44de7baa89.jpg', 'Tyrion_Image_24_jpg.rf.9c246572abaa0bb14cf07b70f3139245.jpg', 'Sansa_Image_41_jpg.rf.ff4f05b2dd330f2b20ce17016de6bae5.jpg', 'Robb_Image_78_jpg.rf.d7cfe40ad75fce8e177f232655ce5a48.jpg', 'Sansa_Image_53_jpg.rf.63e5620ab14ce6cbb3efded49051cb37.jpg', 'Tyrion_Image_4_jpg.rf.52091571da2537f178a860c3ed8c5fa9.jpg', 'Robb_Image_64_png.rf.b995766223563c860b0da881a9c83f22.jpg', 'Jon_Image_92_jpeg.rf.92f407731054ee8560dd9f2a10606f6c.jpg', 'Tyrion_Image_46_jpg.rf.d7fbdad5ebac3554fdb0a3ecf3b84a04.jpg', 'Jon_Image_24_jpg.rf.646910182ff742e1fbc07f7a84aefd37.jpg', 'Robb_Image_57_png.rf.f3063bffb8b9c99b4ce238e5e5d2b7df.jpg', 'Robb_Image_3_jpg.rf.462f7c050c90fc6e541ef591bea6310a.jpg', 'Tyrion_Image_12_jpeg.rf.b2e49f6b786a23b35ca3c6511003ecaf.jpg', 'Jon_Image_79_jpg.rf.0bdf8313ad67ce12260aa7eede599baa.jpg', 'Tyrion_Image_44_jpg.rf.eeaefec85f76052cb8eb06eecd63dd29.jpg', 'Robb_Image_62_png.rf.593a0986d77b780d4acea038cf245740.jpg', 'Robb_Image_67_jpg.rf.bdba3f4cd883a62cdbd2b4f3eadb9c64.jpg', 'Jon_Image_70_jpg.rf.2512dc41d448db4225a92d9205464d07.jpg', 'Robb_Image_16_png.rf.1a091b212a2385634484a3b1aad579d0.jpg', 'Daenerys_Image_49_jpg.rf.cec3b9031790d061ea39401b8d1d6247.jpg', 'Sansa_Image_60_jpg.rf.167ed91dcc1b50c791c6d91f35e22e69.jpg', 'Robb_Image_1_jpg.rf.929de8d6b2885b73978af3bc611e07cc.jpg', 'Jon_Image_28_jpeg.rf.e3de2083337b1a9aaaeb28e70d562872.jpg', 'Jon_Image_51_jpg.rf.59d80a1ee5dad24bce502afac256b476.jpg', 'Daenerys_Image_42_png.rf.f9aa9af8371910aca6af433bdcfa4901.jpg', 'Robb_Image_9_jpg.rf.df12476fa19e44bcd736ee1727574464.jpg', 'Robb_Image_87_png.rf.4fc8935e988da29398d2591de6a69e99.jpg', 'Robb_Image_68_jpg.rf.971946f5252f2c18bcd483275c6e1c9f.jpg', 'Robb_Image_32_jpg.rf.8a230d2fbfc3a37f0fd866a25fa3d695.jpg', 'Tyrion_Image_83_jpeg.rf.8db0c195c4e731cc132dbf2ef71738e7.jpg', 'Jon_Image_98_jpg.rf.7ba631d36ac97c9b208ae8e9be2723d4.jpg', 'Jon_Image_20_jpg.rf.a0cbad13152c0f2cfb14f1efa45bc2b3.jpg', 'Tyrion_Image_73_jpg.rf.87f6665c829715200ec62df611643fc7.jpg', 'Robb_Image_17_png.rf.89d354657513c29fbcd18d7905ce8b06.jpg', 'Daenerys_Image_58_jpg.rf.6045cf9bb0503c8dfc36110b9ff3493c.jpg', 'Jon_Image_1_jpg.rf.17f7ab8e09996f9fd153f75745374e67.jpg', 'Jon_Image_26_jpg.rf.5db6d76ea4176d8bbe40ba3b08323f8d.jpg', 'Tyrion_Image_43_jpg.rf.8d4853db03733b0ad0d4c8d3fc39bd96.jpg', 'Jon_Image_7_jpg.rf.1adf49ae9015ed9a93b674b347fabff1.jpg', 'Daenerys_Image_6_jpg.rf.f9d169c5988c5475a96a1f059c6e23e1.jpg', 'Tyrion_Image_71_jpg.rf.1c400879f8dce42f9e0e7894fbf93326.jpg', 'Sansa_Image_67_jpg.rf.11996892146b5ac37d680be179785b73.jpg', 'Tyrion_Image_38_jpg.rf.d146759ebdd106caa473d471a98e0fc8.jpg', 'Daenerys_Image_22_jpg.rf.eb7497f5574990433e94ab653458b452.jpg', 'Sansa_Image_34_jpg.rf.848d00ffe3232efc8af0580a954ce260.jpg', 'Daenerys_Image_47_jpg.rf.fae6bea9b865a488abeebb7656b22aef.jpg', 'Robb_Image_86_jpg.rf.73f624149c7e67f09d1abb1b4a6eb04a.jpg', 'Tyrion_Image_72_jpg.rf.34aa9345fd5e5832fec0555380c781ad.jpg', 'Sansa_Image_30_jpg.rf.e0a774cd9cacbcf8afd80626903075b5.jpg', 'Daenerys_Image_56_jpg.rf.08a22c91a94dcf4560107c4148637fbe.jpg', 'Sansa_Image_69_jpg.rf.fc5e2ebfc81c6e43bca50f196a0b1496.jpg', 'Daenerys_Image_51_jpg.rf.9ffdffa6f9948067c71f9246aaf0f890.jpg', 'Sansa_Image_3_jpg.rf.98e01b1ae493ca43ede73f82025aa090.jpg', 'Robb_Image_83_png.rf.235e13370dfafcf96eeefa7acd33344a.jpg', 'Daenerys_Image_71_jpg.rf.81714cdb2629824b9c7133313b50a992.jpg', 'Daenerys_Image_54_jpg.rf.32e04c0ca5240a9f4692cfbf27fdf443.jpg', 'Jon_Image_11_jpg.rf.da20f40b43a19d1a1bd0cfd5e3c01048.jpg', 'Jon_Image_55_jpg.rf.f5d382621cbeee6bdbd197ab97919a45.jpg', 'Tyrion_Image_6_jpg.rf.a1e0ef09a5ae3b0217927c4f38dda8c5.jpg', 'Daenerys_Image_24_png.rf.e66dcc68cf9bc4ea53a549dc3af7a3de.jpg', 'Jon_Image_68_jpg.rf.bd226479db2a78778f1a659f7a2e89fe.jpg', 'Sansa_Image_78_jpg.rf.25aba4ccc66307501b4963faef1e703a.jpg', 'Sansa_Image_95_jpg.rf.d5074ee8979954f51f386082a81ed49f.jpg', 'Daenerys_Image_9_jpg.rf.8cc2a0e2ac698053cf0c5f14b2e44867.jpg', 'Daenerys_Image_11_png.rf.bfe076fac486b48608022d3faad37289.jpg', 'Tyrion_Image_14_jpg.rf.6d1f6dae51c752bdc42b44aaee5ed8b8.jpg', 'Daenerys_Image_14_jpg.rf.41234231c440ac847a900916b02c685c.jpg', 'Jon_Image_71_jpg.rf.78af03b01708b52516030eb02b49eea1.jpg', 'Robb_Image_6_jpg.rf.faa93c304b4bed86ebd5a575aea8e152.jpg', 'Robb_Image_22_jpg.rf.1b3ce36991e046f23b9001321596087f.jpg', 'Tyrion_Image_67_jpg.rf.c1eb320a4c394bddb0d885cc0ddcd4ce.jpg', 'Robb_Image_59_png.rf.250dc0e28e7e00aee577847ba3643afc.jpg', 'Daenerys_Image_5_jpg.rf.0fbfe244529d8515a3881e9f15ea675b.jpg', 'Tyrion_Image_19_jpg.rf.6a81363a76e0bc36ea224c12218278f6.jpg', 'Jon_Image_25_png.rf.3f2ef4fb058804e6596e1b4a5017c92e.jpg', 'Tyrion_Image_53_JPG.rf.303913884b2f843453ed79fe98434d97.jpg', 'Tyrion_Image_28_jpg.rf.fd3b023221ef51b8c32c16ae28274082.jpg', 'Tyrion_Image_42_jpg.rf.607d92261608b874e70cd8963aac5ce2.jpg', 'Daenerys_Image_87_jpg.rf.d8bfdee75511c45630382f6da6dc591b.jpg', 'Daenerys_Image_37_jpg.rf.37a010685e4f4d7d94fbead750753036.jpg', 'Robb_Image_56_jpg.rf.37dfe9f15efcf7341feb27501c8ede3f.jpg', 'Robb_Image_43_png.rf.b8563d497224a2a3d869701ec5e646b1.jpg', 'Tyrion_Image_18_jpg.rf.6534deacb027e4b0b6d4c96452f3c2af.jpg', 'Sansa_Image_40_jpg.rf.1e8f57a68e28334aa04145ba11689d16.jpg', 'Sansa_Image_26_jpg.rf.476db5177c7c7355dd26645d7fd9e199.jpg', 'Jon_Image_94_jpg.rf.76c1d7873f36730a8c4b47af0ef1e4dc.jpg', 'Robb_Image_20_jpg.rf.80dc968a3bc40945b3cabb2260f5d25b.jpg', 'Sansa_Image_19_jpg.rf.35de5861b0f409588d0440595eb9bcfb.jpg', 'Robb_Image_63_jpg.rf.230cf2ea7ba5a3ff564da615b2826b13.jpg', 'Sansa_Image_72_png.rf.565ae26d14d00981d23c3c380ac36f5c.jpg', 'Robb_Image_44_png.rf.707a69ec6bcd545a22c88d7a5bc7802c.jpg', 'Robb_Image_35_jpg.rf.db050cf88d93487e20f267565551ffd7.jpg', 'Daenerys_Image_12_jpg.rf.2e60a0c4d839d18be24fde6e7d7f2fe0.jpg', 'Daenerys_Image_19_jpg.rf.02d5f44bfb39a495e8d008a0c2b7c0a4.jpg', 'Robb_Image_81_jpg.rf.40fbf69e997b18bc361501527096dc31.jpg', 'Daenerys_Image_98_jpg.rf.9fa8e61242eece645d7995eb5f3ba101.jpg', 'Jon_Image_45_jpg.rf.493cb8692b96184a4f362b8b8b0e54e6.jpg', 'Daenerys_Image_50_jpg.rf.3fb1549898f73849f28643665f90e034.jpg', 'Robb_Image_61_jpg.rf.25b1e2a13cf27b38358bf83c69a9e411.jpg', 'Robb_Image_48_png.rf.193f662f30317dd64d9dd50999832fc1.jpg', 'Robb_Image_91_jpg.rf.d96fa57e0d401e31efbee882814cd273.jpg', 'Tyrion_Image_36_png.rf.dab1c6d3f05f71f192821c3b15b37a85.jpg', 'Tyrion_Image_45_jpg.rf.7504103311ab3e7c02248dacbaf7eb8a.jpg', 'Sansa_Image_65_jpg.rf.83c482c1edb73a3665ec1f1d016cef95.jpg', 'Robb_Image_97_jpg.rf.daeb6ef3ab5adaf6a0cb0e988cce4d19.jpg', 'Tyrion_Image_23_jpg.rf.f55cec9c078ec6abc0601376532e12b0.jpg', 'Robb_Image_31_jpg.rf.318ca82f0b6e267285a350ad7dd9fd0f.jpg', 'Daenerys_Image_89_jpg.rf.99770dee90bad76d487f2ad31da918f9.jpg', 'Jon_Image_82_jpg.rf.3a71bb4c7f98602d787180063ccd8bf6.jpg', 'Jon_Image_43_jpg.rf.31f6f5cdb9f0fc0afb04864cb1a07d6f.jpg', 'Sansa_Image_13_jpg.rf.fc451521b3ee6ba72cbdfd6e98d17669.jpg', 'Robb_Image_85_jpg.rf.7e47b293ab079215667f48b79a255fca.jpg', 'Tyrion_Image_57_jpg.rf.e3be1e884de5e15938ae36e14aa167f6.jpg', 'Sansa_Image_31_jpg.rf.cc4d1dd6ff61543c19e2dd01947cb76a.jpg', 'Sansa_Image_82_jpg.rf.b1e1ca90d0236faf42fafad016fa107d.jpg', 'Sansa_Image_15_jpg.rf.1cde1e13176f704221a3c334363b92ee.jpg', 'Jon_Image_39_jpg.rf.db00d4ae37cd20e5f6eb55e3acb01d0e.jpg', 'Daenerys_Image_4_png.rf.cafce1f7f335a7cd401514ee48772594.jpg', 'Sansa_Image_75_jpg.rf.85f5cae1b497b6dd2912f4c59e188d93.jpg', 'Tyrion_Image_47_png.rf.3774827f9c6a635f27cf74eb5cc52bdb.jpg', 'Robb_Image_39_jpg.rf.e3c159310776fe7901081220c708d6ae.jpg', 'Jon_Image_33_jpg.rf.81abf0b7228123d4355de6550a71a170.jpg', 'Robb_Image_7_jpg.rf.70520f217b172ba42070221e8eb005f8.jpg', 'Daenerys_Image_1_jpg.rf.30b927f486ff7ac1e0e70110d08c62f0.jpg', 'Tyrion_Image_48_jpg.rf.90429f57f05bc50d1bc6eb391d2efdbe.jpg', 'Sansa_Image_46_jpg.rf.23cdeb5f3051fe9864f8824806107f1e.jpg', 'Tyrion_Image_64_jpg.rf.5e07bfba7df4462bbe7f2fd96c244b2c.jpg', 'Daenerys_Image_94_png.rf.df289e5f77c580cdcf51aafec3da1335.jpg', 'Sansa_Image_68_jpg.rf.b92d9f33e9e6ad9b2c4c23e9761bd5a5.jpg']\n",
            "Diretório: dataset/train/labels\n",
            "Subdiretórios: []\n",
            "Arquivos: ['Tyrion_Image_80_jpg.rf.ab9c370708b539c93010fc00b36fa468.txt', 'Sansa_Image_34_jpg.rf.848d00ffe3232efc8af0580a954ce260.txt', 'Sansa_Image_75_jpg.rf.85f5cae1b497b6dd2912f4c59e188d93.txt', 'Daenerys_Image_47_jpg.rf.fae6bea9b865a488abeebb7656b22aef.txt', 'Daenerys_Image_56_jpg.rf.08a22c91a94dcf4560107c4148637fbe.txt', 'Tyrion_Image_64_jpg.rf.5e07bfba7df4462bbe7f2fd96c244b2c.txt', 'Jon_Image_83_jpg.rf.6fe224769dac507884664f3ab3959a4a.txt', 'Daenerys_Image_42_png.rf.f9aa9af8371910aca6af433bdcfa4901.txt', 'Robb_Image_32_jpg.rf.8a230d2fbfc3a37f0fd866a25fa3d695.txt', 'Sansa_Image_64_jpg.rf.66069e7a7ffa438c672dcf577919a73e.txt', 'Jon_Image_19_jpg.rf.7f44bf68dc729487e40eb8f69a7ab503.txt', 'Tyrion_Image_5_jpg.rf.52435f460688f74ebd4bcb2712708789.txt', 'Tyrion_Image_57_jpg.rf.e3be1e884de5e15938ae36e14aa167f6.txt', 'Robb_Image_7_jpg.rf.70520f217b172ba42070221e8eb005f8.txt', 'Jon_Image_72_jpg.rf.7e6d77adaa3fb2e29970dfe3732fdd8b.txt', 'Tyrion_Image_65_jpg.rf.a9408392af36504999b14228e5c216ad.txt', 'Daenerys_Image_36_jpg.rf.6ca338ac27725d3a56f736b792d8bc20.txt', 'Robb_Image_21_jpg.rf.d4974bb910b3f07cfae699b39ca3007a.txt', 'Sansa_Image_30_jpg.rf.e0a774cd9cacbcf8afd80626903075b5.txt', 'Daenerys_Image_98_jpg.rf.9fa8e61242eece645d7995eb5f3ba101.txt', 'Jon_Image_51_jpg.rf.59d80a1ee5dad24bce502afac256b476.txt', 'Sansa_Image_78_jpg.rf.25aba4ccc66307501b4963faef1e703a.txt', 'Daenerys_Image_22_jpg.rf.eb7497f5574990433e94ab653458b452.txt', 'Daenerys_Image_16_jpg.rf.22060f2ec4435257b9e3ead2522d0b14.txt', 'Daenerys_Image_3_jpg.rf.07ff3dbeb6ab592a47307179c45a7789.txt', 'Jon_Image_92_jpeg.rf.92f407731054ee8560dd9f2a10606f6c.txt', 'Tyrion_Image_47_png.rf.3774827f9c6a635f27cf74eb5cc52bdb.txt', 'Jon_Image_57_jpg.rf.21f8fd6044836dc3e259629a3b504d2a.txt', 'Sansa_Image_100_jpg.rf.ddd76fb63da7e14e4b7332345027cd8c.txt', 'Robb_Image_67_jpg.rf.bdba3f4cd883a62cdbd2b4f3eadb9c64.txt', 'Jon_Image_32_jpg.rf.7652af54d6615e5b9d4e583677deebd8.txt', 'Daenerys_Image_44_png.rf.a73d511e2a0e3d7262aa87cea1c5b82d.txt', 'Daenerys_Image_20_jpg.rf.da1938c39f3a1524648b1403958260ef.txt', 'Robb_Image_63_jpg.rf.230cf2ea7ba5a3ff564da615b2826b13.txt', 'Jon_Image_13_jpg.rf.843e1f2362550e4f2360c71fa214e080.txt', 'Tyrion_Image_41_jpg.rf.ab5fc5857f62253817a75576721682e1.txt', 'Sansa_Image_41_jpg.rf.ff4f05b2dd330f2b20ce17016de6bae5.txt', 'Sansa_Image_31_jpg.rf.cc4d1dd6ff61543c19e2dd01947cb76a.txt', 'Sansa_Image_93_jpg.rf.2ca0c8b94ece1c5f8ccf4fd08b16c3aa.txt', 'Robb_Image_3_jpg.rf.462f7c050c90fc6e541ef591bea6310a.txt', 'Daenerys_Image_8_jpg.rf.37b8289692d80522a89de1c15de0222f.txt', 'Jon_Image_33_jpg.rf.81abf0b7228123d4355de6550a71a170.txt', 'Sansa_Image_40_jpg.rf.1e8f57a68e28334aa04145ba11689d16.txt', 'Jon_Image_70_jpg.rf.2512dc41d448db4225a92d9205464d07.txt', 'Tyrion_Image_53_JPG.rf.303913884b2f843453ed79fe98434d97.txt', 'Jon_Image_10_jpg.rf.31c9c86c23f87e1476710f0959cbf0db.txt', 'Daenerys_Image_87_jpg.rf.d8bfdee75511c45630382f6da6dc591b.txt', 'Sansa_Image_26_jpg.rf.476db5177c7c7355dd26645d7fd9e199.txt', 'Tyrion_Image_8_jpg.rf.59d27117a632d43a7b32a5e5dcce455d.txt', 'Jon_Image_14_jpg.rf.05c7b64e7ce28f0bc36e7425e7d6522b.txt', 'Robb_Image_34_jpg.rf.10131c84f1280cf8a4086572bf09f8b1.txt', 'Daenerys_Image_41_jpg.rf.9354c2c421b4aa4e74d322c6a0696a76.txt', 'Sansa_Image_3_jpg.rf.98e01b1ae493ca43ede73f82025aa090.txt', 'Robb_Image_30_PNG.rf.6f1de2641d477b92432d2f9725ed71b9.txt', 'Sansa_Image_17_jpg.rf.01431a3b44695fdcb64ace0d7ebd9eb0.txt', 'Sansa_Image_18_jpg.rf.2794892edcdc6ca22c3ba78fe230e0a8.txt', 'Robb_Image_58_jpg.rf.7fba34d53258489faa2b268f6733f502.txt', 'Sansa_Image_16_jpg.rf.586517f5bd71fc7dbe9ebfc54d96cdf8.txt', 'Daenerys_Image_82_jpg.rf.198d249bec7ca4acd07badc30c74b84d.txt', 'Daenerys_Image_73_jpg.rf.5b8f156b7fb666d5910216be5892cd7f.txt', 'Jon_Image_40_jpg.rf.e512575f5ab7364a8f46b1b8c42ec40b.txt', 'Sansa_Image_60_jpg.rf.167ed91dcc1b50c791c6d91f35e22e69.txt', 'Jon_Image_98_jpg.rf.7ba631d36ac97c9b208ae8e9be2723d4.txt', 'Tyrion_Image_4_jpg.rf.52091571da2537f178a860c3ed8c5fa9.txt', 'Robb_Image_75_jpg.rf.2c816802206dff4e80b0117029ce094d.txt', 'Sansa_Image_80_jpg.rf.67348c2e058e20495922b3d949c35f0d.txt', 'Robb_Image_80_jpg.rf.316645ba24888344d932d10f636ca048.txt', 'Robb_Image_31_jpg.rf.318ca82f0b6e267285a350ad7dd9fd0f.txt', 'Sansa_Image_44_jpg.rf.5fa9aaf1cb53684e30e8ab23e4f24c34.txt', 'Daenerys_Image_24_png.rf.e66dcc68cf9bc4ea53a549dc3af7a3de.txt', 'Robb_Image_76_png.rf.5ebcae5ffb9d019a707ad511f9d5c06a.txt', 'Tyrion_Image_36_png.rf.dab1c6d3f05f71f192821c3b15b37a85.txt', 'Daenerys_Image_4_png.rf.cafce1f7f335a7cd401514ee48772594.txt', 'Daenerys_Image_32_png.rf.477167f2126bf2ba72cdb520e1a5eaf8.txt', 'Daenerys_Image_50_jpg.rf.3fb1549898f73849f28643665f90e034.txt', 'Tyrion_Image_38_jpg.rf.d146759ebdd106caa473d471a98e0fc8.txt', 'Daenerys_Image_6_jpg.rf.f9d169c5988c5475a96a1f059c6e23e1.txt', 'Sansa_Image_66_jpg.rf.ca3d4aa76bdffd3a63ac609420f3e5fc.txt', 'Robb_Image_91_jpg.rf.d96fa57e0d401e31efbee882814cd273.txt', 'Jon_Image_7_jpg.rf.1adf49ae9015ed9a93b674b347fabff1.txt', 'Sansa_Image_20_jpg.rf.2a56f94391d68f2400fd0e6120b778df.txt', 'Jon_Image_25_png.rf.3f2ef4fb058804e6596e1b4a5017c92e.txt', 'Sansa_Image_96_png.rf.7a9f9e7d327da96cc4969091cd62e2c2.txt', 'Daenerys_Image_38_jpg.rf.e10ecfb5b5c4a3f2bcf055c0e00dfa21.txt', 'Daenerys_Image_35_jpg.rf.d4faa9cd736c41d19b59caf292db29c2.txt', 'Jon_Image_26_jpg.rf.5db6d76ea4176d8bbe40ba3b08323f8d.txt', 'Tyrion_Image_21_jpg.rf.4d1fc9ac7fdc452fb337309a24e497c5.txt', 'Daenerys_Image_37_jpg.rf.37a010685e4f4d7d94fbead750753036.txt', 'Tyrion_Image_40_png.rf.0cd44df7d0946b961805d76022e23bd3.txt', 'Sansa_Image_61_jpg.rf.83a0671078d99f155bb5cdce858110ce.txt', 'Robb_Image_56_jpg.rf.37dfe9f15efcf7341feb27501c8ede3f.txt', 'Daenerys_Image_11_png.rf.bfe076fac486b48608022d3faad37289.txt', 'Robb_Image_16_png.rf.1a091b212a2385634484a3b1aad579d0.txt', 'Daenerys_Image_55_jpg.rf.2a7ad7bb5884375d71f8a944d9b97cfc.txt', 'Robb_Image_88_jpg.rf.3ea66e76c1e1c25ed7e38e0f520e6369.txt', 'Sansa_Image_99_jpg.rf.1b1d9dca2f263b8fa48fd40fa80032cc.txt', 'Jon_Image_79_jpg.rf.0bdf8313ad67ce12260aa7eede599baa.txt', 'Jon_Image_82_jpg.rf.3a71bb4c7f98602d787180063ccd8bf6.txt', 'Tyrion_Image_28_jpg.rf.fd3b023221ef51b8c32c16ae28274082.txt', 'Tyrion_Image_73_jpg.rf.87f6665c829715200ec62df611643fc7.txt', 'Robb_Image_62_png.rf.593a0986d77b780d4acea038cf245740.txt', 'Jon_Image_39_jpg.rf.db00d4ae37cd20e5f6eb55e3acb01d0e.txt', 'Robb_Image_96_jpg.rf.a0095aa9e47f3249ee313a1cc66bca0c.txt', 'Daenerys_Image_59_jpg.rf.91a68a27c9f12a3c1a972b459d4e2fad.txt', 'Jon_Image_66_jpg.rf.3e07b628943a39dc49b53226e2e14d62.txt', 'Robb_Image_49_jpg.rf.83e49427cf1a5dbd7e24055296783595.txt', 'Robb_Image_78_jpg.rf.d7cfe40ad75fce8e177f232655ce5a48.txt', 'Robb_Image_70_jpg.rf.61f7d7ba4d7ac5ffb30b37cd4dc5a848.txt', 'Jon_Image_3_jpg.rf.c070cdbbce6c348c223182ad04ab1a56.txt', 'Jon_Image_43_jpg.rf.31f6f5cdb9f0fc0afb04864cb1a07d6f.txt', 'Tyrion_Image_52_jpg.rf.35318a1a48fc2b5f7a28ca069e41ad97.txt', 'Robb_Image_35_jpg.rf.db050cf88d93487e20f267565551ffd7.txt', 'Tyrion_Image_45_jpg.rf.7504103311ab3e7c02248dacbaf7eb8a.txt', 'Robb_Image_6_jpg.rf.faa93c304b4bed86ebd5a575aea8e152.txt', 'Sansa_Image_13_jpg.rf.fc451521b3ee6ba72cbdfd6e98d17669.txt', 'Robb_Image_17_png.rf.89d354657513c29fbcd18d7905ce8b06.txt', 'Jon_Image_24_jpg.rf.646910182ff742e1fbc07f7a84aefd37.txt', 'Robb_Image_44_png.rf.707a69ec6bcd545a22c88d7a5bc7802c.txt', 'Robb_Image_64_png.rf.b995766223563c860b0da881a9c83f22.txt', 'Jon_Image_12_jpg.rf.aac638ca0f10251a34147457aedb8932.txt', 'Jon_Image_22_jpg.rf.9fe35e3735b4c5e01043ab4dcb0d19b3.txt', 'Sansa_Image_85_png.rf.a6c31ce94ce4454e5815ef1fb48714a9.txt', 'Tyrion_Image_42_jpg.rf.607d92261608b874e70cd8963aac5ce2.txt', 'Robb_Image_92_png.rf.737805f2816048639b040e4dda81c7b9.txt', 'Sansa_Image_92_jpg.rf.4c5124e48ea7830e7e309fe1445f5a5f.txt', 'Robb_Image_18_png.rf.c7137a31eaf9b4351417420f021fe00e.txt', 'Sansa_Image_86_jpg.rf.3a8fe1d24b4bdf8298e4c84cc8ebcdc6.txt', 'Sansa_Image_35_jpg.rf.1530ce2d83016b146d8fce9cb6fc02e1.txt', 'Sansa_Image_33_jpg.rf.23828b6a5361f244d8cc7211d679241d.txt', 'Sansa_Image_65_jpg.rf.83c482c1edb73a3665ec1f1d016cef95.txt', 'Jon_Image_1_jpg.rf.17f7ab8e09996f9fd153f75745374e67.txt', 'Sansa_Image_4_jpg.rf.d9560e21a5c0b12468765917ff56b039.txt', 'Jon_Image_47_jpg.rf.941167e6940d5f69451eead355348c9f.txt', 'Daenerys_Image_2_jpg.rf.50863e65a4863fa71aa054734d4482af.txt', 'Sansa_Image_50_jpg.rf.2704a2327a3265d980a7644ec9e2b8c6.txt', 'Robb_Image_66_jpg.rf.9cbc0ae984231d3309177be5094aeb14.txt', 'Sansa_Image_8_jpg.rf.48b31512578bccbaf934e4745d7605c3.txt', 'Robb_Image_57_png.rf.f3063bffb8b9c99b4ce238e5e5d2b7df.txt', 'Tyrion_Image_15_jpg.rf.7563e30a056edd57846aa20a81c83c4e.txt', 'Robb_Image_15_jpg.rf.304f793b0538ab29d9b9ed57c56e6f45.txt', 'Robb_Image_61_jpg.rf.25b1e2a13cf27b38358bf83c69a9e411.txt', 'Sansa_Image_43_jpg.rf.fb5683323e6ba7c917f0d226715c9050.txt', 'Tyrion_Image_29_jpg.rf.531d6754979de09835e01065698ff4e0.txt', 'Robb_Image_60_jpg.rf.9f81381af87ac174b21246b759910f1c.txt', 'Sansa_Image_38_jpg.rf.c43a955cc16d4e59c1e7922e4cc422dd.txt', 'Sansa_Image_42_jpg.rf.95fb911bd9d10c9bd8069ddf4c873d71.txt', 'Daenerys_Image_54_jpg.rf.32e04c0ca5240a9f4692cfbf27fdf443.txt', 'Jon_Image_94_jpg.rf.76c1d7873f36730a8c4b47af0ef1e4dc.txt', 'Tyrion_Image_18_jpg.rf.6534deacb027e4b0b6d4c96452f3c2af.txt', 'Robb_Image_84_jpg.rf.37fb075055fa00769f2a8b7ffdbd45ac.txt', 'Sansa_Image_19_jpg.rf.35de5861b0f409588d0440595eb9bcfb.txt', 'Daenerys_Image_65_jpg.rf.cf878d38c37fbd27cc9e0b728895eed9.txt', 'Robb_Image_9_jpg.rf.df12476fa19e44bcd736ee1727574464.txt', 'Robb_Image_20_jpg.rf.80dc968a3bc40945b3cabb2260f5d25b.txt', 'Robb_Image_68_jpg.rf.971946f5252f2c18bcd483275c6e1c9f.txt', 'Jon_Image_28_jpeg.rf.e3de2083337b1a9aaaeb28e70d562872.txt', 'Tyrion_Image_37_jpg.rf.bf7eee5b2410241202610d06ac125e07.txt', 'Daenerys_Image_75_png.rf.609c6c47f67c771fa8fa97c74e0656f0.txt', 'Daenerys_Image_33_jpg.rf.f3a61056b8498dbc92ce6668b545af46.txt', 'Daenerys_Image_45_jpg.rf.7217f3ffe0f995b129b4a880699c8038.txt', 'Sansa_Image_72_png.rf.565ae26d14d00981d23c3c380ac36f5c.txt', 'Robb_Image_48_png.rf.193f662f30317dd64d9dd50999832fc1.txt', 'Sansa_Image_69_jpg.rf.fc5e2ebfc81c6e43bca50f196a0b1496.txt', 'Tyrion_Image_48_jpg.rf.90429f57f05bc50d1bc6eb391d2efdbe.txt', 'Robb_Image_59_png.rf.250dc0e28e7e00aee577847ba3643afc.txt', 'Jon_Image_4_jpg.rf.ff4969035df71077a269d3e947628e76.txt', 'Sansa_Image_49_jpg.rf.974d991905db7c0f276c8d649e1f6e22.txt', 'Sansa_Image_5_jpg.rf.3833353a8c98441210b769178ea8c76a.txt', 'Daenerys_Image_76_jpg.rf.dcac8981e290df06a881d36e1de8772b.txt', 'Sansa_Image_88_jpg.rf.5c7ddc6052d22851986530989252d012.txt', 'Daenerys_Image_80_jpg.rf.f0077165b6bfcaeb98752e2d0a70a6ef.txt', 'Daenerys_Image_14_jpg.rf.41234231c440ac847a900916b02c685c.txt', 'Robb_Image_50_png.rf.926ee30a9b02cf5015aa41dc81aa75c3.txt', 'Robb_Image_43_png.rf.b8563d497224a2a3d869701ec5e646b1.txt', 'Jon_Image_55_jpg.rf.f5d382621cbeee6bdbd197ab97919a45.txt', 'Jon_Image_97_jpg.rf.93a658bbb3b7d115fc587d2edf61b884.txt', 'Daenerys_Image_13_jpg.rf.3960e91738b9643639ba2a40bf4769be.txt', 'Jon_Image_53_png.rf.53d095868d7db0ca3559ec07737d4834.txt', 'Daenerys_Image_1_jpg.rf.30b927f486ff7ac1e0e70110d08c62f0.txt', 'Tyrion_Image_71_jpg.rf.1c400879f8dce42f9e0e7894fbf93326.txt', 'Robb_Image_87_png.rf.4fc8935e988da29398d2591de6a69e99.txt', 'Jon_Image_68_jpg.rf.bd226479db2a78778f1a659f7a2e89fe.txt', 'Jon_Image_69_jpg.rf.aefbc17ffa0d2f472dc1b4361625fe8f.txt', 'Daenerys_Image_48_jpg.rf.971ab2286bf0c0fd6fd67d001b2cd268.txt', 'Tyrion_Image_34_jpg.rf.3ac1fbe25320c1b24a83abbfd2640a16.txt', 'Daenerys_Image_97_jpg.rf.70cc820f70f850d0c013c7ba1924c389.txt', 'Jon_Image_93_jpg.rf.002c0e70159e6b48f4e265385e565a3f.txt', 'Robb_Image_39_jpg.rf.e3c159310776fe7901081220c708d6ae.txt', 'Daenerys_Image_71_jpg.rf.81714cdb2629824b9c7133313b50a992.txt', 'Daenerys_Image_19_jpg.rf.02d5f44bfb39a495e8d008a0c2b7c0a4.txt', 'Daenerys_Image_78_png.rf.f7c009879c82c692032e715954b12ece.txt', 'Daenerys_Image_5_jpg.rf.0fbfe244529d8515a3881e9f15ea675b.txt', 'Sansa_Image_37_png.rf.b9af98dde076837b7d453a1dad1310ec.txt', 'Tyrion_Image_44_jpg.rf.eeaefec85f76052cb8eb06eecd63dd29.txt', 'Jon_Image_71_jpg.rf.78af03b01708b52516030eb02b49eea1.txt', 'Jon_Image_45_jpg.rf.493cb8692b96184a4f362b8b8b0e54e6.txt', 'Jon_Image_20_jpg.rf.a0cbad13152c0f2cfb14f1efa45bc2b3.txt', 'Tyrion_Image_13_jpg.rf.aba10d70113aed4eb7023d7b1baf1a40.txt', 'Tyrion_Image_23_jpg.rf.f55cec9c078ec6abc0601376532e12b0.txt', 'Robb_Image_27_jpg.rf.635db5d513685fb69af6bbc5dd09b2ac.txt', 'Daenerys_Image_89_jpg.rf.99770dee90bad76d487f2ad31da918f9.txt', 'Daenerys_Image_94_png.rf.df289e5f77c580cdcf51aafec3da1335.txt', 'Sansa_Image_29_jpg.rf.ca734b09602485a4470ad09bc2e986ca.txt', 'Daenerys_Image_49_jpg.rf.cec3b9031790d061ea39401b8d1d6247.txt', 'Daenerys_Image_93_png.rf.61adc7b2e5f52591a5f03c5208b56bc5.txt', 'Daenerys_Image_39_jpg.rf.9a0a631c627442b48e32a426e56b54af.txt', 'Sansa_Image_82_jpg.rf.b1e1ca90d0236faf42fafad016fa107d.txt', 'Tyrion_Image_59_jpg.rf.47e5706a7cba2e877120323c2dbd1f86.txt', 'Robb_Image_72_png.rf.cf664629347510ac6756cd6fd8279225.txt', 'Robb_Image_45_jpg.rf.5f95eb0e163761eca25db73babc1f5d5.txt', 'Jon_Image_35_jpg.rf.dc181a939a9fe3048e02ba86e1f93d6b.txt', 'Sansa_Image_47_jpg.rf.40b2fa790a251a6fcb083488f57f9c7e.txt', 'Robb_Image_1_jpg.rf.929de8d6b2885b73978af3bc611e07cc.txt', 'Tyrion_Image_43_jpg.rf.8d4853db03733b0ad0d4c8d3fc39bd96.txt', 'Daenerys_Image_9_jpg.rf.8cc2a0e2ac698053cf0c5f14b2e44867.txt', 'Sansa_Image_81_jpg.rf.6b4cce933f5dbd76847888d73b3f4abe.txt', 'Robb_Image_69_jpeg.rf.373e747432596258827906394a230c93.txt', 'Daenerys_Image_51_jpg.rf.9ffdffa6f9948067c71f9246aaf0f890.txt', 'Tyrion_Image_6_jpg.rf.a1e0ef09a5ae3b0217927c4f38dda8c5.txt', 'Tyrion_Image_26_jpg.rf.e6e12f7512de54b5050cba3302663ec1.txt', 'Robb_Image_8_jpg.rf.4ec3e2f9542c9498f0c92246f54e58e1.txt', 'Robb_Image_97_jpg.rf.daeb6ef3ab5adaf6a0cb0e988cce4d19.txt', 'Tyrion_Image_10_jpg.rf.b0337f8749ee6e4e5032c8206e3a7579.txt', 'Sansa_Image_2_jpg.rf.5501941fda6691b2ca79265d3ed7ec41.txt', 'Sansa_Image_46_jpg.rf.23cdeb5f3051fe9864f8824806107f1e.txt', 'Sansa_Image_73_png.rf.3d00a2c91147f64e8bb798f3d9fd6537.txt', 'Jon_Image_36_jpg.rf.baed210a3d2bcfc81cd3fd537281d5e3.txt', 'Sansa_Image_87_png.rf.350eb5b583e5a10f0505e7775a2a1178.txt', 'Daenerys_Image_74_jpg.rf.2adf9c3cddf6b3d7795794eea1f5ac04.txt', 'Robb_Image_85_jpg.rf.7e47b293ab079215667f48b79a255fca.txt', 'Sansa_Image_62_jpg.rf.f2add0af0b8effb76ce2b89696728266.txt', 'Daenerys_Image_28_jpg.rf.bc4f5ef0fe68ab7126d14307d08fe393.txt', 'Robb_Image_53_png.rf.a24800a06d51f3c595c638a84c88f1b2.txt', 'Jon_Image_11_jpg.rf.da20f40b43a19d1a1bd0cfd5e3c01048.txt', 'Sansa_Image_98_png.rf.0db36f98770a8f1a8b1efc44de7baa89.txt', 'Tyrion_Image_19_jpg.rf.6a81363a76e0bc36ea224c12218278f6.txt', 'Robb_Image_83_png.rf.235e13370dfafcf96eeefa7acd33344a.txt', 'Sansa_Image_95_jpg.rf.d5074ee8979954f51f386082a81ed49f.txt', 'Robb_Image_25_png.rf.f6f9e2019e0426618cea8a5b5384f86d.txt', 'Robb_Image_86_jpg.rf.73f624149c7e67f09d1abb1b4a6eb04a.txt', 'Jon_Image_30_jpeg.rf.0efdd92bd8f6719cabd058ebc47b9f21.txt', 'Robb_Image_55_png.rf.036da25fcb3d57e9619b444fc9cd877b.txt', 'Robb_Image_19_jpg.rf.d483a4d53c2eb0cdddd304dcebf6649c.txt', 'Robb_Image_38_jpg.rf.a5548392e473ed544184409ef125e8a7.txt', 'Sansa_Image_68_jpg.rf.b92d9f33e9e6ad9b2c4c23e9761bd5a5.txt', 'Tyrion_Image_12_jpeg.rf.b2e49f6b786a23b35ca3c6511003ecaf.txt', 'Daenerys_Image_7_jpg.rf.d1508917e0bf3d6ee1bb19f48ad407f2.txt', 'Daenerys_Image_12_jpg.rf.2e60a0c4d839d18be24fde6e7d7f2fe0.txt', 'Robb_Image_22_jpg.rf.1b3ce36991e046f23b9001321596087f.txt', 'Jon_Image_5_jpg.rf.d42c4560b236d418065b6e578834f4a7.txt', 'Jon_Image_88_jpg.rf.d056f620ea185fd6f64f28a96dbd8e1b.txt', 'Daenerys_Image_58_jpg.rf.6045cf9bb0503c8dfc36110b9ff3493c.txt', 'Jon_Image_16_jpg.rf.f23a6182d047379f3c632996a61fe3ee.txt', 'Robb_Image_36_jpg.rf.5377bd86911427fe4736eabbddc407af.txt', 'Sansa_Image_15_jpg.rf.1cde1e13176f704221a3c334363b92ee.txt', 'Jon_Image_23_jpg.rf.5c6feed90bd444c65e1b0128ffa17640.txt', 'Tyrion_Image_46_jpg.rf.d7fbdad5ebac3554fdb0a3ecf3b84a04.txt', 'Jon_Image_54_jpg.rf.2d7337b2fa5e5bac05577ccc3f849253.txt', 'Daenerys_Image_21_jpg.rf.3896a4b44f69afd93cb9a9a8d4dcbd6a.txt', 'Jon_Image_81_jpg.rf.f49a47e76266855766f55bcc2809987c.txt', 'Tyrion_Image_9_jpg.rf.48907c91364d6a8df1e94645d49ff1d2.txt', 'Jon_Image_34_jpg.rf.b378216593d381aeba6c880b9d6e352c.txt', 'Tyrion_Image_55_png.rf.972e0133f8ecdc90e673d003eeed6de8.txt', 'Daenerys_Image_92_png.rf.91b84a69ec743138f55de00a0a0306ee.txt', 'Robb_Image_81_jpg.rf.40fbf69e997b18bc361501527096dc31.txt', 'Sansa_Image_67_jpg.rf.11996892146b5ac37d680be179785b73.txt', 'Tyrion_Image_72_jpg.rf.34aa9345fd5e5832fec0555380c781ad.txt', 'Sansa_Image_53_jpg.rf.63e5620ab14ce6cbb3efded49051cb37.txt', 'Tyrion_Image_24_jpg.rf.9c246572abaa0bb14cf07b70f3139245.txt', 'Tyrion_Image_83_jpeg.rf.8db0c195c4e731cc132dbf2ef71738e7.txt', 'Tyrion_Image_67_jpg.rf.c1eb320a4c394bddb0d885cc0ddcd4ce.txt', 'Sansa_Image_91_png.rf.63d6af05ca57f250c612c96cb7e41e5f.txt', 'Jon_Image_62_jpg.rf.a4f1a60188fb60ac730fb458ecf77700.txt', 'Jon_Image_38_jpg.rf.94d804c1df3e13dbd10ab2e8344e0855.txt', 'Tyrion_Image_14_jpg.rf.6d1f6dae51c752bdc42b44aaee5ed8b8.txt']\n",
            "Diretório: dataset/valid\n",
            "Subdiretórios: ['images', 'labels']\n",
            "Arquivos: []\n",
            "Diretório: dataset/valid/images\n",
            "Subdiretórios: []\n",
            "Arquivos: ['Sansa_Image_27_jpg.rf.6250c7ac671170fd9fb67cb3fc9b8575.jpg', 'Daenerys_Image_81_png.rf.129383e3ebe5c7c088542bd4aa62319e.jpg', 'Tyrion_Image_25_jpg.rf.6704ad17f92ea0c5e26a59f5a1a8f897.jpg', 'Daenerys_Image_43_jpg.rf.6b6e9a8dc7d1d24f9e175c1205181d46.jpg', 'Daenerys_Image_99_jpg.rf.2cd92dc1979b6f3eed8f534c52020e81.jpg', 'Tyrion_Image_1_jpg.rf.d3568f84276194f5df7e76ac8930d6b5.jpg', 'Daenerys_Image_15_jpg.rf.190be1c77d148cf75c19bdf78cc8955f.jpg', 'Tyrion_Image_2_jpg.rf.1a0bc7d26e35e2a9b4efc1a8198dca80.jpg', 'Tyrion_Image_60_jpg.rf.0be0aaadfb52e4dcc403e74e8c699d3c.jpg', 'Robb_Image_47_jpg.rf.5b481bd807fe0b782cef6aa9d17d77be.jpg', 'Sansa_Image_70_jpg.rf.a04f665abaea7bf8c1a4f5a79b2a59c4.jpg', 'Jon_Image_64_jpg.rf.13752f505cf410090d2614d0a3641103.jpg', 'Robb_Image_93_jpg.rf.7554dddbcc194ac694d030e991cd099e.jpg', 'Robb_Image_26_png.rf.18f35012c44251ccb3175d0b2df887d7.jpg', 'Jon_Image_95_png.rf.845f31202265a41a09459305e612f863.jpg', 'Tyrion_Image_56_jpg.rf.6da2a12c93991df55427a2383d9dac7f.jpg', 'Sansa_Image_54_png.rf.901ea7d779af9b122025dbcff734be57.jpg', 'Jon_Image_27_jpg.rf.d6020f794e74a78dba7ae8b571d1cdcc.jpg', 'Daenerys_Image_96_jpg.rf.0b969c149db20e309b07ba15b3c721d2.jpg', 'Jon_Image_77_jpg.rf.79cf7b945ed1f0ed692c80536fe1deb7.jpg', 'Jon_Image_59_png.rf.deeead974535e911f3c7c9a2121e8419.jpg', 'Jon_Image_78_jpg.rf.47608ba41875eb661ecbb417ceb6b41d.jpg', 'Daenerys_Image_23_jpg.rf.88a5161ee2fbb0fa5c844847b718bc30.jpg', 'Tyrion_Image_82_jpg.rf.d8a89cfd0a366807da2c60e6211783a4.jpg', 'Tyrion_Image_69_jpg.rf.d36ce8d34beb70713f449800bafe29a9.jpg', 'Sansa_Image_45_jpg.rf.9917ae7d810608654d6cbfe36c0ea3d6.jpg', 'Robb_Image_23_jpg.rf.8e01cb7221162004bbddaa16393006ef.jpg', 'Tyrion_Image_87_jpg.rf.562c5fc31dc01b78484e797d4d6da125.jpg', 'Robb_Image_11_jpg.rf.4d05ae66a89a587498b4fa919478f62d.jpg', 'Sansa_Image_14_jpg.rf.ecb37cec08f4000a0e3c1d6aeccf6bb9.jpg', 'Sansa_Image_89_png.rf.6d8dd68b622d394bb11c639fffd7e9e8.jpg', 'Sansa_Image_24_jpg.rf.74986cc25a5e2ceb9bcb84c6f31fdc11.jpg', 'Jon_Image_9_jpg.rf.6f7fe95d513951a88661aaa57d2d910e.jpg', 'Daenerys_Image_60_png.rf.3baad9f635d7a66046216211e3ace00c.jpg', 'Sansa_Image_84_jpg.rf.fe9b698b999935918fec750b51a54a54.jpg', 'Robb_Image_99_png.rf.cf8a53b56c5358f084bc8b3b09e2f919.jpg', 'Daenerys_Image_29_jpg.rf.6d0566ca167d6c43e3302324a38e8e5d.jpg', 'Robb_Image_77_png.rf.99397a1555f2e93d57cc55bb5880f0cf.jpg', 'Sansa_Image_79_jpg.rf.165caad8a814d3f5c14ef1b065c1b664.jpg', 'Robb_Image_28_png.rf.7534d0c179d91e20649008ebfceeccf8.jpg', 'Tyrion_Image_39_jpeg.rf.317183b3c3b0f9f91cbfcb47c2cb1fe2.jpg', 'Robb_Image_14_jpg.rf.bd399d5d99d9c0b3749bf40347cd788c.jpg', 'Jon_Image_80_jpg.rf.1369733fc738206f060dee915d766680.jpg', 'Daenerys_Image_86_jpg.rf.3b3a73ee2e79a167328eaf450272c417.jpg', 'Sansa_Image_21_png.rf.435d5447fd1e179c2839e50a88536560.jpg', 'Jon_Image_60_jpg.rf.229015377702f0f40dfe44bb59311df2.jpg', 'Robb_Image_37_jpg.rf.804289ca7f96af45387fce903b1af607.jpg', 'Jon_Image_63_jpg.rf.0d99957cd0e61939acc63afea8b96e7b.jpg', 'Robb_Image_10_jpg.rf.db788d8b082f9f651f139602b2672eeb.jpg', 'Tyrion_Image_50_png.rf.841a56e5122a717cfef6ed769603dce5.jpg', 'Daenerys_Image_66_jpg.rf.b344ce3c783086e331dc37253020f7fc.jpg', 'Tyrion_Image_3_jpg.rf.44fa645fa588912caaa5434c7c3b7322.jpg', 'Jon_Image_73_jpg.rf.28df8472d7266c72e0d0ba2b611bf8f4.jpg', 'Jon_Image_75_jpg.rf.9d326dad99f2ed6eff7e9e4d553a1315.jpg', 'Robb_Image_74_png.rf.cac8cea113c8f57f47db393aaadd3bc5.jpg', 'Sansa_Image_25_png.rf.67485a9413cb713da0300e0ca462553c.jpg', 'Jon_Image_21_jpg.rf.c2000e557391bbdbbf724cf040ac8eeb.jpg', 'Tyrion_Image_31_jpg.rf.cc164a87c8545c2a2ca80ac8e2cbc533.jpg', 'Tyrion_Image_49_jpg.rf.4b252119fbb7425d72a37c58e623fc0c.jpg', 'Sansa_Image_57_jpg.rf.20eebe6a36ed0d2f46454d6e9088cada.jpg', 'Tyrion_Image_22_jpg.rf.8e040665e2803256a0ef0818045bbd26.jpg', 'Daenerys_Image_83_png.rf.a3ebd828da2a010591afcc132f916a09.jpg', 'Jon_Image_2_jpg.rf.3f4c3ffb271445c6174608f842cba5f5.jpg', 'Tyrion_Image_16_jpg.rf.90a58a997a0033a4106faf53bf61bb3d.jpg', 'Jon_Image_56_jpg.rf.4bfdf77d2fa9e5336c2e6ffb5bda07cb.jpg', 'Jon_Image_46_jpg.rf.984ec289f08c4f28451c91411106bfac.jpg', 'Robb_Image_4_jpg.rf.70604a458c44c755104d4a9fc72d1ade.jpg', 'Jon_Image_61_jpg.rf.68fbe81f46fbcad0961e6d3d0c7f1123.jpg', 'Sansa_Image_48_png.rf.65bcb4eff2b025a2cf57f5d080b82c14.jpg', 'Jon_Image_49_jpg.rf.28190af66f7ad7772074887175347541.jpg', 'Robb_Image_51_jpg.rf.bb988f9e2d67970c2574141974bff3a4.jpg', 'Sansa_Image_76_jpg.rf.6ba42c1038b3323051064fa6a93c6e61.jpg', 'Tyrion_Image_17_jpg.rf.d7051be7ff7bdf2587c908abc19d6729.jpg', 'Robb_Image_29_jpg.rf.bf2e570ebfb2ef73296c1b6a21c1e983.jpg', 'Jon_Image_90_jpg.rf.c67f8a264093f9a3e748e60a2f54fd20.jpg', 'Robb_Image_79_jpg.rf.bc120d1271c6ae35260febfba98256bc.jpg', 'Daenerys_Image_18_jpg.rf.9954c184c6001eb87e639b48d6f871ff.jpg', 'Sansa_Image_36_jpg.rf.7d9afa600dd5002eaf4bb8141fb59561.jpg', 'Jon_Image_44_jpg.rf.569da2bf161e0dc887ed325ef481b44d.jpg']\n",
            "Diretório: dataset/valid/labels\n",
            "Subdiretórios: []\n",
            "Arquivos: ['Daenerys_Image_66_jpg.rf.b344ce3c783086e331dc37253020f7fc.txt', 'Tyrion_Image_56_jpg.rf.6da2a12c93991df55427a2383d9dac7f.txt', 'Sansa_Image_57_jpg.rf.20eebe6a36ed0d2f46454d6e9088cada.txt', 'Jon_Image_2_jpg.rf.3f4c3ffb271445c6174608f842cba5f5.txt', 'Jon_Image_95_png.rf.845f31202265a41a09459305e612f863.txt', 'Daenerys_Image_86_jpg.rf.3b3a73ee2e79a167328eaf450272c417.txt', 'Daenerys_Image_96_jpg.rf.0b969c149db20e309b07ba15b3c721d2.txt', 'Robb_Image_4_jpg.rf.70604a458c44c755104d4a9fc72d1ade.txt', 'Tyrion_Image_17_jpg.rf.d7051be7ff7bdf2587c908abc19d6729.txt', 'Jon_Image_73_jpg.rf.28df8472d7266c72e0d0ba2b611bf8f4.txt', 'Sansa_Image_54_png.rf.901ea7d779af9b122025dbcff734be57.txt', 'Robb_Image_99_png.rf.cf8a53b56c5358f084bc8b3b09e2f919.txt', 'Tyrion_Image_87_jpg.rf.562c5fc31dc01b78484e797d4d6da125.txt', 'Tyrion_Image_22_jpg.rf.8e040665e2803256a0ef0818045bbd26.txt', 'Sansa_Image_70_jpg.rf.a04f665abaea7bf8c1a4f5a79b2a59c4.txt', 'Daenerys_Image_81_png.rf.129383e3ebe5c7c088542bd4aa62319e.txt', 'Robb_Image_28_png.rf.7534d0c179d91e20649008ebfceeccf8.txt', 'Sansa_Image_79_jpg.rf.165caad8a814d3f5c14ef1b065c1b664.txt', 'Jon_Image_78_jpg.rf.47608ba41875eb661ecbb417ceb6b41d.txt', 'Tyrion_Image_2_jpg.rf.1a0bc7d26e35e2a9b4efc1a8198dca80.txt', 'Jon_Image_75_jpg.rf.9d326dad99f2ed6eff7e9e4d553a1315.txt', 'Daenerys_Image_43_jpg.rf.6b6e9a8dc7d1d24f9e175c1205181d46.txt', 'Tyrion_Image_49_jpg.rf.4b252119fbb7425d72a37c58e623fc0c.txt', 'Jon_Image_80_jpg.rf.1369733fc738206f060dee915d766680.txt', 'Jon_Image_44_jpg.rf.569da2bf161e0dc887ed325ef481b44d.txt', 'Sansa_Image_24_jpg.rf.74986cc25a5e2ceb9bcb84c6f31fdc11.txt', 'Sansa_Image_21_png.rf.435d5447fd1e179c2839e50a88536560.txt', 'Jon_Image_59_png.rf.deeead974535e911f3c7c9a2121e8419.txt', 'Robb_Image_14_jpg.rf.bd399d5d99d9c0b3749bf40347cd788c.txt', 'Robb_Image_29_jpg.rf.bf2e570ebfb2ef73296c1b6a21c1e983.txt', 'Sansa_Image_84_jpg.rf.fe9b698b999935918fec750b51a54a54.txt', 'Robb_Image_47_jpg.rf.5b481bd807fe0b782cef6aa9d17d77be.txt', 'Tyrion_Image_1_jpg.rf.d3568f84276194f5df7e76ac8930d6b5.txt', 'Daenerys_Image_60_png.rf.3baad9f635d7a66046216211e3ace00c.txt', 'Robb_Image_23_jpg.rf.8e01cb7221162004bbddaa16393006ef.txt', 'Robb_Image_11_jpg.rf.4d05ae66a89a587498b4fa919478f62d.txt', 'Tyrion_Image_16_jpg.rf.90a58a997a0033a4106faf53bf61bb3d.txt', 'Robb_Image_74_png.rf.cac8cea113c8f57f47db393aaadd3bc5.txt', 'Jon_Image_60_jpg.rf.229015377702f0f40dfe44bb59311df2.txt', 'Daenerys_Image_83_png.rf.a3ebd828da2a010591afcc132f916a09.txt', 'Robb_Image_93_jpg.rf.7554dddbcc194ac694d030e991cd099e.txt', 'Daenerys_Image_15_jpg.rf.190be1c77d148cf75c19bdf78cc8955f.txt', 'Sansa_Image_14_jpg.rf.ecb37cec08f4000a0e3c1d6aeccf6bb9.txt', 'Tyrion_Image_3_jpg.rf.44fa645fa588912caaa5434c7c3b7322.txt', 'Daenerys_Image_18_jpg.rf.9954c184c6001eb87e639b48d6f871ff.txt', 'Daenerys_Image_99_jpg.rf.2cd92dc1979b6f3eed8f534c52020e81.txt', 'Sansa_Image_27_jpg.rf.6250c7ac671170fd9fb67cb3fc9b8575.txt', 'Robb_Image_10_jpg.rf.db788d8b082f9f651f139602b2672eeb.txt', 'Jon_Image_27_jpg.rf.d6020f794e74a78dba7ae8b571d1cdcc.txt', 'Jon_Image_77_jpg.rf.79cf7b945ed1f0ed692c80536fe1deb7.txt', 'Robb_Image_79_jpg.rf.bc120d1271c6ae35260febfba98256bc.txt', 'Daenerys_Image_23_jpg.rf.88a5161ee2fbb0fa5c844847b718bc30.txt', 'Robb_Image_51_jpg.rf.bb988f9e2d67970c2574141974bff3a4.txt', 'Robb_Image_26_png.rf.18f35012c44251ccb3175d0b2df887d7.txt', 'Tyrion_Image_31_jpg.rf.cc164a87c8545c2a2ca80ac8e2cbc533.txt', 'Robb_Image_37_jpg.rf.804289ca7f96af45387fce903b1af607.txt', 'Jon_Image_90_jpg.rf.c67f8a264093f9a3e748e60a2f54fd20.txt', 'Sansa_Image_48_png.rf.65bcb4eff2b025a2cf57f5d080b82c14.txt', 'Jon_Image_64_jpg.rf.13752f505cf410090d2614d0a3641103.txt', 'Jon_Image_46_jpg.rf.984ec289f08c4f28451c91411106bfac.txt', 'Tyrion_Image_50_png.rf.841a56e5122a717cfef6ed769603dce5.txt', 'Robb_Image_77_png.rf.99397a1555f2e93d57cc55bb5880f0cf.txt', 'Sansa_Image_25_png.rf.67485a9413cb713da0300e0ca462553c.txt', 'Tyrion_Image_25_jpg.rf.6704ad17f92ea0c5e26a59f5a1a8f897.txt', 'Jon_Image_21_jpg.rf.c2000e557391bbdbbf724cf040ac8eeb.txt', 'Tyrion_Image_69_jpg.rf.d36ce8d34beb70713f449800bafe29a9.txt', 'Tyrion_Image_82_jpg.rf.d8a89cfd0a366807da2c60e6211783a4.txt', 'Tyrion_Image_39_jpeg.rf.317183b3c3b0f9f91cbfcb47c2cb1fe2.txt', 'Tyrion_Image_60_jpg.rf.0be0aaadfb52e4dcc403e74e8c699d3c.txt', 'Sansa_Image_45_jpg.rf.9917ae7d810608654d6cbfe36c0ea3d6.txt', 'Jon_Image_63_jpg.rf.0d99957cd0e61939acc63afea8b96e7b.txt', 'Sansa_Image_89_png.rf.6d8dd68b622d394bb11c639fffd7e9e8.txt', 'Sansa_Image_36_jpg.rf.7d9afa600dd5002eaf4bb8141fb59561.txt', 'Jon_Image_61_jpg.rf.68fbe81f46fbcad0961e6d3d0c7f1123.txt', 'Jon_Image_9_jpg.rf.6f7fe95d513951a88661aaa57d2d910e.txt', 'Jon_Image_49_jpg.rf.28190af66f7ad7772074887175347541.txt', 'Sansa_Image_76_jpg.rf.6ba42c1038b3323051064fa6a93c6e61.txt', 'Daenerys_Image_29_jpg.rf.6d0566ca167d6c43e3302324a38e8e5d.txt', 'Jon_Image_56_jpg.rf.4bfdf77d2fa9e5336c2e6ffb5bda07cb.txt']\n"
          ]
        }
      ]
    },
    {
      "cell_type": "code",
      "source": [
        "import os\n",
        "\n",
        "# Verificar o conteúdo do diretório de imagens de treinamento\n",
        "train_images_dir = './dataset/train/images'\n",
        "print(\"Arquivos no diretório de treino:\", os.listdir(train_images_dir))\n"
      ],
      "metadata": {
        "colab": {
          "base_uri": "https://localhost:8080/"
        },
        "id": "mrstfxTTbigT",
        "outputId": "873747f6-e9c3-4025-d24b-a33a2dca2ec5"
      },
      "execution_count": null,
      "outputs": [
        {
          "output_type": "stream",
          "name": "stdout",
          "text": [
            "Arquivos no diretório de treino: ['Sansa_Image_47_jpg.rf.40b2fa790a251a6fcb083488f57f9c7e.jpg', 'Robb_Image_45_jpg.rf.5f95eb0e163761eca25db73babc1f5d5.jpg', 'Jon_Image_36_jpg.rf.baed210a3d2bcfc81cd3fd537281d5e3.jpg', 'Jon_Image_32_jpg.rf.7652af54d6615e5b9d4e583677deebd8.jpg', 'Sansa_Image_16_jpg.rf.586517f5bd71fc7dbe9ebfc54d96cdf8.jpg', 'Daenerys_Image_92_png.rf.91b84a69ec743138f55de00a0a0306ee.jpg', 'Jon_Image_23_jpg.rf.5c6feed90bd444c65e1b0128ffa17640.jpg', 'Robb_Image_8_jpg.rf.4ec3e2f9542c9498f0c92246f54e58e1.jpg', 'Daenerys_Image_2_jpg.rf.50863e65a4863fa71aa054734d4482af.jpg', 'Daenerys_Image_7_jpg.rf.d1508917e0bf3d6ee1bb19f48ad407f2.jpg', 'Sansa_Image_42_jpg.rf.95fb911bd9d10c9bd8069ddf4c873d71.jpg', 'Sansa_Image_80_jpg.rf.67348c2e058e20495922b3d949c35f0d.jpg', 'Sansa_Image_44_jpg.rf.5fa9aaf1cb53684e30e8ab23e4f24c34.jpg', 'Sansa_Image_62_jpg.rf.f2add0af0b8effb76ce2b89696728266.jpg', 'Robb_Image_15_jpg.rf.304f793b0538ab29d9b9ed57c56e6f45.jpg', 'Jon_Image_3_jpg.rf.c070cdbbce6c348c223182ad04ab1a56.jpg', 'Sansa_Image_8_jpg.rf.48b31512578bccbaf934e4745d7605c3.jpg', 'Tyrion_Image_21_jpg.rf.4d1fc9ac7fdc452fb337309a24e497c5.jpg', 'Sansa_Image_50_jpg.rf.2704a2327a3265d980a7644ec9e2b8c6.jpg', 'Jon_Image_62_jpg.rf.a4f1a60188fb60ac730fb458ecf77700.jpg', 'Robb_Image_80_jpg.rf.316645ba24888344d932d10f636ca048.jpg', 'Tyrion_Image_40_png.rf.0cd44df7d0946b961805d76022e23bd3.jpg', 'Robb_Image_60_jpg.rf.9f81381af87ac174b21246b759910f1c.jpg', 'Robb_Image_34_jpg.rf.10131c84f1280cf8a4086572bf09f8b1.jpg', 'Jon_Image_97_jpg.rf.93a658bbb3b7d115fc587d2edf61b884.jpg', 'Daenerys_Image_33_jpg.rf.f3a61056b8498dbc92ce6668b545af46.jpg', 'Robb_Image_18_png.rf.c7137a31eaf9b4351417420f021fe00e.jpg', 'Jon_Image_72_jpg.rf.7e6d77adaa3fb2e29970dfe3732fdd8b.jpg', 'Robb_Image_25_png.rf.f6f9e2019e0426618cea8a5b5384f86d.jpg', 'Sansa_Image_66_jpg.rf.ca3d4aa76bdffd3a63ac609420f3e5fc.jpg', 'Jon_Image_40_jpg.rf.e512575f5ab7364a8f46b1b8c42ec40b.jpg', 'Sansa_Image_85_png.rf.a6c31ce94ce4454e5815ef1fb48714a9.jpg', 'Tyrion_Image_13_jpg.rf.aba10d70113aed4eb7023d7b1baf1a40.jpg', 'Sansa_Image_64_jpg.rf.66069e7a7ffa438c672dcf577919a73e.jpg', 'Robb_Image_36_jpg.rf.5377bd86911427fe4736eabbddc407af.jpg', 'Jon_Image_19_jpg.rf.7f44bf68dc729487e40eb8f69a7ab503.jpg', 'Sansa_Image_86_jpg.rf.3a8fe1d24b4bdf8298e4c84cc8ebcdc6.jpg', 'Jon_Image_34_jpg.rf.b378216593d381aeba6c880b9d6e352c.jpg', 'Daenerys_Image_65_jpg.rf.cf878d38c37fbd27cc9e0b728895eed9.jpg', 'Sansa_Image_4_jpg.rf.d9560e21a5c0b12468765917ff56b039.jpg', 'Daenerys_Image_28_jpg.rf.bc4f5ef0fe68ab7126d14307d08fe393.jpg', 'Daenerys_Image_80_jpg.rf.f0077165b6bfcaeb98752e2d0a70a6ef.jpg', 'Jon_Image_83_jpg.rf.6fe224769dac507884664f3ab3959a4a.jpg', 'Jon_Image_57_jpg.rf.21f8fd6044836dc3e259629a3b504d2a.jpg', 'Robb_Image_27_jpg.rf.635db5d513685fb69af6bbc5dd09b2ac.jpg', 'Robb_Image_21_jpg.rf.d4974bb910b3f07cfae699b39ca3007a.jpg', 'Sansa_Image_38_jpg.rf.c43a955cc16d4e59c1e7922e4cc422dd.jpg', 'Robb_Image_50_png.rf.926ee30a9b02cf5015aa41dc81aa75c3.jpg', 'Jon_Image_10_jpg.rf.31c9c86c23f87e1476710f0959cbf0db.jpg', 'Sansa_Image_37_png.rf.b9af98dde076837b7d453a1dad1310ec.jpg', 'Daenerys_Image_75_png.rf.609c6c47f67c771fa8fa97c74e0656f0.jpg', 'Daenerys_Image_76_jpg.rf.dcac8981e290df06a881d36e1de8772b.jpg', 'Jon_Image_69_jpg.rf.aefbc17ffa0d2f472dc1b4361625fe8f.jpg', 'Daenerys_Image_32_png.rf.477167f2126bf2ba72cdb520e1a5eaf8.jpg', 'Sansa_Image_17_jpg.rf.01431a3b44695fdcb64ace0d7ebd9eb0.jpg', 'Daenerys_Image_8_jpg.rf.37b8289692d80522a89de1c15de0222f.jpg', 'Sansa_Image_92_jpg.rf.4c5124e48ea7830e7e309fe1445f5a5f.jpg', 'Daenerys_Image_97_jpg.rf.70cc820f70f850d0c013c7ba1924c389.jpg', 'Sansa_Image_93_jpg.rf.2ca0c8b94ece1c5f8ccf4fd08b16c3aa.jpg', 'Sansa_Image_100_jpg.rf.ddd76fb63da7e14e4b7332345027cd8c.jpg', 'Sansa_Image_29_jpg.rf.ca734b09602485a4470ad09bc2e986ca.jpg', 'Daenerys_Image_48_jpg.rf.971ab2286bf0c0fd6fd67d001b2cd268.jpg', 'Jon_Image_13_jpg.rf.843e1f2362550e4f2360c71fa214e080.jpg', 'Robb_Image_92_png.rf.737805f2816048639b040e4dda81c7b9.jpg', 'Daenerys_Image_55_jpg.rf.2a7ad7bb5884375d71f8a944d9b97cfc.jpg', 'Robb_Image_76_png.rf.5ebcae5ffb9d019a707ad511f9d5c06a.jpg', 'Robb_Image_96_jpg.rf.a0095aa9e47f3249ee313a1cc66bca0c.jpg', 'Robb_Image_58_jpg.rf.7fba34d53258489faa2b268f6733f502.jpg', 'Daenerys_Image_16_jpg.rf.22060f2ec4435257b9e3ead2522d0b14.jpg', 'Jon_Image_88_jpg.rf.d056f620ea185fd6f64f28a96dbd8e1b.jpg', 'Jon_Image_4_jpg.rf.ff4969035df71077a269d3e947628e76.jpg', 'Tyrion_Image_9_jpg.rf.48907c91364d6a8df1e94645d49ff1d2.jpg', 'Tyrion_Image_26_jpg.rf.e6e12f7512de54b5050cba3302663ec1.jpg', 'Daenerys_Image_82_jpg.rf.198d249bec7ca4acd07badc30c74b84d.jpg', 'Sansa_Image_43_jpg.rf.fb5683323e6ba7c917f0d226715c9050.jpg', 'Jon_Image_35_jpg.rf.dc181a939a9fe3048e02ba86e1f93d6b.jpg', 'Tyrion_Image_37_jpg.rf.bf7eee5b2410241202610d06ac125e07.jpg', 'Sansa_Image_61_jpg.rf.83a0671078d99f155bb5cdce858110ce.jpg', 'Jon_Image_30_jpeg.rf.0efdd92bd8f6719cabd058ebc47b9f21.jpg', 'Robb_Image_69_jpeg.rf.373e747432596258827906394a230c93.jpg', 'Tyrion_Image_34_jpg.rf.3ac1fbe25320c1b24a83abbfd2640a16.jpg', 'Daenerys_Image_74_jpg.rf.2adf9c3cddf6b3d7795794eea1f5ac04.jpg', 'Daenerys_Image_20_jpg.rf.da1938c39f3a1524648b1403958260ef.jpg', 'Sansa_Image_20_jpg.rf.2a56f94391d68f2400fd0e6120b778df.jpg', 'Sansa_Image_49_jpg.rf.974d991905db7c0f276c8d649e1f6e22.jpg', 'Sansa_Image_18_jpg.rf.2794892edcdc6ca22c3ba78fe230e0a8.jpg', 'Daenerys_Image_36_jpg.rf.6ca338ac27725d3a56f736b792d8bc20.jpg', 'Robb_Image_72_png.rf.cf664629347510ac6756cd6fd8279225.jpg', 'Sansa_Image_33_jpg.rf.23828b6a5361f244d8cc7211d679241d.jpg', 'Tyrion_Image_15_jpg.rf.7563e30a056edd57846aa20a81c83c4e.jpg', 'Sansa_Image_96_png.rf.7a9f9e7d327da96cc4969091cd62e2c2.jpg', 'Daenerys_Image_59_jpg.rf.91a68a27c9f12a3c1a972b459d4e2fad.jpg', 'Tyrion_Image_5_jpg.rf.52435f460688f74ebd4bcb2712708789.jpg', 'Tyrion_Image_8_jpg.rf.59d27117a632d43a7b32a5e5dcce455d.jpg', 'Robb_Image_49_jpg.rf.83e49427cf1a5dbd7e24055296783595.jpg', 'Robb_Image_66_jpg.rf.9cbc0ae984231d3309177be5094aeb14.jpg', 'Robb_Image_38_jpg.rf.a5548392e473ed544184409ef125e8a7.jpg', 'Jon_Image_93_jpg.rf.002c0e70159e6b48f4e265385e565a3f.jpg', 'Sansa_Image_88_jpg.rf.5c7ddc6052d22851986530989252d012.jpg', 'Jon_Image_54_jpg.rf.2d7337b2fa5e5bac05577ccc3f849253.jpg', 'Jon_Image_5_jpg.rf.d42c4560b236d418065b6e578834f4a7.jpg', 'Tyrion_Image_10_jpg.rf.b0337f8749ee6e4e5032c8206e3a7579.jpg', 'Daenerys_Image_13_jpg.rf.3960e91738b9643639ba2a40bf4769be.jpg', 'Robb_Image_55_png.rf.036da25fcb3d57e9619b444fc9cd877b.jpg', 'Robb_Image_53_png.rf.a24800a06d51f3c595c638a84c88f1b2.jpg', 'Sansa_Image_81_jpg.rf.6b4cce933f5dbd76847888d73b3f4abe.jpg', 'Daenerys_Image_38_jpg.rf.e10ecfb5b5c4a3f2bcf055c0e00dfa21.jpg', 'Sansa_Image_35_jpg.rf.1530ce2d83016b146d8fce9cb6fc02e1.jpg', 'Robb_Image_88_jpg.rf.3ea66e76c1e1c25ed7e38e0f520e6369.jpg', 'Daenerys_Image_78_png.rf.f7c009879c82c692032e715954b12ece.jpg', 'Daenerys_Image_45_jpg.rf.7217f3ffe0f995b129b4a880699c8038.jpg', 'Daenerys_Image_39_jpg.rf.9a0a631c627442b48e32a426e56b54af.jpg', 'Jon_Image_81_jpg.rf.f49a47e76266855766f55bcc2809987c.jpg', 'Tyrion_Image_41_jpg.rf.ab5fc5857f62253817a75576721682e1.jpg', 'Sansa_Image_99_jpg.rf.1b1d9dca2f263b8fa48fd40fa80032cc.jpg', 'Daenerys_Image_93_png.rf.61adc7b2e5f52591a5f03c5208b56bc5.jpg', 'Jon_Image_12_jpg.rf.aac638ca0f10251a34147457aedb8932.jpg', 'Robb_Image_19_jpg.rf.d483a4d53c2eb0cdddd304dcebf6649c.jpg', 'Sansa_Image_2_jpg.rf.5501941fda6691b2ca79265d3ed7ec41.jpg', 'Robb_Image_84_jpg.rf.37fb075055fa00769f2a8b7ffdbd45ac.jpg', 'Robb_Image_30_PNG.rf.6f1de2641d477b92432d2f9725ed71b9.jpg', 'Daenerys_Image_21_jpg.rf.3896a4b44f69afd93cb9a9a8d4dcbd6a.jpg', 'Sansa_Image_87_png.rf.350eb5b583e5a10f0505e7775a2a1178.jpg', 'Daenerys_Image_44_png.rf.a73d511e2a0e3d7262aa87cea1c5b82d.jpg', 'Jon_Image_38_jpg.rf.94d804c1df3e13dbd10ab2e8344e0855.jpg', 'Jon_Image_16_jpg.rf.f23a6182d047379f3c632996a61fe3ee.jpg', 'Daenerys_Image_73_jpg.rf.5b8f156b7fb666d5910216be5892cd7f.jpg', 'Daenerys_Image_41_jpg.rf.9354c2c421b4aa4e74d322c6a0696a76.jpg', 'Sansa_Image_91_png.rf.63d6af05ca57f250c612c96cb7e41e5f.jpg', 'Tyrion_Image_65_jpg.rf.a9408392af36504999b14228e5c216ad.jpg', 'Jon_Image_47_jpg.rf.941167e6940d5f69451eead355348c9f.jpg', 'Jon_Image_66_jpg.rf.3e07b628943a39dc49b53226e2e14d62.jpg', 'Daenerys_Image_3_jpg.rf.07ff3dbeb6ab592a47307179c45a7789.jpg', 'Tyrion_Image_29_jpg.rf.531d6754979de09835e01065698ff4e0.jpg', 'Tyrion_Image_52_jpg.rf.35318a1a48fc2b5f7a28ca069e41ad97.jpg', 'Tyrion_Image_59_jpg.rf.47e5706a7cba2e877120323c2dbd1f86.jpg', 'Tyrion_Image_55_png.rf.972e0133f8ecdc90e673d003eeed6de8.jpg', 'Jon_Image_14_jpg.rf.05c7b64e7ce28f0bc36e7425e7d6522b.jpg', 'Robb_Image_75_jpg.rf.2c816802206dff4e80b0117029ce094d.jpg', 'Robb_Image_70_jpg.rf.61f7d7ba4d7ac5ffb30b37cd4dc5a848.jpg', 'Sansa_Image_73_png.rf.3d00a2c91147f64e8bb798f3d9fd6537.jpg', 'Sansa_Image_5_jpg.rf.3833353a8c98441210b769178ea8c76a.jpg', 'Jon_Image_22_jpg.rf.9fe35e3735b4c5e01043ab4dcb0d19b3.jpg', 'Daenerys_Image_35_jpg.rf.d4faa9cd736c41d19b59caf292db29c2.jpg', 'Tyrion_Image_80_jpg.rf.ab9c370708b539c93010fc00b36fa468.jpg', 'Jon_Image_53_png.rf.53d095868d7db0ca3559ec07737d4834.jpg', 'Sansa_Image_98_png.rf.0db36f98770a8f1a8b1efc44de7baa89.jpg', 'Tyrion_Image_24_jpg.rf.9c246572abaa0bb14cf07b70f3139245.jpg', 'Sansa_Image_41_jpg.rf.ff4f05b2dd330f2b20ce17016de6bae5.jpg', 'Robb_Image_78_jpg.rf.d7cfe40ad75fce8e177f232655ce5a48.jpg', 'Sansa_Image_53_jpg.rf.63e5620ab14ce6cbb3efded49051cb37.jpg', 'Tyrion_Image_4_jpg.rf.52091571da2537f178a860c3ed8c5fa9.jpg', 'Robb_Image_64_png.rf.b995766223563c860b0da881a9c83f22.jpg', 'Jon_Image_92_jpeg.rf.92f407731054ee8560dd9f2a10606f6c.jpg', 'Tyrion_Image_46_jpg.rf.d7fbdad5ebac3554fdb0a3ecf3b84a04.jpg', 'Jon_Image_24_jpg.rf.646910182ff742e1fbc07f7a84aefd37.jpg', 'Robb_Image_57_png.rf.f3063bffb8b9c99b4ce238e5e5d2b7df.jpg', 'Robb_Image_3_jpg.rf.462f7c050c90fc6e541ef591bea6310a.jpg', 'Tyrion_Image_12_jpeg.rf.b2e49f6b786a23b35ca3c6511003ecaf.jpg', 'Jon_Image_79_jpg.rf.0bdf8313ad67ce12260aa7eede599baa.jpg', 'Tyrion_Image_44_jpg.rf.eeaefec85f76052cb8eb06eecd63dd29.jpg', 'Robb_Image_62_png.rf.593a0986d77b780d4acea038cf245740.jpg', 'Robb_Image_67_jpg.rf.bdba3f4cd883a62cdbd2b4f3eadb9c64.jpg', 'Jon_Image_70_jpg.rf.2512dc41d448db4225a92d9205464d07.jpg', 'Robb_Image_16_png.rf.1a091b212a2385634484a3b1aad579d0.jpg', 'Daenerys_Image_49_jpg.rf.cec3b9031790d061ea39401b8d1d6247.jpg', 'Sansa_Image_60_jpg.rf.167ed91dcc1b50c791c6d91f35e22e69.jpg', 'Robb_Image_1_jpg.rf.929de8d6b2885b73978af3bc611e07cc.jpg', 'Jon_Image_28_jpeg.rf.e3de2083337b1a9aaaeb28e70d562872.jpg', 'Jon_Image_51_jpg.rf.59d80a1ee5dad24bce502afac256b476.jpg', 'Daenerys_Image_42_png.rf.f9aa9af8371910aca6af433bdcfa4901.jpg', 'Robb_Image_9_jpg.rf.df12476fa19e44bcd736ee1727574464.jpg', 'Robb_Image_87_png.rf.4fc8935e988da29398d2591de6a69e99.jpg', 'Robb_Image_68_jpg.rf.971946f5252f2c18bcd483275c6e1c9f.jpg', 'Robb_Image_32_jpg.rf.8a230d2fbfc3a37f0fd866a25fa3d695.jpg', 'Tyrion_Image_83_jpeg.rf.8db0c195c4e731cc132dbf2ef71738e7.jpg', 'Jon_Image_98_jpg.rf.7ba631d36ac97c9b208ae8e9be2723d4.jpg', 'Jon_Image_20_jpg.rf.a0cbad13152c0f2cfb14f1efa45bc2b3.jpg', 'Tyrion_Image_73_jpg.rf.87f6665c829715200ec62df611643fc7.jpg', 'Robb_Image_17_png.rf.89d354657513c29fbcd18d7905ce8b06.jpg', 'Daenerys_Image_58_jpg.rf.6045cf9bb0503c8dfc36110b9ff3493c.jpg', 'Jon_Image_1_jpg.rf.17f7ab8e09996f9fd153f75745374e67.jpg', 'Jon_Image_26_jpg.rf.5db6d76ea4176d8bbe40ba3b08323f8d.jpg', 'Tyrion_Image_43_jpg.rf.8d4853db03733b0ad0d4c8d3fc39bd96.jpg', 'Jon_Image_7_jpg.rf.1adf49ae9015ed9a93b674b347fabff1.jpg', 'Daenerys_Image_6_jpg.rf.f9d169c5988c5475a96a1f059c6e23e1.jpg', 'Tyrion_Image_71_jpg.rf.1c400879f8dce42f9e0e7894fbf93326.jpg', 'Sansa_Image_67_jpg.rf.11996892146b5ac37d680be179785b73.jpg', 'Tyrion_Image_38_jpg.rf.d146759ebdd106caa473d471a98e0fc8.jpg', 'Daenerys_Image_22_jpg.rf.eb7497f5574990433e94ab653458b452.jpg', 'Sansa_Image_34_jpg.rf.848d00ffe3232efc8af0580a954ce260.jpg', 'Daenerys_Image_47_jpg.rf.fae6bea9b865a488abeebb7656b22aef.jpg', 'Robb_Image_86_jpg.rf.73f624149c7e67f09d1abb1b4a6eb04a.jpg', 'Tyrion_Image_72_jpg.rf.34aa9345fd5e5832fec0555380c781ad.jpg', 'Sansa_Image_30_jpg.rf.e0a774cd9cacbcf8afd80626903075b5.jpg', 'Daenerys_Image_56_jpg.rf.08a22c91a94dcf4560107c4148637fbe.jpg', 'Sansa_Image_69_jpg.rf.fc5e2ebfc81c6e43bca50f196a0b1496.jpg', 'Daenerys_Image_51_jpg.rf.9ffdffa6f9948067c71f9246aaf0f890.jpg', 'Sansa_Image_3_jpg.rf.98e01b1ae493ca43ede73f82025aa090.jpg', 'Robb_Image_83_png.rf.235e13370dfafcf96eeefa7acd33344a.jpg', 'Daenerys_Image_71_jpg.rf.81714cdb2629824b9c7133313b50a992.jpg', 'Daenerys_Image_54_jpg.rf.32e04c0ca5240a9f4692cfbf27fdf443.jpg', 'Jon_Image_11_jpg.rf.da20f40b43a19d1a1bd0cfd5e3c01048.jpg', 'Jon_Image_55_jpg.rf.f5d382621cbeee6bdbd197ab97919a45.jpg', 'Tyrion_Image_6_jpg.rf.a1e0ef09a5ae3b0217927c4f38dda8c5.jpg', 'Daenerys_Image_24_png.rf.e66dcc68cf9bc4ea53a549dc3af7a3de.jpg', 'Jon_Image_68_jpg.rf.bd226479db2a78778f1a659f7a2e89fe.jpg', 'Sansa_Image_78_jpg.rf.25aba4ccc66307501b4963faef1e703a.jpg', 'Sansa_Image_95_jpg.rf.d5074ee8979954f51f386082a81ed49f.jpg', 'Daenerys_Image_9_jpg.rf.8cc2a0e2ac698053cf0c5f14b2e44867.jpg', 'Daenerys_Image_11_png.rf.bfe076fac486b48608022d3faad37289.jpg', 'Tyrion_Image_14_jpg.rf.6d1f6dae51c752bdc42b44aaee5ed8b8.jpg', 'Daenerys_Image_14_jpg.rf.41234231c440ac847a900916b02c685c.jpg', 'Jon_Image_71_jpg.rf.78af03b01708b52516030eb02b49eea1.jpg', 'Robb_Image_6_jpg.rf.faa93c304b4bed86ebd5a575aea8e152.jpg', 'Robb_Image_22_jpg.rf.1b3ce36991e046f23b9001321596087f.jpg', 'Tyrion_Image_67_jpg.rf.c1eb320a4c394bddb0d885cc0ddcd4ce.jpg', 'Robb_Image_59_png.rf.250dc0e28e7e00aee577847ba3643afc.jpg', 'Daenerys_Image_5_jpg.rf.0fbfe244529d8515a3881e9f15ea675b.jpg', 'Tyrion_Image_19_jpg.rf.6a81363a76e0bc36ea224c12218278f6.jpg', 'Jon_Image_25_png.rf.3f2ef4fb058804e6596e1b4a5017c92e.jpg', 'Tyrion_Image_53_JPG.rf.303913884b2f843453ed79fe98434d97.jpg', 'Tyrion_Image_28_jpg.rf.fd3b023221ef51b8c32c16ae28274082.jpg', 'Tyrion_Image_42_jpg.rf.607d92261608b874e70cd8963aac5ce2.jpg', 'Daenerys_Image_87_jpg.rf.d8bfdee75511c45630382f6da6dc591b.jpg', 'Daenerys_Image_37_jpg.rf.37a010685e4f4d7d94fbead750753036.jpg', 'Robb_Image_56_jpg.rf.37dfe9f15efcf7341feb27501c8ede3f.jpg', 'Robb_Image_43_png.rf.b8563d497224a2a3d869701ec5e646b1.jpg', 'Tyrion_Image_18_jpg.rf.6534deacb027e4b0b6d4c96452f3c2af.jpg', 'Sansa_Image_40_jpg.rf.1e8f57a68e28334aa04145ba11689d16.jpg', 'Sansa_Image_26_jpg.rf.476db5177c7c7355dd26645d7fd9e199.jpg', 'Jon_Image_94_jpg.rf.76c1d7873f36730a8c4b47af0ef1e4dc.jpg', 'Robb_Image_20_jpg.rf.80dc968a3bc40945b3cabb2260f5d25b.jpg', 'Sansa_Image_19_jpg.rf.35de5861b0f409588d0440595eb9bcfb.jpg', 'Robb_Image_63_jpg.rf.230cf2ea7ba5a3ff564da615b2826b13.jpg', 'Sansa_Image_72_png.rf.565ae26d14d00981d23c3c380ac36f5c.jpg', 'Robb_Image_44_png.rf.707a69ec6bcd545a22c88d7a5bc7802c.jpg', 'Robb_Image_35_jpg.rf.db050cf88d93487e20f267565551ffd7.jpg', 'Daenerys_Image_12_jpg.rf.2e60a0c4d839d18be24fde6e7d7f2fe0.jpg', 'Daenerys_Image_19_jpg.rf.02d5f44bfb39a495e8d008a0c2b7c0a4.jpg', 'Robb_Image_81_jpg.rf.40fbf69e997b18bc361501527096dc31.jpg', 'Daenerys_Image_98_jpg.rf.9fa8e61242eece645d7995eb5f3ba101.jpg', 'Jon_Image_45_jpg.rf.493cb8692b96184a4f362b8b8b0e54e6.jpg', 'Daenerys_Image_50_jpg.rf.3fb1549898f73849f28643665f90e034.jpg', 'Robb_Image_61_jpg.rf.25b1e2a13cf27b38358bf83c69a9e411.jpg', 'Robb_Image_48_png.rf.193f662f30317dd64d9dd50999832fc1.jpg', 'Robb_Image_91_jpg.rf.d96fa57e0d401e31efbee882814cd273.jpg', 'Tyrion_Image_36_png.rf.dab1c6d3f05f71f192821c3b15b37a85.jpg', 'Tyrion_Image_45_jpg.rf.7504103311ab3e7c02248dacbaf7eb8a.jpg', 'Sansa_Image_65_jpg.rf.83c482c1edb73a3665ec1f1d016cef95.jpg', 'Robb_Image_97_jpg.rf.daeb6ef3ab5adaf6a0cb0e988cce4d19.jpg', 'Tyrion_Image_23_jpg.rf.f55cec9c078ec6abc0601376532e12b0.jpg', 'Robb_Image_31_jpg.rf.318ca82f0b6e267285a350ad7dd9fd0f.jpg', 'Daenerys_Image_89_jpg.rf.99770dee90bad76d487f2ad31da918f9.jpg', 'Jon_Image_82_jpg.rf.3a71bb4c7f98602d787180063ccd8bf6.jpg', 'Jon_Image_43_jpg.rf.31f6f5cdb9f0fc0afb04864cb1a07d6f.jpg', 'Sansa_Image_13_jpg.rf.fc451521b3ee6ba72cbdfd6e98d17669.jpg', 'Robb_Image_85_jpg.rf.7e47b293ab079215667f48b79a255fca.jpg', 'Tyrion_Image_57_jpg.rf.e3be1e884de5e15938ae36e14aa167f6.jpg', 'Sansa_Image_31_jpg.rf.cc4d1dd6ff61543c19e2dd01947cb76a.jpg', 'Sansa_Image_82_jpg.rf.b1e1ca90d0236faf42fafad016fa107d.jpg', 'Sansa_Image_15_jpg.rf.1cde1e13176f704221a3c334363b92ee.jpg', 'Jon_Image_39_jpg.rf.db00d4ae37cd20e5f6eb55e3acb01d0e.jpg', 'Daenerys_Image_4_png.rf.cafce1f7f335a7cd401514ee48772594.jpg', 'Sansa_Image_75_jpg.rf.85f5cae1b497b6dd2912f4c59e188d93.jpg', 'Tyrion_Image_47_png.rf.3774827f9c6a635f27cf74eb5cc52bdb.jpg', 'Robb_Image_39_jpg.rf.e3c159310776fe7901081220c708d6ae.jpg', 'Jon_Image_33_jpg.rf.81abf0b7228123d4355de6550a71a170.jpg', 'Robb_Image_7_jpg.rf.70520f217b172ba42070221e8eb005f8.jpg', 'Daenerys_Image_1_jpg.rf.30b927f486ff7ac1e0e70110d08c62f0.jpg', 'Tyrion_Image_48_jpg.rf.90429f57f05bc50d1bc6eb391d2efdbe.jpg', 'Sansa_Image_46_jpg.rf.23cdeb5f3051fe9864f8824806107f1e.jpg', 'Tyrion_Image_64_jpg.rf.5e07bfba7df4462bbe7f2fd96c244b2c.jpg', 'Daenerys_Image_94_png.rf.df289e5f77c580cdcf51aafec3da1335.jpg', 'Sansa_Image_68_jpg.rf.b92d9f33e9e6ad9b2c4c23e9761bd5a5.jpg']\n"
          ]
        }
      ]
    },
    {
      "cell_type": "code",
      "source": [
        "import os\n",
        "print(\"Diretório de trabalho atual:\", os.getcwd())\n"
      ],
      "metadata": {
        "colab": {
          "base_uri": "https://localhost:8080/"
        },
        "id": "71QHvIjxd58-",
        "outputId": "5005e765-1628-4a6c-fdbc-dfc1ee59647f"
      },
      "execution_count": null,
      "outputs": [
        {
          "output_type": "stream",
          "name": "stdout",
          "text": [
            "Diretório de trabalho atual: /content\n"
          ]
        }
      ]
    },
    {
      "cell_type": "code",
      "source": [
        "# Se o diretório de trabalho não for o esperado, altere para o correto\n",
        "os.chdir('/content/dataset')\n"
      ],
      "metadata": {
        "id": "lsOteT4heZPZ"
      },
      "execution_count": null,
      "outputs": []
    },
    {
      "cell_type": "code",
      "source": [
        "!rm -rf ~/.cache/ultralytics\n"
      ],
      "metadata": {
        "id": "NXfr-UPxe7J_"
      },
      "execution_count": null,
      "outputs": []
    },
    {
      "cell_type": "code",
      "source": [
        "!chmod -R 755 /content/dataset\n"
      ],
      "metadata": {
        "id": "70X8fT4ue_Dc"
      },
      "execution_count": null,
      "outputs": []
    },
    {
      "cell_type": "code",
      "source": [
        "!pip install --upgrade ultralytics\n"
      ],
      "metadata": {
        "colab": {
          "base_uri": "https://localhost:8080/"
        },
        "id": "DR6K0inNfHHN",
        "outputId": "ae2ffadc-0579-4d00-d65e-dff7e95c2b8c"
      },
      "execution_count": null,
      "outputs": [
        {
          "output_type": "stream",
          "name": "stdout",
          "text": [
            "Requirement already satisfied: ultralytics in /usr/local/lib/python3.11/dist-packages (8.3.74)\n",
            "Requirement already satisfied: numpy<=2.1.1,>=1.23.0 in /usr/local/lib/python3.11/dist-packages (from ultralytics) (1.26.4)\n",
            "Requirement already satisfied: matplotlib>=3.3.0 in /usr/local/lib/python3.11/dist-packages (from ultralytics) (3.10.0)\n",
            "Requirement already satisfied: opencv-python>=4.6.0 in /usr/local/lib/python3.11/dist-packages (from ultralytics) (4.11.0.86)\n",
            "Requirement already satisfied: pillow>=7.1.2 in /usr/local/lib/python3.11/dist-packages (from ultralytics) (11.1.0)\n",
            "Requirement already satisfied: pyyaml>=5.3.1 in /usr/local/lib/python3.11/dist-packages (from ultralytics) (6.0.2)\n",
            "Requirement already satisfied: requests>=2.23.0 in /usr/local/lib/python3.11/dist-packages (from ultralytics) (2.32.3)\n",
            "Requirement already satisfied: scipy>=1.4.1 in /usr/local/lib/python3.11/dist-packages (from ultralytics) (1.13.1)\n",
            "Requirement already satisfied: torch>=1.8.0 in /usr/local/lib/python3.11/dist-packages (from ultralytics) (2.5.1+cu124)\n",
            "Requirement already satisfied: torchvision>=0.9.0 in /usr/local/lib/python3.11/dist-packages (from ultralytics) (0.20.1+cu124)\n",
            "Requirement already satisfied: tqdm>=4.64.0 in /usr/local/lib/python3.11/dist-packages (from ultralytics) (4.67.1)\n",
            "Requirement already satisfied: psutil in /usr/local/lib/python3.11/dist-packages (from ultralytics) (5.9.5)\n",
            "Requirement already satisfied: py-cpuinfo in /usr/local/lib/python3.11/dist-packages (from ultralytics) (9.0.0)\n",
            "Requirement already satisfied: pandas>=1.1.4 in /usr/local/lib/python3.11/dist-packages (from ultralytics) (2.2.2)\n",
            "Requirement already satisfied: seaborn>=0.11.0 in /usr/local/lib/python3.11/dist-packages (from ultralytics) (0.13.2)\n",
            "Requirement already satisfied: ultralytics-thop>=2.0.0 in /usr/local/lib/python3.11/dist-packages (from ultralytics) (2.0.14)\n",
            "Requirement already satisfied: contourpy>=1.0.1 in /usr/local/lib/python3.11/dist-packages (from matplotlib>=3.3.0->ultralytics) (1.3.1)\n",
            "Requirement already satisfied: cycler>=0.10 in /usr/local/lib/python3.11/dist-packages (from matplotlib>=3.3.0->ultralytics) (0.12.1)\n",
            "Requirement already satisfied: fonttools>=4.22.0 in /usr/local/lib/python3.11/dist-packages (from matplotlib>=3.3.0->ultralytics) (4.55.8)\n",
            "Requirement already satisfied: kiwisolver>=1.3.1 in /usr/local/lib/python3.11/dist-packages (from matplotlib>=3.3.0->ultralytics) (1.4.8)\n",
            "Requirement already satisfied: packaging>=20.0 in /usr/local/lib/python3.11/dist-packages (from matplotlib>=3.3.0->ultralytics) (24.2)\n",
            "Requirement already satisfied: pyparsing>=2.3.1 in /usr/local/lib/python3.11/dist-packages (from matplotlib>=3.3.0->ultralytics) (3.2.1)\n",
            "Requirement already satisfied: python-dateutil>=2.7 in /usr/local/lib/python3.11/dist-packages (from matplotlib>=3.3.0->ultralytics) (2.8.2)\n",
            "Requirement already satisfied: pytz>=2020.1 in /usr/local/lib/python3.11/dist-packages (from pandas>=1.1.4->ultralytics) (2025.1)\n",
            "Requirement already satisfied: tzdata>=2022.7 in /usr/local/lib/python3.11/dist-packages (from pandas>=1.1.4->ultralytics) (2025.1)\n",
            "Requirement already satisfied: charset-normalizer<4,>=2 in /usr/local/lib/python3.11/dist-packages (from requests>=2.23.0->ultralytics) (3.4.1)\n",
            "Requirement already satisfied: idna<4,>=2.5 in /usr/local/lib/python3.11/dist-packages (from requests>=2.23.0->ultralytics) (3.10)\n",
            "Requirement already satisfied: urllib3<3,>=1.21.1 in /usr/local/lib/python3.11/dist-packages (from requests>=2.23.0->ultralytics) (2.3.0)\n",
            "Requirement already satisfied: certifi>=2017.4.17 in /usr/local/lib/python3.11/dist-packages (from requests>=2.23.0->ultralytics) (2025.1.31)\n",
            "Requirement already satisfied: filelock in /usr/local/lib/python3.11/dist-packages (from torch>=1.8.0->ultralytics) (3.17.0)\n",
            "Requirement already satisfied: typing-extensions>=4.8.0 in /usr/local/lib/python3.11/dist-packages (from torch>=1.8.0->ultralytics) (4.12.2)\n",
            "Requirement already satisfied: networkx in /usr/local/lib/python3.11/dist-packages (from torch>=1.8.0->ultralytics) (3.4.2)\n",
            "Requirement already satisfied: jinja2 in /usr/local/lib/python3.11/dist-packages (from torch>=1.8.0->ultralytics) (3.1.5)\n",
            "Requirement already satisfied: fsspec in /usr/local/lib/python3.11/dist-packages (from torch>=1.8.0->ultralytics) (2024.10.0)\n",
            "Requirement already satisfied: nvidia-cuda-nvrtc-cu12==12.4.127 in /usr/local/lib/python3.11/dist-packages (from torch>=1.8.0->ultralytics) (12.4.127)\n",
            "Requirement already satisfied: nvidia-cuda-runtime-cu12==12.4.127 in /usr/local/lib/python3.11/dist-packages (from torch>=1.8.0->ultralytics) (12.4.127)\n",
            "Requirement already satisfied: nvidia-cuda-cupti-cu12==12.4.127 in /usr/local/lib/python3.11/dist-packages (from torch>=1.8.0->ultralytics) (12.4.127)\n",
            "Requirement already satisfied: nvidia-cudnn-cu12==9.1.0.70 in /usr/local/lib/python3.11/dist-packages (from torch>=1.8.0->ultralytics) (9.1.0.70)\n",
            "Requirement already satisfied: nvidia-cublas-cu12==12.4.5.8 in /usr/local/lib/python3.11/dist-packages (from torch>=1.8.0->ultralytics) (12.4.5.8)\n",
            "Requirement already satisfied: nvidia-cufft-cu12==11.2.1.3 in /usr/local/lib/python3.11/dist-packages (from torch>=1.8.0->ultralytics) (11.2.1.3)\n",
            "Requirement already satisfied: nvidia-curand-cu12==10.3.5.147 in /usr/local/lib/python3.11/dist-packages (from torch>=1.8.0->ultralytics) (10.3.5.147)\n",
            "Requirement already satisfied: nvidia-cusolver-cu12==11.6.1.9 in /usr/local/lib/python3.11/dist-packages (from torch>=1.8.0->ultralytics) (11.6.1.9)\n",
            "Requirement already satisfied: nvidia-cusparse-cu12==12.3.1.170 in /usr/local/lib/python3.11/dist-packages (from torch>=1.8.0->ultralytics) (12.3.1.170)\n",
            "Requirement already satisfied: nvidia-nccl-cu12==2.21.5 in /usr/local/lib/python3.11/dist-packages (from torch>=1.8.0->ultralytics) (2.21.5)\n",
            "Requirement already satisfied: nvidia-nvtx-cu12==12.4.127 in /usr/local/lib/python3.11/dist-packages (from torch>=1.8.0->ultralytics) (12.4.127)\n",
            "Requirement already satisfied: nvidia-nvjitlink-cu12==12.4.127 in /usr/local/lib/python3.11/dist-packages (from torch>=1.8.0->ultralytics) (12.4.127)\n",
            "Requirement already satisfied: triton==3.1.0 in /usr/local/lib/python3.11/dist-packages (from torch>=1.8.0->ultralytics) (3.1.0)\n",
            "Requirement already satisfied: sympy==1.13.1 in /usr/local/lib/python3.11/dist-packages (from torch>=1.8.0->ultralytics) (1.13.1)\n",
            "Requirement already satisfied: mpmath<1.4,>=1.1.0 in /usr/local/lib/python3.11/dist-packages (from sympy==1.13.1->torch>=1.8.0->ultralytics) (1.3.0)\n",
            "Requirement already satisfied: six>=1.5 in /usr/local/lib/python3.11/dist-packages (from python-dateutil>=2.7->matplotlib>=3.3.0->ultralytics) (1.17.0)\n",
            "Requirement already satisfied: MarkupSafe>=2.0 in /usr/local/lib/python3.11/dist-packages (from jinja2->torch>=1.8.0->ultralytics) (3.0.2)\n"
          ]
        }
      ]
    },
    {
      "cell_type": "code",
      "source": [
        "data_yaml = '/content/dataset/data.yaml'\n"
      ],
      "metadata": {
        "id": "GHcY2FYTflwt"
      },
      "execution_count": null,
      "outputs": []
    },
    {
      "cell_type": "code",
      "source": [
        "print(\"Caminho do arquivo data.yaml:\", data_yaml)\n",
        "\n",
        "# Verifique se o arquivo 'data.yaml' existe no caminho\n",
        "assert os.path.exists(data_yaml), f\"O arquivo {data_yaml} não foi encontrado!\"\n"
      ],
      "metadata": {
        "colab": {
          "base_uri": "https://localhost:8080/"
        },
        "id": "7_Nq7mNifXSt",
        "outputId": "0012126a-8ec7-4aa6-df84-e3d919e6a14f"
      },
      "execution_count": null,
      "outputs": [
        {
          "output_type": "stream",
          "name": "stdout",
          "text": [
            "Caminho do arquivo data.yaml: /content/dataset/data.yaml\n"
          ]
        }
      ]
    },
    {
      "cell_type": "code",
      "source": [
        "# Treinar o modelo com os dados\n",
        "model.train(\n",
        "    data=data_yaml,\n",
        "    epochs=50,  # Número de épocas de treino\n",
        "    batch=16,   # Tamanho do batch\n",
        "    imgsz=640,  # Tamanho das imagens\n",
        "    device=device,\n",
        "    freeze=10\n",
        ")"
      ],
      "metadata": {
        "colab": {
          "base_uri": "https://localhost:8080/"
        },
        "id": "lVnTbmZcWY6u",
        "outputId": "a19da512-e97b-4902-f715-fcd5e3fde3a1"
      },
      "execution_count": null,
      "outputs": [
        {
          "output_type": "stream",
          "name": "stdout",
          "text": [
            "Ultralytics 8.3.74 🚀 Python-3.11.11 torch-2.5.1+cu124 CUDA:0 (Tesla T4, 15095MiB)\n",
            "\u001b[34m\u001b[1mengine/trainer: \u001b[0mtask=detect, mode=train, model=yolov8n.pt, data=/content/dataset/data.yaml, epochs=50, time=None, patience=100, batch=16, imgsz=640, save=True, save_period=-1, cache=False, device=cuda, workers=8, project=None, name=train, exist_ok=False, pretrained=True, optimizer=auto, verbose=True, seed=0, deterministic=True, single_cls=False, rect=False, cos_lr=False, close_mosaic=10, resume=False, amp=True, fraction=1.0, profile=False, freeze=10, multi_scale=False, overlap_mask=True, mask_ratio=4, dropout=0.0, val=True, split=val, save_json=False, save_hybrid=False, conf=None, iou=0.7, max_det=300, half=False, dnn=False, plots=True, source=None, vid_stride=1, stream_buffer=False, visualize=False, augment=False, agnostic_nms=False, classes=None, retina_masks=False, embed=None, show=False, save_frames=False, save_txt=False, save_conf=False, save_crop=False, show_labels=True, show_conf=True, show_boxes=True, line_width=None, format=torchscript, keras=False, optimize=False, int8=False, dynamic=False, simplify=True, opset=None, workspace=None, nms=False, lr0=0.01, lrf=0.01, momentum=0.937, weight_decay=0.0005, warmup_epochs=3.0, warmup_momentum=0.8, warmup_bias_lr=0.1, box=7.5, cls=0.5, dfl=1.5, pose=12.0, kobj=1.0, nbs=64, hsv_h=0.015, hsv_s=0.7, hsv_v=0.4, degrees=0.0, translate=0.1, scale=0.5, shear=0.0, perspective=0.0, flipud=0.0, fliplr=0.5, bgr=0.0, mosaic=1.0, mixup=0.0, copy_paste=0.0, copy_paste_mode=flip, auto_augment=randaugment, erasing=0.4, crop_fraction=1.0, cfg=None, tracker=botsort.yaml, save_dir=runs/detect/train\n",
            "Downloading https://ultralytics.com/assets/Arial.ttf to '/root/.config/Ultralytics/Arial.ttf'...\n"
          ]
        },
        {
          "output_type": "stream",
          "name": "stderr",
          "text": [
            "100%|██████████| 755k/755k [00:00<00:00, 20.3MB/s]\n"
          ]
        },
        {
          "output_type": "stream",
          "name": "stdout",
          "text": [
            "Overriding model.yaml nc=80 with nc=5\n",
            "\n",
            "                   from  n    params  module                                       arguments                     \n",
            "  0                  -1  1       464  ultralytics.nn.modules.conv.Conv             [3, 16, 3, 2]                 \n",
            "  1                  -1  1      4672  ultralytics.nn.modules.conv.Conv             [16, 32, 3, 2]                \n",
            "  2                  -1  1      7360  ultralytics.nn.modules.block.C2f             [32, 32, 1, True]             \n",
            "  3                  -1  1     18560  ultralytics.nn.modules.conv.Conv             [32, 64, 3, 2]                \n",
            "  4                  -1  2     49664  ultralytics.nn.modules.block.C2f             [64, 64, 2, True]             \n",
            "  5                  -1  1     73984  ultralytics.nn.modules.conv.Conv             [64, 128, 3, 2]               \n",
            "  6                  -1  2    197632  ultralytics.nn.modules.block.C2f             [128, 128, 2, True]           \n",
            "  7                  -1  1    295424  ultralytics.nn.modules.conv.Conv             [128, 256, 3, 2]              \n",
            "  8                  -1  1    460288  ultralytics.nn.modules.block.C2f             [256, 256, 1, True]           \n",
            "  9                  -1  1    164608  ultralytics.nn.modules.block.SPPF            [256, 256, 5]                 \n",
            " 10                  -1  1         0  torch.nn.modules.upsampling.Upsample         [None, 2, 'nearest']          \n",
            " 11             [-1, 6]  1         0  ultralytics.nn.modules.conv.Concat           [1]                           \n",
            " 12                  -1  1    148224  ultralytics.nn.modules.block.C2f             [384, 128, 1]                 \n",
            " 13                  -1  1         0  torch.nn.modules.upsampling.Upsample         [None, 2, 'nearest']          \n",
            " 14             [-1, 4]  1         0  ultralytics.nn.modules.conv.Concat           [1]                           \n",
            " 15                  -1  1     37248  ultralytics.nn.modules.block.C2f             [192, 64, 1]                  \n",
            " 16                  -1  1     36992  ultralytics.nn.modules.conv.Conv             [64, 64, 3, 2]                \n",
            " 17            [-1, 12]  1         0  ultralytics.nn.modules.conv.Concat           [1]                           \n",
            " 18                  -1  1    123648  ultralytics.nn.modules.block.C2f             [192, 128, 1]                 \n",
            " 19                  -1  1    147712  ultralytics.nn.modules.conv.Conv             [128, 128, 3, 2]              \n",
            " 20             [-1, 9]  1         0  ultralytics.nn.modules.conv.Concat           [1]                           \n",
            " 21                  -1  1    493056  ultralytics.nn.modules.block.C2f             [384, 256, 1]                 \n",
            " 22        [15, 18, 21]  1    752287  ultralytics.nn.modules.head.Detect           [5, [64, 128, 256]]           \n",
            "Model summary: 225 layers, 3,011,823 parameters, 3,011,807 gradients, 8.2 GFLOPs\n",
            "\n",
            "Transferred 319/355 items from pretrained weights\n",
            "\u001b[34m\u001b[1mTensorBoard: \u001b[0mStart with 'tensorboard --logdir runs/detect/train', view at http://localhost:6006/\n",
            "Freezing layer 'model.0.conv.weight'\n",
            "Freezing layer 'model.0.bn.weight'\n",
            "Freezing layer 'model.0.bn.bias'\n",
            "Freezing layer 'model.1.conv.weight'\n",
            "Freezing layer 'model.1.bn.weight'\n",
            "Freezing layer 'model.1.bn.bias'\n",
            "Freezing layer 'model.2.cv1.conv.weight'\n",
            "Freezing layer 'model.2.cv1.bn.weight'\n",
            "Freezing layer 'model.2.cv1.bn.bias'\n",
            "Freezing layer 'model.2.cv2.conv.weight'\n",
            "Freezing layer 'model.2.cv2.bn.weight'\n",
            "Freezing layer 'model.2.cv2.bn.bias'\n",
            "Freezing layer 'model.2.m.0.cv1.conv.weight'\n",
            "Freezing layer 'model.2.m.0.cv1.bn.weight'\n",
            "Freezing layer 'model.2.m.0.cv1.bn.bias'\n",
            "Freezing layer 'model.2.m.0.cv2.conv.weight'\n",
            "Freezing layer 'model.2.m.0.cv2.bn.weight'\n",
            "Freezing layer 'model.2.m.0.cv2.bn.bias'\n",
            "Freezing layer 'model.3.conv.weight'\n",
            "Freezing layer 'model.3.bn.weight'\n",
            "Freezing layer 'model.3.bn.bias'\n",
            "Freezing layer 'model.4.cv1.conv.weight'\n",
            "Freezing layer 'model.4.cv1.bn.weight'\n",
            "Freezing layer 'model.4.cv1.bn.bias'\n",
            "Freezing layer 'model.4.cv2.conv.weight'\n",
            "Freezing layer 'model.4.cv2.bn.weight'\n",
            "Freezing layer 'model.4.cv2.bn.bias'\n",
            "Freezing layer 'model.4.m.0.cv1.conv.weight'\n",
            "Freezing layer 'model.4.m.0.cv1.bn.weight'\n",
            "Freezing layer 'model.4.m.0.cv1.bn.bias'\n",
            "Freezing layer 'model.4.m.0.cv2.conv.weight'\n",
            "Freezing layer 'model.4.m.0.cv2.bn.weight'\n",
            "Freezing layer 'model.4.m.0.cv2.bn.bias'\n",
            "Freezing layer 'model.4.m.1.cv1.conv.weight'\n",
            "Freezing layer 'model.4.m.1.cv1.bn.weight'\n",
            "Freezing layer 'model.4.m.1.cv1.bn.bias'\n",
            "Freezing layer 'model.4.m.1.cv2.conv.weight'\n",
            "Freezing layer 'model.4.m.1.cv2.bn.weight'\n",
            "Freezing layer 'model.4.m.1.cv2.bn.bias'\n",
            "Freezing layer 'model.5.conv.weight'\n",
            "Freezing layer 'model.5.bn.weight'\n",
            "Freezing layer 'model.5.bn.bias'\n",
            "Freezing layer 'model.6.cv1.conv.weight'\n",
            "Freezing layer 'model.6.cv1.bn.weight'\n",
            "Freezing layer 'model.6.cv1.bn.bias'\n",
            "Freezing layer 'model.6.cv2.conv.weight'\n",
            "Freezing layer 'model.6.cv2.bn.weight'\n",
            "Freezing layer 'model.6.cv2.bn.bias'\n",
            "Freezing layer 'model.6.m.0.cv1.conv.weight'\n",
            "Freezing layer 'model.6.m.0.cv1.bn.weight'\n",
            "Freezing layer 'model.6.m.0.cv1.bn.bias'\n",
            "Freezing layer 'model.6.m.0.cv2.conv.weight'\n",
            "Freezing layer 'model.6.m.0.cv2.bn.weight'\n",
            "Freezing layer 'model.6.m.0.cv2.bn.bias'\n",
            "Freezing layer 'model.6.m.1.cv1.conv.weight'\n",
            "Freezing layer 'model.6.m.1.cv1.bn.weight'\n",
            "Freezing layer 'model.6.m.1.cv1.bn.bias'\n",
            "Freezing layer 'model.6.m.1.cv2.conv.weight'\n",
            "Freezing layer 'model.6.m.1.cv2.bn.weight'\n",
            "Freezing layer 'model.6.m.1.cv2.bn.bias'\n",
            "Freezing layer 'model.7.conv.weight'\n",
            "Freezing layer 'model.7.bn.weight'\n",
            "Freezing layer 'model.7.bn.bias'\n",
            "Freezing layer 'model.8.cv1.conv.weight'\n",
            "Freezing layer 'model.8.cv1.bn.weight'\n",
            "Freezing layer 'model.8.cv1.bn.bias'\n",
            "Freezing layer 'model.8.cv2.conv.weight'\n",
            "Freezing layer 'model.8.cv2.bn.weight'\n",
            "Freezing layer 'model.8.cv2.bn.bias'\n",
            "Freezing layer 'model.8.m.0.cv1.conv.weight'\n",
            "Freezing layer 'model.8.m.0.cv1.bn.weight'\n",
            "Freezing layer 'model.8.m.0.cv1.bn.bias'\n",
            "Freezing layer 'model.8.m.0.cv2.conv.weight'\n",
            "Freezing layer 'model.8.m.0.cv2.bn.weight'\n",
            "Freezing layer 'model.8.m.0.cv2.bn.bias'\n",
            "Freezing layer 'model.9.cv1.conv.weight'\n",
            "Freezing layer 'model.9.cv1.bn.weight'\n",
            "Freezing layer 'model.9.cv1.bn.bias'\n",
            "Freezing layer 'model.9.cv2.conv.weight'\n",
            "Freezing layer 'model.9.cv2.bn.weight'\n",
            "Freezing layer 'model.9.cv2.bn.bias'\n",
            "Freezing layer 'model.22.dfl.conv.weight'\n",
            "\u001b[34m\u001b[1mAMP: \u001b[0mrunning Automatic Mixed Precision (AMP) checks...\n",
            "Downloading https://github.com/ultralytics/assets/releases/download/v8.3.0/yolo11n.pt to 'yolo11n.pt'...\n"
          ]
        },
        {
          "output_type": "stream",
          "name": "stderr",
          "text": [
            "100%|██████████| 5.35M/5.35M [00:00<00:00, 112MB/s]\n"
          ]
        },
        {
          "output_type": "stream",
          "name": "stdout",
          "text": [
            "\u001b[34m\u001b[1mAMP: \u001b[0mchecks passed ✅\n"
          ]
        },
        {
          "output_type": "stream",
          "name": "stderr",
          "text": [
            "\u001b[34m\u001b[1mtrain: \u001b[0mScanning /content/dataset/train/labels... 275 images, 41 backgrounds, 0 corrupt: 100%|██████████| 275/275 [00:00<00:00, 2496.49it/s]"
          ]
        },
        {
          "output_type": "stream",
          "name": "stdout",
          "text": [
            "\u001b[34m\u001b[1mtrain: \u001b[0mNew cache created: /content/dataset/train/labels.cache\n"
          ]
        },
        {
          "output_type": "stream",
          "name": "stderr",
          "text": [
            "\n"
          ]
        },
        {
          "output_type": "stream",
          "name": "stdout",
          "text": [
            "\u001b[34m\u001b[1malbumentations: \u001b[0mBlur(p=0.01, blur_limit=(3, 7)), MedianBlur(p=0.01, blur_limit=(3, 7)), ToGray(p=0.01, num_output_channels=3, method='weighted_average'), CLAHE(p=0.01, clip_limit=(1.0, 4.0), tile_grid_size=(8, 8))\n"
          ]
        },
        {
          "output_type": "stream",
          "name": "stderr",
          "text": [
            "/usr/local/lib/python3.11/dist-packages/albumentations/__init__.py:28: UserWarning: A new version of Albumentations is available: '2.0.4' (you have '2.0.3'). Upgrade using: pip install -U albumentations. To disable automatic update checks, set the environment variable NO_ALBUMENTATIONS_UPDATE to 1.\n",
            "  check_for_updates()\n",
            "\u001b[34m\u001b[1mval: \u001b[0mScanning /content/dataset/valid/labels... 79 images, 5 backgrounds, 0 corrupt: 100%|██████████| 79/79 [00:00<00:00, 1992.78it/s]"
          ]
        },
        {
          "output_type": "stream",
          "name": "stdout",
          "text": [
            "\u001b[34m\u001b[1mval: \u001b[0mNew cache created: /content/dataset/valid/labels.cache\n"
          ]
        },
        {
          "output_type": "stream",
          "name": "stderr",
          "text": [
            "\n"
          ]
        },
        {
          "output_type": "stream",
          "name": "stdout",
          "text": [
            "Plotting labels to runs/detect/train/labels.jpg... \n",
            "\u001b[34m\u001b[1moptimizer:\u001b[0m 'optimizer=auto' found, ignoring 'lr0=0.01' and 'momentum=0.937' and determining best 'optimizer', 'lr0' and 'momentum' automatically... \n",
            "\u001b[34m\u001b[1moptimizer:\u001b[0m AdamW(lr=0.001111, momentum=0.9) with parameter groups 57 weight(decay=0.0), 64 weight(decay=0.0005), 63 bias(decay=0.0)\n",
            "\u001b[34m\u001b[1mTensorBoard: \u001b[0mmodel graph visualization added ✅\n",
            "Image sizes 640 train, 640 val\n",
            "Using 2 dataloader workers\n",
            "Logging results to \u001b[1mruns/detect/train\u001b[0m\n",
            "Starting training for 50 epochs...\n",
            "\n",
            "      Epoch    GPU_mem   box_loss   cls_loss   dfl_loss  Instances       Size\n"
          ]
        },
        {
          "output_type": "stream",
          "name": "stderr",
          "text": [
            "       1/50      1.28G      1.414      4.037      1.708          6        640: 100%|██████████| 18/18 [00:06<00:00,  2.75it/s]\n",
            "                 Class     Images  Instances      Box(P          R      mAP50  mAP50-95): 100%|██████████| 3/3 [00:02<00:00,  1.47it/s]"
          ]
        },
        {
          "output_type": "stream",
          "name": "stdout",
          "text": [
            "                   all         79         75    0.00399      0.968       0.17       0.08\n"
          ]
        },
        {
          "output_type": "stream",
          "name": "stderr",
          "text": [
            "\n"
          ]
        },
        {
          "output_type": "stream",
          "name": "stdout",
          "text": [
            "\n",
            "      Epoch    GPU_mem   box_loss   cls_loss   dfl_loss  Instances       Size\n"
          ]
        },
        {
          "output_type": "stream",
          "name": "stderr",
          "text": [
            "       2/50       1.1G      1.301      3.308      1.543          7        640: 100%|██████████| 18/18 [00:03<00:00,  4.60it/s]\n",
            "                 Class     Images  Instances      Box(P          R      mAP50  mAP50-95): 100%|██████████| 3/3 [00:02<00:00,  1.26it/s]"
          ]
        },
        {
          "output_type": "stream",
          "name": "stdout",
          "text": [
            "                   all         79         75    0.00371      0.945      0.266      0.118\n"
          ]
        },
        {
          "output_type": "stream",
          "name": "stderr",
          "text": [
            "\n"
          ]
        },
        {
          "output_type": "stream",
          "name": "stdout",
          "text": [
            "\n",
            "      Epoch    GPU_mem   box_loss   cls_loss   dfl_loss  Instances       Size\n"
          ]
        },
        {
          "output_type": "stream",
          "name": "stderr",
          "text": [
            "       3/50      1.11G      1.297      3.256      1.465          4        640: 100%|██████████| 18/18 [00:03<00:00,  4.65it/s]\n",
            "                 Class     Images  Instances      Box(P          R      mAP50  mAP50-95): 100%|██████████| 3/3 [00:01<00:00,  2.53it/s]"
          ]
        },
        {
          "output_type": "stream",
          "name": "stdout",
          "text": [
            "                   all         79         75      0.399      0.379      0.241      0.121\n"
          ]
        },
        {
          "output_type": "stream",
          "name": "stderr",
          "text": [
            "\n"
          ]
        },
        {
          "output_type": "stream",
          "name": "stdout",
          "text": [
            "\n",
            "      Epoch    GPU_mem   box_loss   cls_loss   dfl_loss  Instances       Size\n"
          ]
        },
        {
          "output_type": "stream",
          "name": "stderr",
          "text": [
            "       4/50      1.11G      1.261      2.953        1.4          4        640: 100%|██████████| 18/18 [00:03<00:00,  4.84it/s]\n",
            "                 Class     Images  Instances      Box(P          R      mAP50  mAP50-95): 100%|██████████| 3/3 [00:01<00:00,  1.90it/s]"
          ]
        },
        {
          "output_type": "stream",
          "name": "stdout",
          "text": [
            "                   all         79         75      0.241      0.434       0.33       0.18\n"
          ]
        },
        {
          "output_type": "stream",
          "name": "stderr",
          "text": [
            "\n"
          ]
        },
        {
          "output_type": "stream",
          "name": "stdout",
          "text": [
            "\n",
            "      Epoch    GPU_mem   box_loss   cls_loss   dfl_loss  Instances       Size\n"
          ]
        },
        {
          "output_type": "stream",
          "name": "stderr",
          "text": [
            "       5/50      1.11G      1.272      2.925      1.435          5        640: 100%|██████████| 18/18 [00:03<00:00,  5.10it/s]\n",
            "                 Class     Images  Instances      Box(P          R      mAP50  mAP50-95): 100%|██████████| 3/3 [00:00<00:00,  3.46it/s]"
          ]
        },
        {
          "output_type": "stream",
          "name": "stdout",
          "text": [
            "                   all         79         75      0.337      0.487        0.4      0.187\n"
          ]
        },
        {
          "output_type": "stream",
          "name": "stderr",
          "text": [
            "\n"
          ]
        },
        {
          "output_type": "stream",
          "name": "stdout",
          "text": [
            "\n",
            "      Epoch    GPU_mem   box_loss   cls_loss   dfl_loss  Instances       Size\n"
          ]
        },
        {
          "output_type": "stream",
          "name": "stderr",
          "text": [
            "       6/50      1.11G      1.346      2.805      1.451          3        640: 100%|██████████| 18/18 [00:03<00:00,  4.89it/s]\n",
            "                 Class     Images  Instances      Box(P          R      mAP50  mAP50-95): 100%|██████████| 3/3 [00:00<00:00,  4.21it/s]"
          ]
        },
        {
          "output_type": "stream",
          "name": "stdout",
          "text": [
            "                   all         79         75      0.278      0.733      0.395      0.228\n"
          ]
        },
        {
          "output_type": "stream",
          "name": "stderr",
          "text": [
            "\n"
          ]
        },
        {
          "output_type": "stream",
          "name": "stdout",
          "text": [
            "\n",
            "      Epoch    GPU_mem   box_loss   cls_loss   dfl_loss  Instances       Size\n"
          ]
        },
        {
          "output_type": "stream",
          "name": "stderr",
          "text": [
            "       7/50      1.11G      1.347      2.649      1.417          4        640: 100%|██████████| 18/18 [00:04<00:00,  4.19it/s]\n",
            "                 Class     Images  Instances      Box(P          R      mAP50  mAP50-95): 100%|██████████| 3/3 [00:00<00:00,  3.31it/s]"
          ]
        },
        {
          "output_type": "stream",
          "name": "stdout",
          "text": [
            "                   all         79         75      0.351      0.665      0.465      0.254\n"
          ]
        },
        {
          "output_type": "stream",
          "name": "stderr",
          "text": [
            "\n"
          ]
        },
        {
          "output_type": "stream",
          "name": "stdout",
          "text": [
            "\n",
            "      Epoch    GPU_mem   box_loss   cls_loss   dfl_loss  Instances       Size\n"
          ]
        },
        {
          "output_type": "stream",
          "name": "stderr",
          "text": [
            "       8/50      1.11G      1.295      2.569       1.39          7        640: 100%|██████████| 18/18 [00:03<00:00,  4.97it/s]\n",
            "                 Class     Images  Instances      Box(P          R      mAP50  mAP50-95): 100%|██████████| 3/3 [00:00<00:00,  3.29it/s]"
          ]
        },
        {
          "output_type": "stream",
          "name": "stdout",
          "text": [
            "                   all         79         75      0.314       0.67       0.44      0.232\n"
          ]
        },
        {
          "output_type": "stream",
          "name": "stderr",
          "text": [
            "\n"
          ]
        },
        {
          "output_type": "stream",
          "name": "stdout",
          "text": [
            "\n",
            "      Epoch    GPU_mem   box_loss   cls_loss   dfl_loss  Instances       Size\n"
          ]
        },
        {
          "output_type": "stream",
          "name": "stderr",
          "text": [
            "       9/50      1.11G       1.29      2.464      1.392          2        640: 100%|██████████| 18/18 [00:04<00:00,  3.90it/s]\n",
            "                 Class     Images  Instances      Box(P          R      mAP50  mAP50-95): 100%|██████████| 3/3 [00:00<00:00,  3.18it/s]"
          ]
        },
        {
          "output_type": "stream",
          "name": "stdout",
          "text": [
            "                   all         79         75      0.436      0.564      0.526      0.302\n"
          ]
        },
        {
          "output_type": "stream",
          "name": "stderr",
          "text": [
            "\n"
          ]
        },
        {
          "output_type": "stream",
          "name": "stdout",
          "text": [
            "\n",
            "      Epoch    GPU_mem   box_loss   cls_loss   dfl_loss  Instances       Size\n"
          ]
        },
        {
          "output_type": "stream",
          "name": "stderr",
          "text": [
            "      10/50      1.11G      1.259      2.377       1.36          4        640: 100%|██████████| 18/18 [00:03<00:00,  4.94it/s]\n",
            "                 Class     Images  Instances      Box(P          R      mAP50  mAP50-95): 100%|██████████| 3/3 [00:00<00:00,  3.62it/s]"
          ]
        },
        {
          "output_type": "stream",
          "name": "stdout",
          "text": [
            "                   all         79         75      0.434      0.671      0.541      0.312\n"
          ]
        },
        {
          "output_type": "stream",
          "name": "stderr",
          "text": [
            "\n"
          ]
        },
        {
          "output_type": "stream",
          "name": "stdout",
          "text": [
            "\n",
            "      Epoch    GPU_mem   box_loss   cls_loss   dfl_loss  Instances       Size\n"
          ]
        },
        {
          "output_type": "stream",
          "name": "stderr",
          "text": [
            "      11/50      1.11G       1.25      2.195      1.349          7        640: 100%|██████████| 18/18 [00:04<00:00,  4.26it/s]\n",
            "                 Class     Images  Instances      Box(P          R      mAP50  mAP50-95): 100%|██████████| 3/3 [00:01<00:00,  2.11it/s]"
          ]
        },
        {
          "output_type": "stream",
          "name": "stdout",
          "text": [
            "                   all         79         75      0.442      0.697      0.578      0.356\n"
          ]
        },
        {
          "output_type": "stream",
          "name": "stderr",
          "text": [
            "\n"
          ]
        },
        {
          "output_type": "stream",
          "name": "stdout",
          "text": [
            "\n",
            "      Epoch    GPU_mem   box_loss   cls_loss   dfl_loss  Instances       Size\n"
          ]
        },
        {
          "output_type": "stream",
          "name": "stderr",
          "text": [
            "      12/50      1.11G      1.276       2.21      1.382          6        640: 100%|██████████| 18/18 [00:03<00:00,  5.01it/s]\n",
            "                 Class     Images  Instances      Box(P          R      mAP50  mAP50-95): 100%|██████████| 3/3 [00:01<00:00,  2.52it/s]"
          ]
        },
        {
          "output_type": "stream",
          "name": "stdout",
          "text": [
            "                   all         79         75      0.497      0.688       0.66      0.346\n"
          ]
        },
        {
          "output_type": "stream",
          "name": "stderr",
          "text": [
            "\n"
          ]
        },
        {
          "output_type": "stream",
          "name": "stdout",
          "text": [
            "\n",
            "      Epoch    GPU_mem   box_loss   cls_loss   dfl_loss  Instances       Size\n"
          ]
        },
        {
          "output_type": "stream",
          "name": "stderr",
          "text": [
            "      13/50      1.11G      1.211       2.04      1.315          5        640: 100%|██████████| 18/18 [00:03<00:00,  4.55it/s]\n",
            "                 Class     Images  Instances      Box(P          R      mAP50  mAP50-95): 100%|██████████| 3/3 [00:01<00:00,  1.83it/s]"
          ]
        },
        {
          "output_type": "stream",
          "name": "stdout",
          "text": [
            "                   all         79         75      0.487      0.635      0.502      0.285\n"
          ]
        },
        {
          "output_type": "stream",
          "name": "stderr",
          "text": [
            "\n"
          ]
        },
        {
          "output_type": "stream",
          "name": "stdout",
          "text": [
            "\n",
            "      Epoch    GPU_mem   box_loss   cls_loss   dfl_loss  Instances       Size\n"
          ]
        },
        {
          "output_type": "stream",
          "name": "stderr",
          "text": [
            "      14/50      1.11G      1.219      2.027      1.309          8        640: 100%|██████████| 18/18 [00:03<00:00,  5.29it/s]\n",
            "                 Class     Images  Instances      Box(P          R      mAP50  mAP50-95): 100%|██████████| 3/3 [00:00<00:00,  3.29it/s]"
          ]
        },
        {
          "output_type": "stream",
          "name": "stdout",
          "text": [
            "                   all         79         75      0.558      0.538      0.632      0.375\n"
          ]
        },
        {
          "output_type": "stream",
          "name": "stderr",
          "text": [
            "\n"
          ]
        },
        {
          "output_type": "stream",
          "name": "stdout",
          "text": [
            "\n",
            "      Epoch    GPU_mem   box_loss   cls_loss   dfl_loss  Instances       Size\n"
          ]
        },
        {
          "output_type": "stream",
          "name": "stderr",
          "text": [
            "      15/50      1.11G      1.241      2.192      1.315          3        640: 100%|██████████| 18/18 [00:03<00:00,  4.88it/s]\n",
            "                 Class     Images  Instances      Box(P          R      mAP50  mAP50-95): 100%|██████████| 3/3 [00:01<00:00,  2.95it/s]"
          ]
        },
        {
          "output_type": "stream",
          "name": "stdout",
          "text": [
            "                   all         79         75      0.567      0.647      0.662      0.388\n"
          ]
        },
        {
          "output_type": "stream",
          "name": "stderr",
          "text": [
            "\n"
          ]
        },
        {
          "output_type": "stream",
          "name": "stdout",
          "text": [
            "\n",
            "      Epoch    GPU_mem   box_loss   cls_loss   dfl_loss  Instances       Size\n"
          ]
        },
        {
          "output_type": "stream",
          "name": "stderr",
          "text": [
            "      16/50      1.11G      1.161      1.889      1.296          7        640: 100%|██████████| 18/18 [00:04<00:00,  4.33it/s]\n",
            "                 Class     Images  Instances      Box(P          R      mAP50  mAP50-95): 100%|██████████| 3/3 [00:00<00:00,  3.17it/s]"
          ]
        },
        {
          "output_type": "stream",
          "name": "stdout",
          "text": [
            "                   all         79         75      0.554      0.667      0.663       0.39\n"
          ]
        },
        {
          "output_type": "stream",
          "name": "stderr",
          "text": [
            "\n"
          ]
        },
        {
          "output_type": "stream",
          "name": "stdout",
          "text": [
            "\n",
            "      Epoch    GPU_mem   box_loss   cls_loss   dfl_loss  Instances       Size\n"
          ]
        },
        {
          "output_type": "stream",
          "name": "stderr",
          "text": [
            "      17/50      1.11G      1.192      1.863      1.282          6        640: 100%|██████████| 18/18 [00:03<00:00,  4.98it/s]\n",
            "                 Class     Images  Instances      Box(P          R      mAP50  mAP50-95): 100%|██████████| 3/3 [00:00<00:00,  3.37it/s]"
          ]
        },
        {
          "output_type": "stream",
          "name": "stdout",
          "text": [
            "                   all         79         75      0.648      0.562      0.643      0.376\n"
          ]
        },
        {
          "output_type": "stream",
          "name": "stderr",
          "text": [
            "\n"
          ]
        },
        {
          "output_type": "stream",
          "name": "stdout",
          "text": [
            "\n",
            "      Epoch    GPU_mem   box_loss   cls_loss   dfl_loss  Instances       Size\n"
          ]
        },
        {
          "output_type": "stream",
          "name": "stderr",
          "text": [
            "      18/50      1.11G      1.205      1.861      1.319          6        640: 100%|██████████| 18/18 [00:04<00:00,  3.82it/s]\n",
            "                 Class     Images  Instances      Box(P          R      mAP50  mAP50-95): 100%|██████████| 3/3 [00:00<00:00,  3.42it/s]"
          ]
        },
        {
          "output_type": "stream",
          "name": "stdout",
          "text": [
            "                   all         79         75      0.551      0.765      0.738      0.402\n"
          ]
        },
        {
          "output_type": "stream",
          "name": "stderr",
          "text": [
            "\n"
          ]
        },
        {
          "output_type": "stream",
          "name": "stdout",
          "text": [
            "\n",
            "      Epoch    GPU_mem   box_loss   cls_loss   dfl_loss  Instances       Size\n"
          ]
        },
        {
          "output_type": "stream",
          "name": "stderr",
          "text": [
            "      19/50      1.11G      1.177      1.856      1.284          7        640: 100%|██████████| 18/18 [00:03<00:00,  5.12it/s]\n",
            "                 Class     Images  Instances      Box(P          R      mAP50  mAP50-95): 100%|██████████| 3/3 [00:00<00:00,  3.40it/s]"
          ]
        },
        {
          "output_type": "stream",
          "name": "stdout",
          "text": [
            "                   all         79         75      0.682        0.7      0.708      0.417\n"
          ]
        },
        {
          "output_type": "stream",
          "name": "stderr",
          "text": [
            "\n"
          ]
        },
        {
          "output_type": "stream",
          "name": "stdout",
          "text": [
            "\n",
            "      Epoch    GPU_mem   box_loss   cls_loss   dfl_loss  Instances       Size\n"
          ]
        },
        {
          "output_type": "stream",
          "name": "stderr",
          "text": [
            "      20/50      1.11G      1.207        1.8      1.279          9        640: 100%|██████████| 18/18 [00:04<00:00,  4.34it/s]\n",
            "                 Class     Images  Instances      Box(P          R      mAP50  mAP50-95): 100%|██████████| 3/3 [00:01<00:00,  2.26it/s]"
          ]
        },
        {
          "output_type": "stream",
          "name": "stdout",
          "text": [
            "                   all         79         75      0.705      0.672      0.771      0.441\n"
          ]
        },
        {
          "output_type": "stream",
          "name": "stderr",
          "text": [
            "\n"
          ]
        },
        {
          "output_type": "stream",
          "name": "stdout",
          "text": [
            "\n",
            "      Epoch    GPU_mem   box_loss   cls_loss   dfl_loss  Instances       Size\n"
          ]
        },
        {
          "output_type": "stream",
          "name": "stderr",
          "text": [
            "      21/50      1.11G      1.124      1.664      1.291          6        640: 100%|██████████| 18/18 [00:03<00:00,  4.99it/s]\n",
            "                 Class     Images  Instances      Box(P          R      mAP50  mAP50-95): 100%|██████████| 3/3 [00:00<00:00,  3.71it/s]"
          ]
        },
        {
          "output_type": "stream",
          "name": "stdout",
          "text": [
            "                   all         79         75      0.675      0.698      0.801      0.473\n"
          ]
        },
        {
          "output_type": "stream",
          "name": "stderr",
          "text": [
            "\n"
          ]
        },
        {
          "output_type": "stream",
          "name": "stdout",
          "text": [
            "\n",
            "      Epoch    GPU_mem   box_loss   cls_loss   dfl_loss  Instances       Size\n"
          ]
        },
        {
          "output_type": "stream",
          "name": "stderr",
          "text": [
            "      22/50      1.11G      1.192      1.679      1.314          6        640: 100%|██████████| 18/18 [00:03<00:00,  5.09it/s]\n",
            "                 Class     Images  Instances      Box(P          R      mAP50  mAP50-95): 100%|██████████| 3/3 [00:01<00:00,  2.53it/s]"
          ]
        },
        {
          "output_type": "stream",
          "name": "stdout",
          "text": [
            "                   all         79         75      0.679      0.609      0.741      0.408\n"
          ]
        },
        {
          "output_type": "stream",
          "name": "stderr",
          "text": [
            "\n"
          ]
        },
        {
          "output_type": "stream",
          "name": "stdout",
          "text": [
            "\n",
            "      Epoch    GPU_mem   box_loss   cls_loss   dfl_loss  Instances       Size\n"
          ]
        },
        {
          "output_type": "stream",
          "name": "stderr",
          "text": [
            "      23/50      1.11G      1.116      1.626      1.257          6        640: 100%|██████████| 18/18 [00:03<00:00,  4.80it/s]\n",
            "                 Class     Images  Instances      Box(P          R      mAP50  mAP50-95): 100%|██████████| 3/3 [00:00<00:00,  3.20it/s]"
          ]
        },
        {
          "output_type": "stream",
          "name": "stdout",
          "text": [
            "                   all         79         75       0.67      0.633       0.73      0.416\n"
          ]
        },
        {
          "output_type": "stream",
          "name": "stderr",
          "text": [
            "\n"
          ]
        },
        {
          "output_type": "stream",
          "name": "stdout",
          "text": [
            "\n",
            "      Epoch    GPU_mem   box_loss   cls_loss   dfl_loss  Instances       Size\n"
          ]
        },
        {
          "output_type": "stream",
          "name": "stderr",
          "text": [
            "      24/50      1.11G      1.109      1.588      1.269          6        640: 100%|██████████| 18/18 [00:03<00:00,  4.91it/s]\n",
            "                 Class     Images  Instances      Box(P          R      mAP50  mAP50-95): 100%|██████████| 3/3 [00:00<00:00,  3.62it/s]"
          ]
        },
        {
          "output_type": "stream",
          "name": "stdout",
          "text": [
            "                   all         79         75      0.584      0.758      0.762      0.451\n"
          ]
        },
        {
          "output_type": "stream",
          "name": "stderr",
          "text": [
            "\n"
          ]
        },
        {
          "output_type": "stream",
          "name": "stdout",
          "text": [
            "\n",
            "      Epoch    GPU_mem   box_loss   cls_loss   dfl_loss  Instances       Size\n"
          ]
        },
        {
          "output_type": "stream",
          "name": "stderr",
          "text": [
            "      25/50      1.11G      1.074      1.456      1.192          8        640: 100%|██████████| 18/18 [00:04<00:00,  3.93it/s]\n",
            "                 Class     Images  Instances      Box(P          R      mAP50  mAP50-95): 100%|██████████| 3/3 [00:00<00:00,  3.26it/s]"
          ]
        },
        {
          "output_type": "stream",
          "name": "stdout",
          "text": [
            "                   all         79         75      0.722      0.769      0.793      0.465\n"
          ]
        },
        {
          "output_type": "stream",
          "name": "stderr",
          "text": [
            "\n"
          ]
        },
        {
          "output_type": "stream",
          "name": "stdout",
          "text": [
            "\n",
            "      Epoch    GPU_mem   box_loss   cls_loss   dfl_loss  Instances       Size\n"
          ]
        },
        {
          "output_type": "stream",
          "name": "stderr",
          "text": [
            "      26/50      1.11G      1.046      1.414      1.214          6        640: 100%|██████████| 18/18 [00:03<00:00,  4.87it/s]\n",
            "                 Class     Images  Instances      Box(P          R      mAP50  mAP50-95): 100%|██████████| 3/3 [00:00<00:00,  3.68it/s]"
          ]
        },
        {
          "output_type": "stream",
          "name": "stdout",
          "text": [
            "                   all         79         75      0.724      0.634      0.766      0.444\n"
          ]
        },
        {
          "output_type": "stream",
          "name": "stderr",
          "text": [
            "\n"
          ]
        },
        {
          "output_type": "stream",
          "name": "stdout",
          "text": [
            "\n",
            "      Epoch    GPU_mem   box_loss   cls_loss   dfl_loss  Instances       Size\n"
          ]
        },
        {
          "output_type": "stream",
          "name": "stderr",
          "text": [
            "      27/50      1.11G       1.12      1.463      1.238          2        640: 100%|██████████| 18/18 [00:04<00:00,  4.32it/s]\n",
            "                 Class     Images  Instances      Box(P          R      mAP50  mAP50-95): 100%|██████████| 3/3 [00:01<00:00,  2.45it/s]"
          ]
        },
        {
          "output_type": "stream",
          "name": "stdout",
          "text": [
            "                   all         79         75       0.71      0.793        0.8      0.475\n"
          ]
        },
        {
          "output_type": "stream",
          "name": "stderr",
          "text": [
            "\n"
          ]
        },
        {
          "output_type": "stream",
          "name": "stdout",
          "text": [
            "\n",
            "      Epoch    GPU_mem   box_loss   cls_loss   dfl_loss  Instances       Size\n"
          ]
        },
        {
          "output_type": "stream",
          "name": "stderr",
          "text": [
            "      28/50      1.11G      1.056      1.436      1.205          3        640: 100%|██████████| 18/18 [00:03<00:00,  4.94it/s]\n",
            "                 Class     Images  Instances      Box(P          R      mAP50  mAP50-95): 100%|██████████| 3/3 [00:00<00:00,  3.74it/s]"
          ]
        },
        {
          "output_type": "stream",
          "name": "stdout",
          "text": [
            "                   all         79         75      0.765      0.661      0.748      0.451\n"
          ]
        },
        {
          "output_type": "stream",
          "name": "stderr",
          "text": [
            "\n"
          ]
        },
        {
          "output_type": "stream",
          "name": "stdout",
          "text": [
            "\n",
            "      Epoch    GPU_mem   box_loss   cls_loss   dfl_loss  Instances       Size\n"
          ]
        },
        {
          "output_type": "stream",
          "name": "stderr",
          "text": [
            "      29/50      1.11G      1.057      1.338      1.218          7        640: 100%|██████████| 18/18 [00:03<00:00,  5.08it/s]\n",
            "                 Class     Images  Instances      Box(P          R      mAP50  mAP50-95): 100%|██████████| 3/3 [00:01<00:00,  2.55it/s]"
          ]
        },
        {
          "output_type": "stream",
          "name": "stdout",
          "text": [
            "                   all         79         75      0.735      0.698      0.736      0.435\n"
          ]
        },
        {
          "output_type": "stream",
          "name": "stderr",
          "text": [
            "\n"
          ]
        },
        {
          "output_type": "stream",
          "name": "stdout",
          "text": [
            "\n",
            "      Epoch    GPU_mem   box_loss   cls_loss   dfl_loss  Instances       Size\n"
          ]
        },
        {
          "output_type": "stream",
          "name": "stderr",
          "text": [
            "      30/50      1.11G      1.047      1.336       1.22          4        640: 100%|██████████| 18/18 [00:03<00:00,  4.82it/s]\n",
            "                 Class     Images  Instances      Box(P          R      mAP50  mAP50-95): 100%|██████████| 3/3 [00:00<00:00,  3.33it/s]"
          ]
        },
        {
          "output_type": "stream",
          "name": "stdout",
          "text": [
            "                   all         79         75      0.761       0.69      0.812      0.494\n"
          ]
        },
        {
          "output_type": "stream",
          "name": "stderr",
          "text": [
            "\n"
          ]
        },
        {
          "output_type": "stream",
          "name": "stdout",
          "text": [
            "\n",
            "      Epoch    GPU_mem   box_loss   cls_loss   dfl_loss  Instances       Size\n"
          ]
        },
        {
          "output_type": "stream",
          "name": "stderr",
          "text": [
            "      31/50      1.11G      1.063      1.344      1.208          5        640: 100%|██████████| 18/18 [00:03<00:00,  5.14it/s]\n",
            "                 Class     Images  Instances      Box(P          R      mAP50  mAP50-95): 100%|██████████| 3/3 [00:00<00:00,  3.36it/s]"
          ]
        },
        {
          "output_type": "stream",
          "name": "stdout",
          "text": [
            "                   all         79         75      0.692      0.779      0.787      0.474\n"
          ]
        },
        {
          "output_type": "stream",
          "name": "stderr",
          "text": [
            "\n"
          ]
        },
        {
          "output_type": "stream",
          "name": "stdout",
          "text": [
            "\n",
            "      Epoch    GPU_mem   box_loss   cls_loss   dfl_loss  Instances       Size\n"
          ]
        },
        {
          "output_type": "stream",
          "name": "stderr",
          "text": [
            "      32/50      1.11G      1.006      1.288      1.196          3        640: 100%|██████████| 18/18 [00:04<00:00,  3.70it/s]\n",
            "                 Class     Images  Instances      Box(P          R      mAP50  mAP50-95): 100%|██████████| 3/3 [00:00<00:00,  3.55it/s]"
          ]
        },
        {
          "output_type": "stream",
          "name": "stdout",
          "text": [
            "                   all         79         75      0.745      0.805      0.813      0.495\n"
          ]
        },
        {
          "output_type": "stream",
          "name": "stderr",
          "text": [
            "\n"
          ]
        },
        {
          "output_type": "stream",
          "name": "stdout",
          "text": [
            "\n",
            "      Epoch    GPU_mem   box_loss   cls_loss   dfl_loss  Instances       Size\n"
          ]
        },
        {
          "output_type": "stream",
          "name": "stderr",
          "text": [
            "      33/50      1.11G      1.018      1.244      1.164          4        640: 100%|██████████| 18/18 [00:03<00:00,  5.22it/s]\n",
            "                 Class     Images  Instances      Box(P          R      mAP50  mAP50-95): 100%|██████████| 3/3 [00:00<00:00,  3.46it/s]"
          ]
        },
        {
          "output_type": "stream",
          "name": "stdout",
          "text": [
            "                   all         79         75      0.707      0.844       0.78      0.469\n"
          ]
        },
        {
          "output_type": "stream",
          "name": "stderr",
          "text": [
            "\n"
          ]
        },
        {
          "output_type": "stream",
          "name": "stdout",
          "text": [
            "\n",
            "      Epoch    GPU_mem   box_loss   cls_loss   dfl_loss  Instances       Size\n"
          ]
        },
        {
          "output_type": "stream",
          "name": "stderr",
          "text": [
            "      34/50      1.11G     0.9807      1.253      1.183          4        640: 100%|██████████| 18/18 [00:04<00:00,  4.16it/s]\n",
            "                 Class     Images  Instances      Box(P          R      mAP50  mAP50-95): 100%|██████████| 3/3 [00:01<00:00,  2.72it/s]"
          ]
        },
        {
          "output_type": "stream",
          "name": "stdout",
          "text": [
            "                   all         79         75      0.726      0.751      0.805      0.495\n"
          ]
        },
        {
          "output_type": "stream",
          "name": "stderr",
          "text": [
            "\n"
          ]
        },
        {
          "output_type": "stream",
          "name": "stdout",
          "text": [
            "\n",
            "      Epoch    GPU_mem   box_loss   cls_loss   dfl_loss  Instances       Size\n"
          ]
        },
        {
          "output_type": "stream",
          "name": "stderr",
          "text": [
            "      35/50      1.11G     0.8901      1.182      1.114          2        640: 100%|██████████| 18/18 [00:03<00:00,  5.01it/s]\n",
            "                 Class     Images  Instances      Box(P          R      mAP50  mAP50-95): 100%|██████████| 3/3 [00:00<00:00,  3.70it/s]"
          ]
        },
        {
          "output_type": "stream",
          "name": "stdout",
          "text": [
            "                   all         79         75      0.702      0.825      0.812      0.513\n"
          ]
        },
        {
          "output_type": "stream",
          "name": "stderr",
          "text": [
            "\n"
          ]
        },
        {
          "output_type": "stream",
          "name": "stdout",
          "text": [
            "\n",
            "      Epoch    GPU_mem   box_loss   cls_loss   dfl_loss  Instances       Size\n"
          ]
        },
        {
          "output_type": "stream",
          "name": "stderr",
          "text": [
            "      36/50      1.11G     0.9691      1.196      1.176          7        640: 100%|██████████| 18/18 [00:03<00:00,  5.11it/s]\n",
            "                 Class     Images  Instances      Box(P          R      mAP50  mAP50-95): 100%|██████████| 3/3 [00:01<00:00,  2.56it/s]\n"
          ]
        },
        {
          "output_type": "stream",
          "name": "stdout",
          "text": [
            "                   all         79         75      0.722      0.762      0.813      0.511\n",
            "\n",
            "      Epoch    GPU_mem   box_loss   cls_loss   dfl_loss  Instances       Size\n"
          ]
        },
        {
          "output_type": "stream",
          "name": "stderr",
          "text": [
            "      37/50      1.11G     0.9832      1.232      1.184          4        640: 100%|██████████| 18/18 [00:03<00:00,  4.55it/s]\n",
            "                 Class     Images  Instances      Box(P          R      mAP50  mAP50-95): 100%|██████████| 3/3 [00:00<00:00,  4.04it/s]"
          ]
        },
        {
          "output_type": "stream",
          "name": "stdout",
          "text": [
            "                   all         79         75      0.677      0.809      0.798      0.498\n"
          ]
        },
        {
          "output_type": "stream",
          "name": "stderr",
          "text": [
            "\n"
          ]
        },
        {
          "output_type": "stream",
          "name": "stdout",
          "text": [
            "\n",
            "      Epoch    GPU_mem   box_loss   cls_loss   dfl_loss  Instances       Size\n"
          ]
        },
        {
          "output_type": "stream",
          "name": "stderr",
          "text": [
            "      38/50      1.11G     0.9587      1.136       1.13          5        640: 100%|██████████| 18/18 [00:03<00:00,  4.90it/s]\n",
            "                 Class     Images  Instances      Box(P          R      mAP50  mAP50-95): 100%|██████████| 3/3 [00:00<00:00,  3.33it/s]"
          ]
        },
        {
          "output_type": "stream",
          "name": "stdout",
          "text": [
            "                   all         79         75      0.746      0.839      0.829      0.513\n"
          ]
        },
        {
          "output_type": "stream",
          "name": "stderr",
          "text": [
            "\n"
          ]
        },
        {
          "output_type": "stream",
          "name": "stdout",
          "text": [
            "\n",
            "      Epoch    GPU_mem   box_loss   cls_loss   dfl_loss  Instances       Size\n"
          ]
        },
        {
          "output_type": "stream",
          "name": "stderr",
          "text": [
            "      39/50      1.11G     0.9545      1.147      1.131          6        640: 100%|██████████| 18/18 [00:04<00:00,  3.89it/s]\n",
            "                 Class     Images  Instances      Box(P          R      mAP50  mAP50-95): 100%|██████████| 3/3 [00:00<00:00,  3.49it/s]"
          ]
        },
        {
          "output_type": "stream",
          "name": "stdout",
          "text": [
            "                   all         79         75      0.713      0.828      0.832      0.525\n"
          ]
        },
        {
          "output_type": "stream",
          "name": "stderr",
          "text": [
            "\n"
          ]
        },
        {
          "output_type": "stream",
          "name": "stdout",
          "text": [
            "\n",
            "      Epoch    GPU_mem   box_loss   cls_loss   dfl_loss  Instances       Size\n"
          ]
        },
        {
          "output_type": "stream",
          "name": "stderr",
          "text": [
            "      40/50      1.11G     0.9267      1.149       1.16          6        640: 100%|██████████| 18/18 [00:03<00:00,  4.99it/s]\n",
            "                 Class     Images  Instances      Box(P          R      mAP50  mAP50-95): 100%|██████████| 3/3 [00:00<00:00,  3.46it/s]"
          ]
        },
        {
          "output_type": "stream",
          "name": "stdout",
          "text": [
            "                   all         79         75      0.702       0.86      0.851      0.537\n"
          ]
        },
        {
          "output_type": "stream",
          "name": "stderr",
          "text": [
            "\n"
          ]
        },
        {
          "output_type": "stream",
          "name": "stdout",
          "text": [
            "Closing dataloader mosaic\n",
            "\u001b[34m\u001b[1malbumentations: \u001b[0mBlur(p=0.01, blur_limit=(3, 7)), MedianBlur(p=0.01, blur_limit=(3, 7)), ToGray(p=0.01, num_output_channels=3, method='weighted_average'), CLAHE(p=0.01, clip_limit=(1.0, 4.0), tile_grid_size=(8, 8))\n",
            "\n",
            "      Epoch    GPU_mem   box_loss   cls_loss   dfl_loss  Instances       Size\n"
          ]
        },
        {
          "output_type": "stream",
          "name": "stderr",
          "text": [
            "      41/50      1.27G     0.8328      1.166      1.127          3        640: 100%|██████████| 18/18 [00:05<00:00,  3.08it/s]\n",
            "                 Class     Images  Instances      Box(P          R      mAP50  mAP50-95): 100%|██████████| 3/3 [00:00<00:00,  3.56it/s]"
          ]
        },
        {
          "output_type": "stream",
          "name": "stdout",
          "text": [
            "                   all         79         75      0.767      0.797      0.836      0.535\n"
          ]
        },
        {
          "output_type": "stream",
          "name": "stderr",
          "text": [
            "\n"
          ]
        },
        {
          "output_type": "stream",
          "name": "stdout",
          "text": [
            "\n",
            "      Epoch    GPU_mem   box_loss   cls_loss   dfl_loss  Instances       Size\n"
          ]
        },
        {
          "output_type": "stream",
          "name": "stderr",
          "text": [
            "      42/50      1.11G     0.8749      1.208      1.169          3        640: 100%|██████████| 18/18 [00:03<00:00,  4.99it/s]\n",
            "                 Class     Images  Instances      Box(P          R      mAP50  mAP50-95): 100%|██████████| 3/3 [00:00<00:00,  3.84it/s]"
          ]
        },
        {
          "output_type": "stream",
          "name": "stdout",
          "text": [
            "                   all         79         75      0.723      0.865      0.826      0.524\n"
          ]
        },
        {
          "output_type": "stream",
          "name": "stderr",
          "text": [
            "\n"
          ]
        },
        {
          "output_type": "stream",
          "name": "stdout",
          "text": [
            "\n",
            "      Epoch    GPU_mem   box_loss   cls_loss   dfl_loss  Instances       Size\n"
          ]
        },
        {
          "output_type": "stream",
          "name": "stderr",
          "text": [
            "      43/50      1.11G     0.7921      1.095      1.109          3        640: 100%|██████████| 18/18 [00:04<00:00,  4.35it/s]\n",
            "                 Class     Images  Instances      Box(P          R      mAP50  mAP50-95): 100%|██████████| 3/3 [00:01<00:00,  2.66it/s]"
          ]
        },
        {
          "output_type": "stream",
          "name": "stdout",
          "text": [
            "                   all         79         75      0.785      0.845      0.851       0.52\n"
          ]
        },
        {
          "output_type": "stream",
          "name": "stderr",
          "text": [
            "\n"
          ]
        },
        {
          "output_type": "stream",
          "name": "stdout",
          "text": [
            "\n",
            "      Epoch    GPU_mem   box_loss   cls_loss   dfl_loss  Instances       Size\n"
          ]
        },
        {
          "output_type": "stream",
          "name": "stderr",
          "text": [
            "      44/50      1.11G     0.8039       1.01      1.109          3        640: 100%|██████████| 18/18 [00:03<00:00,  5.22it/s]\n",
            "                 Class     Images  Instances      Box(P          R      mAP50  mAP50-95): 100%|██████████| 3/3 [00:00<00:00,  3.35it/s]"
          ]
        },
        {
          "output_type": "stream",
          "name": "stdout",
          "text": [
            "                   all         79         75      0.762      0.826      0.856      0.516\n"
          ]
        },
        {
          "output_type": "stream",
          "name": "stderr",
          "text": [
            "\n"
          ]
        },
        {
          "output_type": "stream",
          "name": "stdout",
          "text": [
            "\n",
            "      Epoch    GPU_mem   box_loss   cls_loss   dfl_loss  Instances       Size\n"
          ]
        },
        {
          "output_type": "stream",
          "name": "stderr",
          "text": [
            "      45/50      1.11G     0.8193      1.062      1.115          3        640: 100%|██████████| 18/18 [00:03<00:00,  5.27it/s]\n",
            "                 Class     Images  Instances      Box(P          R      mAP50  mAP50-95): 100%|██████████| 3/3 [00:00<00:00,  3.38it/s]\n"
          ]
        },
        {
          "output_type": "stream",
          "name": "stdout",
          "text": [
            "                   all         79         75      0.848      0.793      0.862      0.533\n",
            "\n",
            "      Epoch    GPU_mem   box_loss   cls_loss   dfl_loss  Instances       Size\n"
          ]
        },
        {
          "output_type": "stream",
          "name": "stderr",
          "text": [
            "      46/50      1.11G     0.7883      1.199      1.162          1        640: 100%|██████████| 18/18 [00:04<00:00,  4.29it/s]\n",
            "                 Class     Images  Instances      Box(P          R      mAP50  mAP50-95): 100%|██████████| 3/3 [00:00<00:00,  4.22it/s]"
          ]
        },
        {
          "output_type": "stream",
          "name": "stdout",
          "text": [
            "                   all         79         75       0.79       0.89      0.844      0.524\n"
          ]
        },
        {
          "output_type": "stream",
          "name": "stderr",
          "text": [
            "\n"
          ]
        },
        {
          "output_type": "stream",
          "name": "stdout",
          "text": [
            "\n",
            "      Epoch    GPU_mem   box_loss   cls_loss   dfl_loss  Instances       Size\n"
          ]
        },
        {
          "output_type": "stream",
          "name": "stderr",
          "text": [
            "      47/50      1.11G     0.7718     0.9955      1.115          2        640: 100%|██████████| 18/18 [00:03<00:00,  5.47it/s]\n",
            "                 Class     Images  Instances      Box(P          R      mAP50  mAP50-95): 100%|██████████| 3/3 [00:00<00:00,  3.58it/s]"
          ]
        },
        {
          "output_type": "stream",
          "name": "stdout",
          "text": [
            "                   all         79         75       0.76      0.891      0.859      0.533\n"
          ]
        },
        {
          "output_type": "stream",
          "name": "stderr",
          "text": [
            "\n"
          ]
        },
        {
          "output_type": "stream",
          "name": "stdout",
          "text": [
            "\n",
            "      Epoch    GPU_mem   box_loss   cls_loss   dfl_loss  Instances       Size\n"
          ]
        },
        {
          "output_type": "stream",
          "name": "stderr",
          "text": [
            "      48/50      1.11G     0.7581      1.465      1.047          0        640: 100%|██████████| 18/18 [00:04<00:00,  3.90it/s]\n",
            "                 Class     Images  Instances      Box(P          R      mAP50  mAP50-95): 100%|██████████| 3/3 [00:01<00:00,  2.41it/s]\n"
          ]
        },
        {
          "output_type": "stream",
          "name": "stdout",
          "text": [
            "                   all         79         75      0.752      0.884      0.855      0.531\n",
            "\n",
            "      Epoch    GPU_mem   box_loss   cls_loss   dfl_loss  Instances       Size\n"
          ]
        },
        {
          "output_type": "stream",
          "name": "stderr",
          "text": [
            "      49/50      1.11G     0.8976      1.004      1.196          1        640: 100%|██████████| 18/18 [00:03<00:00,  5.24it/s]\n",
            "                 Class     Images  Instances      Box(P          R      mAP50  mAP50-95): 100%|██████████| 3/3 [00:00<00:00,  3.74it/s]"
          ]
        },
        {
          "output_type": "stream",
          "name": "stdout",
          "text": [
            "                   all         79         75       0.74      0.856      0.855      0.531\n"
          ]
        },
        {
          "output_type": "stream",
          "name": "stderr",
          "text": [
            "\n"
          ]
        },
        {
          "output_type": "stream",
          "name": "stdout",
          "text": [
            "\n",
            "      Epoch    GPU_mem   box_loss   cls_loss   dfl_loss  Instances       Size\n"
          ]
        },
        {
          "output_type": "stream",
          "name": "stderr",
          "text": [
            "      50/50      1.11G     0.7812      0.977      1.124          3        640: 100%|██████████| 18/18 [00:03<00:00,  4.93it/s]\n",
            "                 Class     Images  Instances      Box(P          R      mAP50  mAP50-95): 100%|██████████| 3/3 [00:01<00:00,  2.07it/s]"
          ]
        },
        {
          "output_type": "stream",
          "name": "stdout",
          "text": [
            "                   all         79         75      0.748      0.862      0.858      0.546\n"
          ]
        },
        {
          "output_type": "stream",
          "name": "stderr",
          "text": [
            "\n"
          ]
        },
        {
          "output_type": "stream",
          "name": "stdout",
          "text": [
            "\n",
            "50 epochs completed in 0.080 hours.\n",
            "Optimizer stripped from runs/detect/train/weights/last.pt, 6.2MB\n",
            "Optimizer stripped from runs/detect/train/weights/best.pt, 6.2MB\n",
            "\n",
            "Validating runs/detect/train/weights/best.pt...\n",
            "Ultralytics 8.3.74 🚀 Python-3.11.11 torch-2.5.1+cu124 CUDA:0 (Tesla T4, 15095MiB)\n",
            "Model summary (fused): 168 layers, 3,006,623 parameters, 0 gradients, 8.1 GFLOPs\n"
          ]
        },
        {
          "output_type": "stream",
          "name": "stderr",
          "text": [
            "                 Class     Images  Instances      Box(P          R      mAP50  mAP50-95): 100%|██████████| 3/3 [00:01<00:00,  2.49it/s]\n"
          ]
        },
        {
          "output_type": "stream",
          "name": "stdout",
          "text": [
            "                   all         79         75      0.747      0.862      0.856      0.545\n",
            "              Daenerys         11         11      0.777          1      0.976      0.591\n",
            "                   Jon         20         20       0.78        0.8      0.872      0.524\n",
            "                  Robb         16         17      0.768      0.941      0.938      0.679\n",
            "                 Sansa         12         12      0.598      0.833      0.673      0.532\n",
            "                Tyrion         15         15      0.814      0.733      0.822      0.398\n",
            "Speed: 0.5ms preprocess, 2.6ms inference, 0.0ms loss, 2.9ms postprocess per image\n",
            "Results saved to \u001b[1mruns/detect/train\u001b[0m\n"
          ]
        },
        {
          "output_type": "execute_result",
          "data": {
            "text/plain": [
              "ultralytics.utils.metrics.DetMetrics object with attributes:\n",
              "\n",
              "ap_class_index: array([0, 1, 2, 3, 4])\n",
              "box: ultralytics.utils.metrics.Metric object\n",
              "confusion_matrix: <ultralytics.utils.metrics.ConfusionMatrix object at 0x7f16eb84d790>\n",
              "curves: ['Precision-Recall(B)', 'F1-Confidence(B)', 'Precision-Confidence(B)', 'Recall-Confidence(B)']\n",
              "curves_results: [[array([          0,    0.001001,    0.002002,    0.003003,    0.004004,    0.005005,    0.006006,    0.007007,    0.008008,    0.009009,     0.01001,    0.011011,    0.012012,    0.013013,    0.014014,    0.015015,    0.016016,    0.017017,    0.018018,    0.019019,     0.02002,    0.021021,    0.022022,    0.023023,\n",
              "          0.024024,    0.025025,    0.026026,    0.027027,    0.028028,    0.029029,     0.03003,    0.031031,    0.032032,    0.033033,    0.034034,    0.035035,    0.036036,    0.037037,    0.038038,    0.039039,     0.04004,    0.041041,    0.042042,    0.043043,    0.044044,    0.045045,    0.046046,    0.047047,\n",
              "          0.048048,    0.049049,     0.05005,    0.051051,    0.052052,    0.053053,    0.054054,    0.055055,    0.056056,    0.057057,    0.058058,    0.059059,     0.06006,    0.061061,    0.062062,    0.063063,    0.064064,    0.065065,    0.066066,    0.067067,    0.068068,    0.069069,     0.07007,    0.071071,\n",
              "          0.072072,    0.073073,    0.074074,    0.075075,    0.076076,    0.077077,    0.078078,    0.079079,     0.08008,    0.081081,    0.082082,    0.083083,    0.084084,    0.085085,    0.086086,    0.087087,    0.088088,    0.089089,     0.09009,    0.091091,    0.092092,    0.093093,    0.094094,    0.095095,\n",
              "          0.096096,    0.097097,    0.098098,    0.099099,      0.1001,      0.1011,      0.1021,      0.1031,      0.1041,     0.10511,     0.10611,     0.10711,     0.10811,     0.10911,     0.11011,     0.11111,     0.11211,     0.11311,     0.11411,     0.11512,     0.11612,     0.11712,     0.11812,     0.11912,\n",
              "           0.12012,     0.12112,     0.12212,     0.12312,     0.12412,     0.12513,     0.12613,     0.12713,     0.12813,     0.12913,     0.13013,     0.13113,     0.13213,     0.13313,     0.13413,     0.13514,     0.13614,     0.13714,     0.13814,     0.13914,     0.14014,     0.14114,     0.14214,     0.14314,\n",
              "           0.14414,     0.14515,     0.14615,     0.14715,     0.14815,     0.14915,     0.15015,     0.15115,     0.15215,     0.15315,     0.15415,     0.15516,     0.15616,     0.15716,     0.15816,     0.15916,     0.16016,     0.16116,     0.16216,     0.16316,     0.16416,     0.16517,     0.16617,     0.16717,\n",
              "           0.16817,     0.16917,     0.17017,     0.17117,     0.17217,     0.17317,     0.17417,     0.17518,     0.17618,     0.17718,     0.17818,     0.17918,     0.18018,     0.18118,     0.18218,     0.18318,     0.18418,     0.18519,     0.18619,     0.18719,     0.18819,     0.18919,     0.19019,     0.19119,\n",
              "           0.19219,     0.19319,     0.19419,      0.1952,      0.1962,      0.1972,      0.1982,      0.1992,      0.2002,      0.2012,      0.2022,      0.2032,      0.2042,     0.20521,     0.20621,     0.20721,     0.20821,     0.20921,     0.21021,     0.21121,     0.21221,     0.21321,     0.21421,     0.21522,\n",
              "           0.21622,     0.21722,     0.21822,     0.21922,     0.22022,     0.22122,     0.22222,     0.22322,     0.22422,     0.22523,     0.22623,     0.22723,     0.22823,     0.22923,     0.23023,     0.23123,     0.23223,     0.23323,     0.23423,     0.23524,     0.23624,     0.23724,     0.23824,     0.23924,\n",
              "           0.24024,     0.24124,     0.24224,     0.24324,     0.24424,     0.24525,     0.24625,     0.24725,     0.24825,     0.24925,     0.25025,     0.25125,     0.25225,     0.25325,     0.25425,     0.25526,     0.25626,     0.25726,     0.25826,     0.25926,     0.26026,     0.26126,     0.26226,     0.26326,\n",
              "           0.26426,     0.26527,     0.26627,     0.26727,     0.26827,     0.26927,     0.27027,     0.27127,     0.27227,     0.27327,     0.27427,     0.27528,     0.27628,     0.27728,     0.27828,     0.27928,     0.28028,     0.28128,     0.28228,     0.28328,     0.28428,     0.28529,     0.28629,     0.28729,\n",
              "           0.28829,     0.28929,     0.29029,     0.29129,     0.29229,     0.29329,     0.29429,      0.2953,      0.2963,      0.2973,      0.2983,      0.2993,      0.3003,      0.3013,      0.3023,      0.3033,      0.3043,     0.30531,     0.30631,     0.30731,     0.30831,     0.30931,     0.31031,     0.31131,\n",
              "           0.31231,     0.31331,     0.31431,     0.31532,     0.31632,     0.31732,     0.31832,     0.31932,     0.32032,     0.32132,     0.32232,     0.32332,     0.32432,     0.32533,     0.32633,     0.32733,     0.32833,     0.32933,     0.33033,     0.33133,     0.33233,     0.33333,     0.33433,     0.33534,\n",
              "           0.33634,     0.33734,     0.33834,     0.33934,     0.34034,     0.34134,     0.34234,     0.34334,     0.34434,     0.34535,     0.34635,     0.34735,     0.34835,     0.34935,     0.35035,     0.35135,     0.35235,     0.35335,     0.35435,     0.35536,     0.35636,     0.35736,     0.35836,     0.35936,\n",
              "           0.36036,     0.36136,     0.36236,     0.36336,     0.36436,     0.36537,     0.36637,     0.36737,     0.36837,     0.36937,     0.37037,     0.37137,     0.37237,     0.37337,     0.37437,     0.37538,     0.37638,     0.37738,     0.37838,     0.37938,     0.38038,     0.38138,     0.38238,     0.38338,\n",
              "           0.38438,     0.38539,     0.38639,     0.38739,     0.38839,     0.38939,     0.39039,     0.39139,     0.39239,     0.39339,     0.39439,      0.3954,      0.3964,      0.3974,      0.3984,      0.3994,      0.4004,      0.4014,      0.4024,      0.4034,      0.4044,     0.40541,     0.40641,     0.40741,\n",
              "           0.40841,     0.40941,     0.41041,     0.41141,     0.41241,     0.41341,     0.41441,     0.41542,     0.41642,     0.41742,     0.41842,     0.41942,     0.42042,     0.42142,     0.42242,     0.42342,     0.42442,     0.42543,     0.42643,     0.42743,     0.42843,     0.42943,     0.43043,     0.43143,\n",
              "           0.43243,     0.43343,     0.43443,     0.43544,     0.43644,     0.43744,     0.43844,     0.43944,     0.44044,     0.44144,     0.44244,     0.44344,     0.44444,     0.44545,     0.44645,     0.44745,     0.44845,     0.44945,     0.45045,     0.45145,     0.45245,     0.45345,     0.45445,     0.45546,\n",
              "           0.45646,     0.45746,     0.45846,     0.45946,     0.46046,     0.46146,     0.46246,     0.46346,     0.46446,     0.46547,     0.46647,     0.46747,     0.46847,     0.46947,     0.47047,     0.47147,     0.47247,     0.47347,     0.47447,     0.47548,     0.47648,     0.47748,     0.47848,     0.47948,\n",
              "           0.48048,     0.48148,     0.48248,     0.48348,     0.48448,     0.48549,     0.48649,     0.48749,     0.48849,     0.48949,     0.49049,     0.49149,     0.49249,     0.49349,     0.49449,      0.4955,      0.4965,      0.4975,      0.4985,      0.4995,      0.5005,      0.5015,      0.5025,      0.5035,\n",
              "            0.5045,     0.50551,     0.50651,     0.50751,     0.50851,     0.50951,     0.51051,     0.51151,     0.51251,     0.51351,     0.51451,     0.51552,     0.51652,     0.51752,     0.51852,     0.51952,     0.52052,     0.52152,     0.52252,     0.52352,     0.52452,     0.52553,     0.52653,     0.52753,\n",
              "           0.52853,     0.52953,     0.53053,     0.53153,     0.53253,     0.53353,     0.53453,     0.53554,     0.53654,     0.53754,     0.53854,     0.53954,     0.54054,     0.54154,     0.54254,     0.54354,     0.54454,     0.54555,     0.54655,     0.54755,     0.54855,     0.54955,     0.55055,     0.55155,\n",
              "           0.55255,     0.55355,     0.55455,     0.55556,     0.55656,     0.55756,     0.55856,     0.55956,     0.56056,     0.56156,     0.56256,     0.56356,     0.56456,     0.56557,     0.56657,     0.56757,     0.56857,     0.56957,     0.57057,     0.57157,     0.57257,     0.57357,     0.57457,     0.57558,\n",
              "           0.57658,     0.57758,     0.57858,     0.57958,     0.58058,     0.58158,     0.58258,     0.58358,     0.58458,     0.58559,     0.58659,     0.58759,     0.58859,     0.58959,     0.59059,     0.59159,     0.59259,     0.59359,     0.59459,      0.5956,      0.5966,      0.5976,      0.5986,      0.5996,\n",
              "            0.6006,      0.6016,      0.6026,      0.6036,      0.6046,     0.60561,     0.60661,     0.60761,     0.60861,     0.60961,     0.61061,     0.61161,     0.61261,     0.61361,     0.61461,     0.61562,     0.61662,     0.61762,     0.61862,     0.61962,     0.62062,     0.62162,     0.62262,     0.62362,\n",
              "           0.62462,     0.62563,     0.62663,     0.62763,     0.62863,     0.62963,     0.63063,     0.63163,     0.63263,     0.63363,     0.63463,     0.63564,     0.63664,     0.63764,     0.63864,     0.63964,     0.64064,     0.64164,     0.64264,     0.64364,     0.64464,     0.64565,     0.64665,     0.64765,\n",
              "           0.64865,     0.64965,     0.65065,     0.65165,     0.65265,     0.65365,     0.65465,     0.65566,     0.65666,     0.65766,     0.65866,     0.65966,     0.66066,     0.66166,     0.66266,     0.66366,     0.66466,     0.66567,     0.66667,     0.66767,     0.66867,     0.66967,     0.67067,     0.67167,\n",
              "           0.67267,     0.67367,     0.67467,     0.67568,     0.67668,     0.67768,     0.67868,     0.67968,     0.68068,     0.68168,     0.68268,     0.68368,     0.68468,     0.68569,     0.68669,     0.68769,     0.68869,     0.68969,     0.69069,     0.69169,     0.69269,     0.69369,     0.69469,      0.6957,\n",
              "            0.6967,      0.6977,      0.6987,      0.6997,      0.7007,      0.7017,      0.7027,      0.7037,      0.7047,     0.70571,     0.70671,     0.70771,     0.70871,     0.70971,     0.71071,     0.71171,     0.71271,     0.71371,     0.71471,     0.71572,     0.71672,     0.71772,     0.71872,     0.71972,\n",
              "           0.72072,     0.72172,     0.72272,     0.72372,     0.72472,     0.72573,     0.72673,     0.72773,     0.72873,     0.72973,     0.73073,     0.73173,     0.73273,     0.73373,     0.73473,     0.73574,     0.73674,     0.73774,     0.73874,     0.73974,     0.74074,     0.74174,     0.74274,     0.74374,\n",
              "           0.74474,     0.74575,     0.74675,     0.74775,     0.74875,     0.74975,     0.75075,     0.75175,     0.75275,     0.75375,     0.75475,     0.75576,     0.75676,     0.75776,     0.75876,     0.75976,     0.76076,     0.76176,     0.76276,     0.76376,     0.76476,     0.76577,     0.76677,     0.76777,\n",
              "           0.76877,     0.76977,     0.77077,     0.77177,     0.77277,     0.77377,     0.77477,     0.77578,     0.77678,     0.77778,     0.77878,     0.77978,     0.78078,     0.78178,     0.78278,     0.78378,     0.78478,     0.78579,     0.78679,     0.78779,     0.78879,     0.78979,     0.79079,     0.79179,\n",
              "           0.79279,     0.79379,     0.79479,      0.7958,      0.7968,      0.7978,      0.7988,      0.7998,      0.8008,      0.8018,      0.8028,      0.8038,      0.8048,     0.80581,     0.80681,     0.80781,     0.80881,     0.80981,     0.81081,     0.81181,     0.81281,     0.81381,     0.81481,     0.81582,\n",
              "           0.81682,     0.81782,     0.81882,     0.81982,     0.82082,     0.82182,     0.82282,     0.82382,     0.82482,     0.82583,     0.82683,     0.82783,     0.82883,     0.82983,     0.83083,     0.83183,     0.83283,     0.83383,     0.83483,     0.83584,     0.83684,     0.83784,     0.83884,     0.83984,\n",
              "           0.84084,     0.84184,     0.84284,     0.84384,     0.84484,     0.84585,     0.84685,     0.84785,     0.84885,     0.84985,     0.85085,     0.85185,     0.85285,     0.85385,     0.85485,     0.85586,     0.85686,     0.85786,     0.85886,     0.85986,     0.86086,     0.86186,     0.86286,     0.86386,\n",
              "           0.86486,     0.86587,     0.86687,     0.86787,     0.86887,     0.86987,     0.87087,     0.87187,     0.87287,     0.87387,     0.87487,     0.87588,     0.87688,     0.87788,     0.87888,     0.87988,     0.88088,     0.88188,     0.88288,     0.88388,     0.88488,     0.88589,     0.88689,     0.88789,\n",
              "           0.88889,     0.88989,     0.89089,     0.89189,     0.89289,     0.89389,     0.89489,      0.8959,      0.8969,      0.8979,      0.8989,      0.8999,      0.9009,      0.9019,      0.9029,      0.9039,      0.9049,     0.90591,     0.90691,     0.90791,     0.90891,     0.90991,     0.91091,     0.91191,\n",
              "           0.91291,     0.91391,     0.91491,     0.91592,     0.91692,     0.91792,     0.91892,     0.91992,     0.92092,     0.92192,     0.92292,     0.92392,     0.92492,     0.92593,     0.92693,     0.92793,     0.92893,     0.92993,     0.93093,     0.93193,     0.93293,     0.93393,     0.93493,     0.93594,\n",
              "           0.93694,     0.93794,     0.93894,     0.93994,     0.94094,     0.94194,     0.94294,     0.94394,     0.94494,     0.94595,     0.94695,     0.94795,     0.94895,     0.94995,     0.95095,     0.95195,     0.95295,     0.95395,     0.95495,     0.95596,     0.95696,     0.95796,     0.95896,     0.95996,\n",
              "           0.96096,     0.96196,     0.96296,     0.96396,     0.96496,     0.96597,     0.96697,     0.96797,     0.96897,     0.96997,     0.97097,     0.97197,     0.97297,     0.97397,     0.97497,     0.97598,     0.97698,     0.97798,     0.97898,     0.97998,     0.98098,     0.98198,     0.98298,     0.98398,\n",
              "           0.98498,     0.98599,     0.98699,     0.98799,     0.98899,     0.98999,     0.99099,     0.99199,     0.99299,     0.99399,     0.99499,       0.996,       0.997,       0.998,       0.999,           1]), array([[          1,           1,           1, ...,     0.78571,     0.78571,           0],\n",
              "       [          1,           1,           1, ...,     0.22727,     0.22727,           0],\n",
              "       [          1,           1,           1, ...,     0.27419,     0.27419,           0],\n",
              "       [    0.69231,     0.69231,     0.69231, ...,         0.6,         0.6,           0],\n",
              "       [          1,           1,           1, ...,     0.32609,     0.32609,           0]]), 'Recall', 'Precision'], [array([          0,    0.001001,    0.002002,    0.003003,    0.004004,    0.005005,    0.006006,    0.007007,    0.008008,    0.009009,     0.01001,    0.011011,    0.012012,    0.013013,    0.014014,    0.015015,    0.016016,    0.017017,    0.018018,    0.019019,     0.02002,    0.021021,    0.022022,    0.023023,\n",
              "          0.024024,    0.025025,    0.026026,    0.027027,    0.028028,    0.029029,     0.03003,    0.031031,    0.032032,    0.033033,    0.034034,    0.035035,    0.036036,    0.037037,    0.038038,    0.039039,     0.04004,    0.041041,    0.042042,    0.043043,    0.044044,    0.045045,    0.046046,    0.047047,\n",
              "          0.048048,    0.049049,     0.05005,    0.051051,    0.052052,    0.053053,    0.054054,    0.055055,    0.056056,    0.057057,    0.058058,    0.059059,     0.06006,    0.061061,    0.062062,    0.063063,    0.064064,    0.065065,    0.066066,    0.067067,    0.068068,    0.069069,     0.07007,    0.071071,\n",
              "          0.072072,    0.073073,    0.074074,    0.075075,    0.076076,    0.077077,    0.078078,    0.079079,     0.08008,    0.081081,    0.082082,    0.083083,    0.084084,    0.085085,    0.086086,    0.087087,    0.088088,    0.089089,     0.09009,    0.091091,    0.092092,    0.093093,    0.094094,    0.095095,\n",
              "          0.096096,    0.097097,    0.098098,    0.099099,      0.1001,      0.1011,      0.1021,      0.1031,      0.1041,     0.10511,     0.10611,     0.10711,     0.10811,     0.10911,     0.11011,     0.11111,     0.11211,     0.11311,     0.11411,     0.11512,     0.11612,     0.11712,     0.11812,     0.11912,\n",
              "           0.12012,     0.12112,     0.12212,     0.12312,     0.12412,     0.12513,     0.12613,     0.12713,     0.12813,     0.12913,     0.13013,     0.13113,     0.13213,     0.13313,     0.13413,     0.13514,     0.13614,     0.13714,     0.13814,     0.13914,     0.14014,     0.14114,     0.14214,     0.14314,\n",
              "           0.14414,     0.14515,     0.14615,     0.14715,     0.14815,     0.14915,     0.15015,     0.15115,     0.15215,     0.15315,     0.15415,     0.15516,     0.15616,     0.15716,     0.15816,     0.15916,     0.16016,     0.16116,     0.16216,     0.16316,     0.16416,     0.16517,     0.16617,     0.16717,\n",
              "           0.16817,     0.16917,     0.17017,     0.17117,     0.17217,     0.17317,     0.17417,     0.17518,     0.17618,     0.17718,     0.17818,     0.17918,     0.18018,     0.18118,     0.18218,     0.18318,     0.18418,     0.18519,     0.18619,     0.18719,     0.18819,     0.18919,     0.19019,     0.19119,\n",
              "           0.19219,     0.19319,     0.19419,      0.1952,      0.1962,      0.1972,      0.1982,      0.1992,      0.2002,      0.2012,      0.2022,      0.2032,      0.2042,     0.20521,     0.20621,     0.20721,     0.20821,     0.20921,     0.21021,     0.21121,     0.21221,     0.21321,     0.21421,     0.21522,\n",
              "           0.21622,     0.21722,     0.21822,     0.21922,     0.22022,     0.22122,     0.22222,     0.22322,     0.22422,     0.22523,     0.22623,     0.22723,     0.22823,     0.22923,     0.23023,     0.23123,     0.23223,     0.23323,     0.23423,     0.23524,     0.23624,     0.23724,     0.23824,     0.23924,\n",
              "           0.24024,     0.24124,     0.24224,     0.24324,     0.24424,     0.24525,     0.24625,     0.24725,     0.24825,     0.24925,     0.25025,     0.25125,     0.25225,     0.25325,     0.25425,     0.25526,     0.25626,     0.25726,     0.25826,     0.25926,     0.26026,     0.26126,     0.26226,     0.26326,\n",
              "           0.26426,     0.26527,     0.26627,     0.26727,     0.26827,     0.26927,     0.27027,     0.27127,     0.27227,     0.27327,     0.27427,     0.27528,     0.27628,     0.27728,     0.27828,     0.27928,     0.28028,     0.28128,     0.28228,     0.28328,     0.28428,     0.28529,     0.28629,     0.28729,\n",
              "           0.28829,     0.28929,     0.29029,     0.29129,     0.29229,     0.29329,     0.29429,      0.2953,      0.2963,      0.2973,      0.2983,      0.2993,      0.3003,      0.3013,      0.3023,      0.3033,      0.3043,     0.30531,     0.30631,     0.30731,     0.30831,     0.30931,     0.31031,     0.31131,\n",
              "           0.31231,     0.31331,     0.31431,     0.31532,     0.31632,     0.31732,     0.31832,     0.31932,     0.32032,     0.32132,     0.32232,     0.32332,     0.32432,     0.32533,     0.32633,     0.32733,     0.32833,     0.32933,     0.33033,     0.33133,     0.33233,     0.33333,     0.33433,     0.33534,\n",
              "           0.33634,     0.33734,     0.33834,     0.33934,     0.34034,     0.34134,     0.34234,     0.34334,     0.34434,     0.34535,     0.34635,     0.34735,     0.34835,     0.34935,     0.35035,     0.35135,     0.35235,     0.35335,     0.35435,     0.35536,     0.35636,     0.35736,     0.35836,     0.35936,\n",
              "           0.36036,     0.36136,     0.36236,     0.36336,     0.36436,     0.36537,     0.36637,     0.36737,     0.36837,     0.36937,     0.37037,     0.37137,     0.37237,     0.37337,     0.37437,     0.37538,     0.37638,     0.37738,     0.37838,     0.37938,     0.38038,     0.38138,     0.38238,     0.38338,\n",
              "           0.38438,     0.38539,     0.38639,     0.38739,     0.38839,     0.38939,     0.39039,     0.39139,     0.39239,     0.39339,     0.39439,      0.3954,      0.3964,      0.3974,      0.3984,      0.3994,      0.4004,      0.4014,      0.4024,      0.4034,      0.4044,     0.40541,     0.40641,     0.40741,\n",
              "           0.40841,     0.40941,     0.41041,     0.41141,     0.41241,     0.41341,     0.41441,     0.41542,     0.41642,     0.41742,     0.41842,     0.41942,     0.42042,     0.42142,     0.42242,     0.42342,     0.42442,     0.42543,     0.42643,     0.42743,     0.42843,     0.42943,     0.43043,     0.43143,\n",
              "           0.43243,     0.43343,     0.43443,     0.43544,     0.43644,     0.43744,     0.43844,     0.43944,     0.44044,     0.44144,     0.44244,     0.44344,     0.44444,     0.44545,     0.44645,     0.44745,     0.44845,     0.44945,     0.45045,     0.45145,     0.45245,     0.45345,     0.45445,     0.45546,\n",
              "           0.45646,     0.45746,     0.45846,     0.45946,     0.46046,     0.46146,     0.46246,     0.46346,     0.46446,     0.46547,     0.46647,     0.46747,     0.46847,     0.46947,     0.47047,     0.47147,     0.47247,     0.47347,     0.47447,     0.47548,     0.47648,     0.47748,     0.47848,     0.47948,\n",
              "           0.48048,     0.48148,     0.48248,     0.48348,     0.48448,     0.48549,     0.48649,     0.48749,     0.48849,     0.48949,     0.49049,     0.49149,     0.49249,     0.49349,     0.49449,      0.4955,      0.4965,      0.4975,      0.4985,      0.4995,      0.5005,      0.5015,      0.5025,      0.5035,\n",
              "            0.5045,     0.50551,     0.50651,     0.50751,     0.50851,     0.50951,     0.51051,     0.51151,     0.51251,     0.51351,     0.51451,     0.51552,     0.51652,     0.51752,     0.51852,     0.51952,     0.52052,     0.52152,     0.52252,     0.52352,     0.52452,     0.52553,     0.52653,     0.52753,\n",
              "           0.52853,     0.52953,     0.53053,     0.53153,     0.53253,     0.53353,     0.53453,     0.53554,     0.53654,     0.53754,     0.53854,     0.53954,     0.54054,     0.54154,     0.54254,     0.54354,     0.54454,     0.54555,     0.54655,     0.54755,     0.54855,     0.54955,     0.55055,     0.55155,\n",
              "           0.55255,     0.55355,     0.55455,     0.55556,     0.55656,     0.55756,     0.55856,     0.55956,     0.56056,     0.56156,     0.56256,     0.56356,     0.56456,     0.56557,     0.56657,     0.56757,     0.56857,     0.56957,     0.57057,     0.57157,     0.57257,     0.57357,     0.57457,     0.57558,\n",
              "           0.57658,     0.57758,     0.57858,     0.57958,     0.58058,     0.58158,     0.58258,     0.58358,     0.58458,     0.58559,     0.58659,     0.58759,     0.58859,     0.58959,     0.59059,     0.59159,     0.59259,     0.59359,     0.59459,      0.5956,      0.5966,      0.5976,      0.5986,      0.5996,\n",
              "            0.6006,      0.6016,      0.6026,      0.6036,      0.6046,     0.60561,     0.60661,     0.60761,     0.60861,     0.60961,     0.61061,     0.61161,     0.61261,     0.61361,     0.61461,     0.61562,     0.61662,     0.61762,     0.61862,     0.61962,     0.62062,     0.62162,     0.62262,     0.62362,\n",
              "           0.62462,     0.62563,     0.62663,     0.62763,     0.62863,     0.62963,     0.63063,     0.63163,     0.63263,     0.63363,     0.63463,     0.63564,     0.63664,     0.63764,     0.63864,     0.63964,     0.64064,     0.64164,     0.64264,     0.64364,     0.64464,     0.64565,     0.64665,     0.64765,\n",
              "           0.64865,     0.64965,     0.65065,     0.65165,     0.65265,     0.65365,     0.65465,     0.65566,     0.65666,     0.65766,     0.65866,     0.65966,     0.66066,     0.66166,     0.66266,     0.66366,     0.66466,     0.66567,     0.66667,     0.66767,     0.66867,     0.66967,     0.67067,     0.67167,\n",
              "           0.67267,     0.67367,     0.67467,     0.67568,     0.67668,     0.67768,     0.67868,     0.67968,     0.68068,     0.68168,     0.68268,     0.68368,     0.68468,     0.68569,     0.68669,     0.68769,     0.68869,     0.68969,     0.69069,     0.69169,     0.69269,     0.69369,     0.69469,      0.6957,\n",
              "            0.6967,      0.6977,      0.6987,      0.6997,      0.7007,      0.7017,      0.7027,      0.7037,      0.7047,     0.70571,     0.70671,     0.70771,     0.70871,     0.70971,     0.71071,     0.71171,     0.71271,     0.71371,     0.71471,     0.71572,     0.71672,     0.71772,     0.71872,     0.71972,\n",
              "           0.72072,     0.72172,     0.72272,     0.72372,     0.72472,     0.72573,     0.72673,     0.72773,     0.72873,     0.72973,     0.73073,     0.73173,     0.73273,     0.73373,     0.73473,     0.73574,     0.73674,     0.73774,     0.73874,     0.73974,     0.74074,     0.74174,     0.74274,     0.74374,\n",
              "           0.74474,     0.74575,     0.74675,     0.74775,     0.74875,     0.74975,     0.75075,     0.75175,     0.75275,     0.75375,     0.75475,     0.75576,     0.75676,     0.75776,     0.75876,     0.75976,     0.76076,     0.76176,     0.76276,     0.76376,     0.76476,     0.76577,     0.76677,     0.76777,\n",
              "           0.76877,     0.76977,     0.77077,     0.77177,     0.77277,     0.77377,     0.77477,     0.77578,     0.77678,     0.77778,     0.77878,     0.77978,     0.78078,     0.78178,     0.78278,     0.78378,     0.78478,     0.78579,     0.78679,     0.78779,     0.78879,     0.78979,     0.79079,     0.79179,\n",
              "           0.79279,     0.79379,     0.79479,      0.7958,      0.7968,      0.7978,      0.7988,      0.7998,      0.8008,      0.8018,      0.8028,      0.8038,      0.8048,     0.80581,     0.80681,     0.80781,     0.80881,     0.80981,     0.81081,     0.81181,     0.81281,     0.81381,     0.81481,     0.81582,\n",
              "           0.81682,     0.81782,     0.81882,     0.81982,     0.82082,     0.82182,     0.82282,     0.82382,     0.82482,     0.82583,     0.82683,     0.82783,     0.82883,     0.82983,     0.83083,     0.83183,     0.83283,     0.83383,     0.83483,     0.83584,     0.83684,     0.83784,     0.83884,     0.83984,\n",
              "           0.84084,     0.84184,     0.84284,     0.84384,     0.84484,     0.84585,     0.84685,     0.84785,     0.84885,     0.84985,     0.85085,     0.85185,     0.85285,     0.85385,     0.85485,     0.85586,     0.85686,     0.85786,     0.85886,     0.85986,     0.86086,     0.86186,     0.86286,     0.86386,\n",
              "           0.86486,     0.86587,     0.86687,     0.86787,     0.86887,     0.86987,     0.87087,     0.87187,     0.87287,     0.87387,     0.87487,     0.87588,     0.87688,     0.87788,     0.87888,     0.87988,     0.88088,     0.88188,     0.88288,     0.88388,     0.88488,     0.88589,     0.88689,     0.88789,\n",
              "           0.88889,     0.88989,     0.89089,     0.89189,     0.89289,     0.89389,     0.89489,      0.8959,      0.8969,      0.8979,      0.8989,      0.8999,      0.9009,      0.9019,      0.9029,      0.9039,      0.9049,     0.90591,     0.90691,     0.90791,     0.90891,     0.90991,     0.91091,     0.91191,\n",
              "           0.91291,     0.91391,     0.91491,     0.91592,     0.91692,     0.91792,     0.91892,     0.91992,     0.92092,     0.92192,     0.92292,     0.92392,     0.92492,     0.92593,     0.92693,     0.92793,     0.92893,     0.92993,     0.93093,     0.93193,     0.93293,     0.93393,     0.93493,     0.93594,\n",
              "           0.93694,     0.93794,     0.93894,     0.93994,     0.94094,     0.94194,     0.94294,     0.94394,     0.94494,     0.94595,     0.94695,     0.94795,     0.94895,     0.94995,     0.95095,     0.95195,     0.95295,     0.95395,     0.95495,     0.95596,     0.95696,     0.95796,     0.95896,     0.95996,\n",
              "           0.96096,     0.96196,     0.96296,     0.96396,     0.96496,     0.96597,     0.96697,     0.96797,     0.96897,     0.96997,     0.97097,     0.97197,     0.97297,     0.97397,     0.97497,     0.97598,     0.97698,     0.97798,     0.97898,     0.97998,     0.98098,     0.98198,     0.98298,     0.98398,\n",
              "           0.98498,     0.98599,     0.98699,     0.98799,     0.98899,     0.98999,     0.99099,     0.99199,     0.99299,     0.99399,     0.99499,       0.996,       0.997,       0.998,       0.999,           1]), array([[    0.01127,     0.01127,     0.15563, ...,           0,           0,           0],\n",
              "       [   0.019361,    0.019361,     0.15531, ...,           0,           0,           0],\n",
              "       [   0.010559,    0.010559,      0.1524, ...,           0,           0,           0],\n",
              "       [   0.015625,    0.015625,     0.19286, ...,           0,           0,           0],\n",
              "       [   0.041379,    0.041379,     0.20373, ...,           0,           0,           0]]), 'Confidence', 'F1'], [array([          0,    0.001001,    0.002002,    0.003003,    0.004004,    0.005005,    0.006006,    0.007007,    0.008008,    0.009009,     0.01001,    0.011011,    0.012012,    0.013013,    0.014014,    0.015015,    0.016016,    0.017017,    0.018018,    0.019019,     0.02002,    0.021021,    0.022022,    0.023023,\n",
              "          0.024024,    0.025025,    0.026026,    0.027027,    0.028028,    0.029029,     0.03003,    0.031031,    0.032032,    0.033033,    0.034034,    0.035035,    0.036036,    0.037037,    0.038038,    0.039039,     0.04004,    0.041041,    0.042042,    0.043043,    0.044044,    0.045045,    0.046046,    0.047047,\n",
              "          0.048048,    0.049049,     0.05005,    0.051051,    0.052052,    0.053053,    0.054054,    0.055055,    0.056056,    0.057057,    0.058058,    0.059059,     0.06006,    0.061061,    0.062062,    0.063063,    0.064064,    0.065065,    0.066066,    0.067067,    0.068068,    0.069069,     0.07007,    0.071071,\n",
              "          0.072072,    0.073073,    0.074074,    0.075075,    0.076076,    0.077077,    0.078078,    0.079079,     0.08008,    0.081081,    0.082082,    0.083083,    0.084084,    0.085085,    0.086086,    0.087087,    0.088088,    0.089089,     0.09009,    0.091091,    0.092092,    0.093093,    0.094094,    0.095095,\n",
              "          0.096096,    0.097097,    0.098098,    0.099099,      0.1001,      0.1011,      0.1021,      0.1031,      0.1041,     0.10511,     0.10611,     0.10711,     0.10811,     0.10911,     0.11011,     0.11111,     0.11211,     0.11311,     0.11411,     0.11512,     0.11612,     0.11712,     0.11812,     0.11912,\n",
              "           0.12012,     0.12112,     0.12212,     0.12312,     0.12412,     0.12513,     0.12613,     0.12713,     0.12813,     0.12913,     0.13013,     0.13113,     0.13213,     0.13313,     0.13413,     0.13514,     0.13614,     0.13714,     0.13814,     0.13914,     0.14014,     0.14114,     0.14214,     0.14314,\n",
              "           0.14414,     0.14515,     0.14615,     0.14715,     0.14815,     0.14915,     0.15015,     0.15115,     0.15215,     0.15315,     0.15415,     0.15516,     0.15616,     0.15716,     0.15816,     0.15916,     0.16016,     0.16116,     0.16216,     0.16316,     0.16416,     0.16517,     0.16617,     0.16717,\n",
              "           0.16817,     0.16917,     0.17017,     0.17117,     0.17217,     0.17317,     0.17417,     0.17518,     0.17618,     0.17718,     0.17818,     0.17918,     0.18018,     0.18118,     0.18218,     0.18318,     0.18418,     0.18519,     0.18619,     0.18719,     0.18819,     0.18919,     0.19019,     0.19119,\n",
              "           0.19219,     0.19319,     0.19419,      0.1952,      0.1962,      0.1972,      0.1982,      0.1992,      0.2002,      0.2012,      0.2022,      0.2032,      0.2042,     0.20521,     0.20621,     0.20721,     0.20821,     0.20921,     0.21021,     0.21121,     0.21221,     0.21321,     0.21421,     0.21522,\n",
              "           0.21622,     0.21722,     0.21822,     0.21922,     0.22022,     0.22122,     0.22222,     0.22322,     0.22422,     0.22523,     0.22623,     0.22723,     0.22823,     0.22923,     0.23023,     0.23123,     0.23223,     0.23323,     0.23423,     0.23524,     0.23624,     0.23724,     0.23824,     0.23924,\n",
              "           0.24024,     0.24124,     0.24224,     0.24324,     0.24424,     0.24525,     0.24625,     0.24725,     0.24825,     0.24925,     0.25025,     0.25125,     0.25225,     0.25325,     0.25425,     0.25526,     0.25626,     0.25726,     0.25826,     0.25926,     0.26026,     0.26126,     0.26226,     0.26326,\n",
              "           0.26426,     0.26527,     0.26627,     0.26727,     0.26827,     0.26927,     0.27027,     0.27127,     0.27227,     0.27327,     0.27427,     0.27528,     0.27628,     0.27728,     0.27828,     0.27928,     0.28028,     0.28128,     0.28228,     0.28328,     0.28428,     0.28529,     0.28629,     0.28729,\n",
              "           0.28829,     0.28929,     0.29029,     0.29129,     0.29229,     0.29329,     0.29429,      0.2953,      0.2963,      0.2973,      0.2983,      0.2993,      0.3003,      0.3013,      0.3023,      0.3033,      0.3043,     0.30531,     0.30631,     0.30731,     0.30831,     0.30931,     0.31031,     0.31131,\n",
              "           0.31231,     0.31331,     0.31431,     0.31532,     0.31632,     0.31732,     0.31832,     0.31932,     0.32032,     0.32132,     0.32232,     0.32332,     0.32432,     0.32533,     0.32633,     0.32733,     0.32833,     0.32933,     0.33033,     0.33133,     0.33233,     0.33333,     0.33433,     0.33534,\n",
              "           0.33634,     0.33734,     0.33834,     0.33934,     0.34034,     0.34134,     0.34234,     0.34334,     0.34434,     0.34535,     0.34635,     0.34735,     0.34835,     0.34935,     0.35035,     0.35135,     0.35235,     0.35335,     0.35435,     0.35536,     0.35636,     0.35736,     0.35836,     0.35936,\n",
              "           0.36036,     0.36136,     0.36236,     0.36336,     0.36436,     0.36537,     0.36637,     0.36737,     0.36837,     0.36937,     0.37037,     0.37137,     0.37237,     0.37337,     0.37437,     0.37538,     0.37638,     0.37738,     0.37838,     0.37938,     0.38038,     0.38138,     0.38238,     0.38338,\n",
              "           0.38438,     0.38539,     0.38639,     0.38739,     0.38839,     0.38939,     0.39039,     0.39139,     0.39239,     0.39339,     0.39439,      0.3954,      0.3964,      0.3974,      0.3984,      0.3994,      0.4004,      0.4014,      0.4024,      0.4034,      0.4044,     0.40541,     0.40641,     0.40741,\n",
              "           0.40841,     0.40941,     0.41041,     0.41141,     0.41241,     0.41341,     0.41441,     0.41542,     0.41642,     0.41742,     0.41842,     0.41942,     0.42042,     0.42142,     0.42242,     0.42342,     0.42442,     0.42543,     0.42643,     0.42743,     0.42843,     0.42943,     0.43043,     0.43143,\n",
              "           0.43243,     0.43343,     0.43443,     0.43544,     0.43644,     0.43744,     0.43844,     0.43944,     0.44044,     0.44144,     0.44244,     0.44344,     0.44444,     0.44545,     0.44645,     0.44745,     0.44845,     0.44945,     0.45045,     0.45145,     0.45245,     0.45345,     0.45445,     0.45546,\n",
              "           0.45646,     0.45746,     0.45846,     0.45946,     0.46046,     0.46146,     0.46246,     0.46346,     0.46446,     0.46547,     0.46647,     0.46747,     0.46847,     0.46947,     0.47047,     0.47147,     0.47247,     0.47347,     0.47447,     0.47548,     0.47648,     0.47748,     0.47848,     0.47948,\n",
              "           0.48048,     0.48148,     0.48248,     0.48348,     0.48448,     0.48549,     0.48649,     0.48749,     0.48849,     0.48949,     0.49049,     0.49149,     0.49249,     0.49349,     0.49449,      0.4955,      0.4965,      0.4975,      0.4985,      0.4995,      0.5005,      0.5015,      0.5025,      0.5035,\n",
              "            0.5045,     0.50551,     0.50651,     0.50751,     0.50851,     0.50951,     0.51051,     0.51151,     0.51251,     0.51351,     0.51451,     0.51552,     0.51652,     0.51752,     0.51852,     0.51952,     0.52052,     0.52152,     0.52252,     0.52352,     0.52452,     0.52553,     0.52653,     0.52753,\n",
              "           0.52853,     0.52953,     0.53053,     0.53153,     0.53253,     0.53353,     0.53453,     0.53554,     0.53654,     0.53754,     0.53854,     0.53954,     0.54054,     0.54154,     0.54254,     0.54354,     0.54454,     0.54555,     0.54655,     0.54755,     0.54855,     0.54955,     0.55055,     0.55155,\n",
              "           0.55255,     0.55355,     0.55455,     0.55556,     0.55656,     0.55756,     0.55856,     0.55956,     0.56056,     0.56156,     0.56256,     0.56356,     0.56456,     0.56557,     0.56657,     0.56757,     0.56857,     0.56957,     0.57057,     0.57157,     0.57257,     0.57357,     0.57457,     0.57558,\n",
              "           0.57658,     0.57758,     0.57858,     0.57958,     0.58058,     0.58158,     0.58258,     0.58358,     0.58458,     0.58559,     0.58659,     0.58759,     0.58859,     0.58959,     0.59059,     0.59159,     0.59259,     0.59359,     0.59459,      0.5956,      0.5966,      0.5976,      0.5986,      0.5996,\n",
              "            0.6006,      0.6016,      0.6026,      0.6036,      0.6046,     0.60561,     0.60661,     0.60761,     0.60861,     0.60961,     0.61061,     0.61161,     0.61261,     0.61361,     0.61461,     0.61562,     0.61662,     0.61762,     0.61862,     0.61962,     0.62062,     0.62162,     0.62262,     0.62362,\n",
              "           0.62462,     0.62563,     0.62663,     0.62763,     0.62863,     0.62963,     0.63063,     0.63163,     0.63263,     0.63363,     0.63463,     0.63564,     0.63664,     0.63764,     0.63864,     0.63964,     0.64064,     0.64164,     0.64264,     0.64364,     0.64464,     0.64565,     0.64665,     0.64765,\n",
              "           0.64865,     0.64965,     0.65065,     0.65165,     0.65265,     0.65365,     0.65465,     0.65566,     0.65666,     0.65766,     0.65866,     0.65966,     0.66066,     0.66166,     0.66266,     0.66366,     0.66466,     0.66567,     0.66667,     0.66767,     0.66867,     0.66967,     0.67067,     0.67167,\n",
              "           0.67267,     0.67367,     0.67467,     0.67568,     0.67668,     0.67768,     0.67868,     0.67968,     0.68068,     0.68168,     0.68268,     0.68368,     0.68468,     0.68569,     0.68669,     0.68769,     0.68869,     0.68969,     0.69069,     0.69169,     0.69269,     0.69369,     0.69469,      0.6957,\n",
              "            0.6967,      0.6977,      0.6987,      0.6997,      0.7007,      0.7017,      0.7027,      0.7037,      0.7047,     0.70571,     0.70671,     0.70771,     0.70871,     0.70971,     0.71071,     0.71171,     0.71271,     0.71371,     0.71471,     0.71572,     0.71672,     0.71772,     0.71872,     0.71972,\n",
              "           0.72072,     0.72172,     0.72272,     0.72372,     0.72472,     0.72573,     0.72673,     0.72773,     0.72873,     0.72973,     0.73073,     0.73173,     0.73273,     0.73373,     0.73473,     0.73574,     0.73674,     0.73774,     0.73874,     0.73974,     0.74074,     0.74174,     0.74274,     0.74374,\n",
              "           0.74474,     0.74575,     0.74675,     0.74775,     0.74875,     0.74975,     0.75075,     0.75175,     0.75275,     0.75375,     0.75475,     0.75576,     0.75676,     0.75776,     0.75876,     0.75976,     0.76076,     0.76176,     0.76276,     0.76376,     0.76476,     0.76577,     0.76677,     0.76777,\n",
              "           0.76877,     0.76977,     0.77077,     0.77177,     0.77277,     0.77377,     0.77477,     0.77578,     0.77678,     0.77778,     0.77878,     0.77978,     0.78078,     0.78178,     0.78278,     0.78378,     0.78478,     0.78579,     0.78679,     0.78779,     0.78879,     0.78979,     0.79079,     0.79179,\n",
              "           0.79279,     0.79379,     0.79479,      0.7958,      0.7968,      0.7978,      0.7988,      0.7998,      0.8008,      0.8018,      0.8028,      0.8038,      0.8048,     0.80581,     0.80681,     0.80781,     0.80881,     0.80981,     0.81081,     0.81181,     0.81281,     0.81381,     0.81481,     0.81582,\n",
              "           0.81682,     0.81782,     0.81882,     0.81982,     0.82082,     0.82182,     0.82282,     0.82382,     0.82482,     0.82583,     0.82683,     0.82783,     0.82883,     0.82983,     0.83083,     0.83183,     0.83283,     0.83383,     0.83483,     0.83584,     0.83684,     0.83784,     0.83884,     0.83984,\n",
              "           0.84084,     0.84184,     0.84284,     0.84384,     0.84484,     0.84585,     0.84685,     0.84785,     0.84885,     0.84985,     0.85085,     0.85185,     0.85285,     0.85385,     0.85485,     0.85586,     0.85686,     0.85786,     0.85886,     0.85986,     0.86086,     0.86186,     0.86286,     0.86386,\n",
              "           0.86486,     0.86587,     0.86687,     0.86787,     0.86887,     0.86987,     0.87087,     0.87187,     0.87287,     0.87387,     0.87487,     0.87588,     0.87688,     0.87788,     0.87888,     0.87988,     0.88088,     0.88188,     0.88288,     0.88388,     0.88488,     0.88589,     0.88689,     0.88789,\n",
              "           0.88889,     0.88989,     0.89089,     0.89189,     0.89289,     0.89389,     0.89489,      0.8959,      0.8969,      0.8979,      0.8989,      0.8999,      0.9009,      0.9019,      0.9029,      0.9039,      0.9049,     0.90591,     0.90691,     0.90791,     0.90891,     0.90991,     0.91091,     0.91191,\n",
              "           0.91291,     0.91391,     0.91491,     0.91592,     0.91692,     0.91792,     0.91892,     0.91992,     0.92092,     0.92192,     0.92292,     0.92392,     0.92492,     0.92593,     0.92693,     0.92793,     0.92893,     0.92993,     0.93093,     0.93193,     0.93293,     0.93393,     0.93493,     0.93594,\n",
              "           0.93694,     0.93794,     0.93894,     0.93994,     0.94094,     0.94194,     0.94294,     0.94394,     0.94494,     0.94595,     0.94695,     0.94795,     0.94895,     0.94995,     0.95095,     0.95195,     0.95295,     0.95395,     0.95495,     0.95596,     0.95696,     0.95796,     0.95896,     0.95996,\n",
              "           0.96096,     0.96196,     0.96296,     0.96396,     0.96496,     0.96597,     0.96697,     0.96797,     0.96897,     0.96997,     0.97097,     0.97197,     0.97297,     0.97397,     0.97497,     0.97598,     0.97698,     0.97798,     0.97898,     0.97998,     0.98098,     0.98198,     0.98298,     0.98398,\n",
              "           0.98498,     0.98599,     0.98699,     0.98799,     0.98899,     0.98999,     0.99099,     0.99199,     0.99299,     0.99399,     0.99499,       0.996,       0.997,       0.998,       0.999,           1]), array([[  0.0056672,   0.0056672,     0.08438, ...,           1,           1,           1],\n",
              "       [  0.0097752,   0.0097752,    0.084194, ...,           1,           1,           1],\n",
              "       [  0.0053075,   0.0053075,    0.082487, ...,           1,           1,           1],\n",
              "       [   0.007874,    0.007874,     0.10672, ...,           1,           1,           1],\n",
              "       [   0.021127,    0.021127,     0.11342, ...,           1,           1,           1]]), 'Confidence', 'Precision'], [array([          0,    0.001001,    0.002002,    0.003003,    0.004004,    0.005005,    0.006006,    0.007007,    0.008008,    0.009009,     0.01001,    0.011011,    0.012012,    0.013013,    0.014014,    0.015015,    0.016016,    0.017017,    0.018018,    0.019019,     0.02002,    0.021021,    0.022022,    0.023023,\n",
              "          0.024024,    0.025025,    0.026026,    0.027027,    0.028028,    0.029029,     0.03003,    0.031031,    0.032032,    0.033033,    0.034034,    0.035035,    0.036036,    0.037037,    0.038038,    0.039039,     0.04004,    0.041041,    0.042042,    0.043043,    0.044044,    0.045045,    0.046046,    0.047047,\n",
              "          0.048048,    0.049049,     0.05005,    0.051051,    0.052052,    0.053053,    0.054054,    0.055055,    0.056056,    0.057057,    0.058058,    0.059059,     0.06006,    0.061061,    0.062062,    0.063063,    0.064064,    0.065065,    0.066066,    0.067067,    0.068068,    0.069069,     0.07007,    0.071071,\n",
              "          0.072072,    0.073073,    0.074074,    0.075075,    0.076076,    0.077077,    0.078078,    0.079079,     0.08008,    0.081081,    0.082082,    0.083083,    0.084084,    0.085085,    0.086086,    0.087087,    0.088088,    0.089089,     0.09009,    0.091091,    0.092092,    0.093093,    0.094094,    0.095095,\n",
              "          0.096096,    0.097097,    0.098098,    0.099099,      0.1001,      0.1011,      0.1021,      0.1031,      0.1041,     0.10511,     0.10611,     0.10711,     0.10811,     0.10911,     0.11011,     0.11111,     0.11211,     0.11311,     0.11411,     0.11512,     0.11612,     0.11712,     0.11812,     0.11912,\n",
              "           0.12012,     0.12112,     0.12212,     0.12312,     0.12412,     0.12513,     0.12613,     0.12713,     0.12813,     0.12913,     0.13013,     0.13113,     0.13213,     0.13313,     0.13413,     0.13514,     0.13614,     0.13714,     0.13814,     0.13914,     0.14014,     0.14114,     0.14214,     0.14314,\n",
              "           0.14414,     0.14515,     0.14615,     0.14715,     0.14815,     0.14915,     0.15015,     0.15115,     0.15215,     0.15315,     0.15415,     0.15516,     0.15616,     0.15716,     0.15816,     0.15916,     0.16016,     0.16116,     0.16216,     0.16316,     0.16416,     0.16517,     0.16617,     0.16717,\n",
              "           0.16817,     0.16917,     0.17017,     0.17117,     0.17217,     0.17317,     0.17417,     0.17518,     0.17618,     0.17718,     0.17818,     0.17918,     0.18018,     0.18118,     0.18218,     0.18318,     0.18418,     0.18519,     0.18619,     0.18719,     0.18819,     0.18919,     0.19019,     0.19119,\n",
              "           0.19219,     0.19319,     0.19419,      0.1952,      0.1962,      0.1972,      0.1982,      0.1992,      0.2002,      0.2012,      0.2022,      0.2032,      0.2042,     0.20521,     0.20621,     0.20721,     0.20821,     0.20921,     0.21021,     0.21121,     0.21221,     0.21321,     0.21421,     0.21522,\n",
              "           0.21622,     0.21722,     0.21822,     0.21922,     0.22022,     0.22122,     0.22222,     0.22322,     0.22422,     0.22523,     0.22623,     0.22723,     0.22823,     0.22923,     0.23023,     0.23123,     0.23223,     0.23323,     0.23423,     0.23524,     0.23624,     0.23724,     0.23824,     0.23924,\n",
              "           0.24024,     0.24124,     0.24224,     0.24324,     0.24424,     0.24525,     0.24625,     0.24725,     0.24825,     0.24925,     0.25025,     0.25125,     0.25225,     0.25325,     0.25425,     0.25526,     0.25626,     0.25726,     0.25826,     0.25926,     0.26026,     0.26126,     0.26226,     0.26326,\n",
              "           0.26426,     0.26527,     0.26627,     0.26727,     0.26827,     0.26927,     0.27027,     0.27127,     0.27227,     0.27327,     0.27427,     0.27528,     0.27628,     0.27728,     0.27828,     0.27928,     0.28028,     0.28128,     0.28228,     0.28328,     0.28428,     0.28529,     0.28629,     0.28729,\n",
              "           0.28829,     0.28929,     0.29029,     0.29129,     0.29229,     0.29329,     0.29429,      0.2953,      0.2963,      0.2973,      0.2983,      0.2993,      0.3003,      0.3013,      0.3023,      0.3033,      0.3043,     0.30531,     0.30631,     0.30731,     0.30831,     0.30931,     0.31031,     0.31131,\n",
              "           0.31231,     0.31331,     0.31431,     0.31532,     0.31632,     0.31732,     0.31832,     0.31932,     0.32032,     0.32132,     0.32232,     0.32332,     0.32432,     0.32533,     0.32633,     0.32733,     0.32833,     0.32933,     0.33033,     0.33133,     0.33233,     0.33333,     0.33433,     0.33534,\n",
              "           0.33634,     0.33734,     0.33834,     0.33934,     0.34034,     0.34134,     0.34234,     0.34334,     0.34434,     0.34535,     0.34635,     0.34735,     0.34835,     0.34935,     0.35035,     0.35135,     0.35235,     0.35335,     0.35435,     0.35536,     0.35636,     0.35736,     0.35836,     0.35936,\n",
              "           0.36036,     0.36136,     0.36236,     0.36336,     0.36436,     0.36537,     0.36637,     0.36737,     0.36837,     0.36937,     0.37037,     0.37137,     0.37237,     0.37337,     0.37437,     0.37538,     0.37638,     0.37738,     0.37838,     0.37938,     0.38038,     0.38138,     0.38238,     0.38338,\n",
              "           0.38438,     0.38539,     0.38639,     0.38739,     0.38839,     0.38939,     0.39039,     0.39139,     0.39239,     0.39339,     0.39439,      0.3954,      0.3964,      0.3974,      0.3984,      0.3994,      0.4004,      0.4014,      0.4024,      0.4034,      0.4044,     0.40541,     0.40641,     0.40741,\n",
              "           0.40841,     0.40941,     0.41041,     0.41141,     0.41241,     0.41341,     0.41441,     0.41542,     0.41642,     0.41742,     0.41842,     0.41942,     0.42042,     0.42142,     0.42242,     0.42342,     0.42442,     0.42543,     0.42643,     0.42743,     0.42843,     0.42943,     0.43043,     0.43143,\n",
              "           0.43243,     0.43343,     0.43443,     0.43544,     0.43644,     0.43744,     0.43844,     0.43944,     0.44044,     0.44144,     0.44244,     0.44344,     0.44444,     0.44545,     0.44645,     0.44745,     0.44845,     0.44945,     0.45045,     0.45145,     0.45245,     0.45345,     0.45445,     0.45546,\n",
              "           0.45646,     0.45746,     0.45846,     0.45946,     0.46046,     0.46146,     0.46246,     0.46346,     0.46446,     0.46547,     0.46647,     0.46747,     0.46847,     0.46947,     0.47047,     0.47147,     0.47247,     0.47347,     0.47447,     0.47548,     0.47648,     0.47748,     0.47848,     0.47948,\n",
              "           0.48048,     0.48148,     0.48248,     0.48348,     0.48448,     0.48549,     0.48649,     0.48749,     0.48849,     0.48949,     0.49049,     0.49149,     0.49249,     0.49349,     0.49449,      0.4955,      0.4965,      0.4975,      0.4985,      0.4995,      0.5005,      0.5015,      0.5025,      0.5035,\n",
              "            0.5045,     0.50551,     0.50651,     0.50751,     0.50851,     0.50951,     0.51051,     0.51151,     0.51251,     0.51351,     0.51451,     0.51552,     0.51652,     0.51752,     0.51852,     0.51952,     0.52052,     0.52152,     0.52252,     0.52352,     0.52452,     0.52553,     0.52653,     0.52753,\n",
              "           0.52853,     0.52953,     0.53053,     0.53153,     0.53253,     0.53353,     0.53453,     0.53554,     0.53654,     0.53754,     0.53854,     0.53954,     0.54054,     0.54154,     0.54254,     0.54354,     0.54454,     0.54555,     0.54655,     0.54755,     0.54855,     0.54955,     0.55055,     0.55155,\n",
              "           0.55255,     0.55355,     0.55455,     0.55556,     0.55656,     0.55756,     0.55856,     0.55956,     0.56056,     0.56156,     0.56256,     0.56356,     0.56456,     0.56557,     0.56657,     0.56757,     0.56857,     0.56957,     0.57057,     0.57157,     0.57257,     0.57357,     0.57457,     0.57558,\n",
              "           0.57658,     0.57758,     0.57858,     0.57958,     0.58058,     0.58158,     0.58258,     0.58358,     0.58458,     0.58559,     0.58659,     0.58759,     0.58859,     0.58959,     0.59059,     0.59159,     0.59259,     0.59359,     0.59459,      0.5956,      0.5966,      0.5976,      0.5986,      0.5996,\n",
              "            0.6006,      0.6016,      0.6026,      0.6036,      0.6046,     0.60561,     0.60661,     0.60761,     0.60861,     0.60961,     0.61061,     0.61161,     0.61261,     0.61361,     0.61461,     0.61562,     0.61662,     0.61762,     0.61862,     0.61962,     0.62062,     0.62162,     0.62262,     0.62362,\n",
              "           0.62462,     0.62563,     0.62663,     0.62763,     0.62863,     0.62963,     0.63063,     0.63163,     0.63263,     0.63363,     0.63463,     0.63564,     0.63664,     0.63764,     0.63864,     0.63964,     0.64064,     0.64164,     0.64264,     0.64364,     0.64464,     0.64565,     0.64665,     0.64765,\n",
              "           0.64865,     0.64965,     0.65065,     0.65165,     0.65265,     0.65365,     0.65465,     0.65566,     0.65666,     0.65766,     0.65866,     0.65966,     0.66066,     0.66166,     0.66266,     0.66366,     0.66466,     0.66567,     0.66667,     0.66767,     0.66867,     0.66967,     0.67067,     0.67167,\n",
              "           0.67267,     0.67367,     0.67467,     0.67568,     0.67668,     0.67768,     0.67868,     0.67968,     0.68068,     0.68168,     0.68268,     0.68368,     0.68468,     0.68569,     0.68669,     0.68769,     0.68869,     0.68969,     0.69069,     0.69169,     0.69269,     0.69369,     0.69469,      0.6957,\n",
              "            0.6967,      0.6977,      0.6987,      0.6997,      0.7007,      0.7017,      0.7027,      0.7037,      0.7047,     0.70571,     0.70671,     0.70771,     0.70871,     0.70971,     0.71071,     0.71171,     0.71271,     0.71371,     0.71471,     0.71572,     0.71672,     0.71772,     0.71872,     0.71972,\n",
              "           0.72072,     0.72172,     0.72272,     0.72372,     0.72472,     0.72573,     0.72673,     0.72773,     0.72873,     0.72973,     0.73073,     0.73173,     0.73273,     0.73373,     0.73473,     0.73574,     0.73674,     0.73774,     0.73874,     0.73974,     0.74074,     0.74174,     0.74274,     0.74374,\n",
              "           0.74474,     0.74575,     0.74675,     0.74775,     0.74875,     0.74975,     0.75075,     0.75175,     0.75275,     0.75375,     0.75475,     0.75576,     0.75676,     0.75776,     0.75876,     0.75976,     0.76076,     0.76176,     0.76276,     0.76376,     0.76476,     0.76577,     0.76677,     0.76777,\n",
              "           0.76877,     0.76977,     0.77077,     0.77177,     0.77277,     0.77377,     0.77477,     0.77578,     0.77678,     0.77778,     0.77878,     0.77978,     0.78078,     0.78178,     0.78278,     0.78378,     0.78478,     0.78579,     0.78679,     0.78779,     0.78879,     0.78979,     0.79079,     0.79179,\n",
              "           0.79279,     0.79379,     0.79479,      0.7958,      0.7968,      0.7978,      0.7988,      0.7998,      0.8008,      0.8018,      0.8028,      0.8038,      0.8048,     0.80581,     0.80681,     0.80781,     0.80881,     0.80981,     0.81081,     0.81181,     0.81281,     0.81381,     0.81481,     0.81582,\n",
              "           0.81682,     0.81782,     0.81882,     0.81982,     0.82082,     0.82182,     0.82282,     0.82382,     0.82482,     0.82583,     0.82683,     0.82783,     0.82883,     0.82983,     0.83083,     0.83183,     0.83283,     0.83383,     0.83483,     0.83584,     0.83684,     0.83784,     0.83884,     0.83984,\n",
              "           0.84084,     0.84184,     0.84284,     0.84384,     0.84484,     0.84585,     0.84685,     0.84785,     0.84885,     0.84985,     0.85085,     0.85185,     0.85285,     0.85385,     0.85485,     0.85586,     0.85686,     0.85786,     0.85886,     0.85986,     0.86086,     0.86186,     0.86286,     0.86386,\n",
              "           0.86486,     0.86587,     0.86687,     0.86787,     0.86887,     0.86987,     0.87087,     0.87187,     0.87287,     0.87387,     0.87487,     0.87588,     0.87688,     0.87788,     0.87888,     0.87988,     0.88088,     0.88188,     0.88288,     0.88388,     0.88488,     0.88589,     0.88689,     0.88789,\n",
              "           0.88889,     0.88989,     0.89089,     0.89189,     0.89289,     0.89389,     0.89489,      0.8959,      0.8969,      0.8979,      0.8989,      0.8999,      0.9009,      0.9019,      0.9029,      0.9039,      0.9049,     0.90591,     0.90691,     0.90791,     0.90891,     0.90991,     0.91091,     0.91191,\n",
              "           0.91291,     0.91391,     0.91491,     0.91592,     0.91692,     0.91792,     0.91892,     0.91992,     0.92092,     0.92192,     0.92292,     0.92392,     0.92492,     0.92593,     0.92693,     0.92793,     0.92893,     0.92993,     0.93093,     0.93193,     0.93293,     0.93393,     0.93493,     0.93594,\n",
              "           0.93694,     0.93794,     0.93894,     0.93994,     0.94094,     0.94194,     0.94294,     0.94394,     0.94494,     0.94595,     0.94695,     0.94795,     0.94895,     0.94995,     0.95095,     0.95195,     0.95295,     0.95395,     0.95495,     0.95596,     0.95696,     0.95796,     0.95896,     0.95996,\n",
              "           0.96096,     0.96196,     0.96296,     0.96396,     0.96496,     0.96597,     0.96697,     0.96797,     0.96897,     0.96997,     0.97097,     0.97197,     0.97297,     0.97397,     0.97497,     0.97598,     0.97698,     0.97798,     0.97898,     0.97998,     0.98098,     0.98198,     0.98298,     0.98398,\n",
              "           0.98498,     0.98599,     0.98699,     0.98799,     0.98899,     0.98999,     0.99099,     0.99199,     0.99299,     0.99399,     0.99499,       0.996,       0.997,       0.998,       0.999,           1]), array([[          1,           1,           1, ...,           0,           0,           0],\n",
              "       [          1,           1,           1, ...,           0,           0,           0],\n",
              "       [          1,           1,           1, ...,           0,           0,           0],\n",
              "       [          1,           1,           1, ...,           0,           0,           0],\n",
              "       [          1,           1,           1, ...,           0,           0,           0]]), 'Confidence', 'Recall']]\n",
              "fitness: 0.5760907652054721\n",
              "keys: ['metrics/precision(B)', 'metrics/recall(B)', 'metrics/mAP50(B)', 'metrics/mAP50-95(B)']\n",
              "maps: array([    0.59127,     0.52427,      0.6791,     0.53195,     0.39838])\n",
              "names: {0: 'Daenerys', 1: 'Jon', 2: 'Robb', 3: 'Sansa', 4: 'Tyrion'}\n",
              "plot: True\n",
              "results_dict: {'metrics/precision(B)': 0.7473766514511058, 'metrics/recall(B)': 0.8615686274509804, 'metrics/mAP50(B)': 0.8559700211015642, 'metrics/mAP50-95(B)': 0.5449930701059063, 'fitness': 0.5760907652054721}\n",
              "save_dir: PosixPath('runs/detect/train')\n",
              "speed: {'preprocess': 0.47017350981507117, 'inference': 2.6398610465134245, 'loss': 0.0004677832881106606, 'postprocess': 2.853894535499283}\n",
              "task: 'detect'"
            ]
          },
          "metadata": {},
          "execution_count": 18
        }
      ]
    },
    {
      "cell_type": "code",
      "source": [
        "# Salvar o modelo treinado\n",
        "model_path = \"runs/detect/train/weights/best.pt\"\n",
        "print(f\"Modelo salvo em: {model_path}\")\n"
      ],
      "metadata": {
        "colab": {
          "base_uri": "https://localhost:8080/"
        },
        "id": "Q0k1KBfyhqyR",
        "outputId": "318c47e8-a7ef-42d5-ebdf-bbfbcc652d34"
      },
      "execution_count": null,
      "outputs": [
        {
          "output_type": "stream",
          "name": "stdout",
          "text": [
            "Modelo salvo em: runs/detect/train/weights/best.pt\n"
          ]
        }
      ]
    },
    {
      "cell_type": "code",
      "source": [
        "from ultralytics import YOLO\n",
        "model = YOLO(model_path)  # Carregar o modelo treinado\n"
      ],
      "metadata": {
        "id": "G8WSUmU8r-ic"
      },
      "execution_count": null,
      "outputs": []
    },
    {
      "cell_type": "code",
      "source": [
        "from google.colab import drive\n",
        "drive.mount('/content/drive')\n"
      ],
      "metadata": {
        "colab": {
          "base_uri": "https://localhost:8080/"
        },
        "id": "RphdlXGLURO9",
        "outputId": "9a4178a0-ec08-4f2b-b648-aae27c81f0bc"
      },
      "execution_count": null,
      "outputs": [
        {
          "output_type": "stream",
          "name": "stdout",
          "text": [
            "Mounted at /content/drive\n"
          ]
        }
      ]
    },
    {
      "cell_type": "code",
      "source": [
        "image_path = \"/content/drive/MyDrive/got/elenco2.jpg\"\n"
      ],
      "metadata": {
        "id": "VHMuFPyQUi-h"
      },
      "execution_count": null,
      "outputs": []
    },
    {
      "cell_type": "code",
      "source": [
        "results = model(image_path, save=True)\n"
      ],
      "metadata": {
        "colab": {
          "base_uri": "https://localhost:8080/"
        },
        "id": "RqF8ChwoVZm4",
        "outputId": "d685c00a-3195-4150-e05f-2ebed58fe276"
      },
      "execution_count": null,
      "outputs": [
        {
          "output_type": "stream",
          "name": "stdout",
          "text": [
            "\n",
            "image 1/1 /content/drive/MyDrive/got/elenco2.jpg: 448x640 1 Daenerys, 1 Jon, 11.7ms\n",
            "Speed: 2.4ms preprocess, 11.7ms inference, 1.5ms postprocess per image at shape (1, 3, 448, 640)\n",
            "Results saved to \u001b[1mruns/detect/predict\u001b[0m\n"
          ]
        }
      ]
    },
    {
      "cell_type": "code",
      "source": [
        "# Processar a imagem manualmente para diminuir a fonte e evitar cortes\n",
        "import cv2\n",
        "for result in results:\n",
        "    img = cv2.imread(image_path)\n",
        "    img_height, img_width = img.shape[:2]  # Obtém tamanho da imagem\n",
        "\n",
        "    for box in result.boxes:\n",
        "        x1, y1, x2, y2 = map(int, box.xyxy[0])  # Coordenadas da bounding box\n",
        "        label = result.names[int(box.cls[0])]  # Nome da classe detectada\n",
        "        conf = box.conf[0].item()  # Confiança da detecção\n",
        "\n",
        "        # Formatar o texto com a confiança\n",
        "        text = f\"{label}: {conf:.2f}\"\n",
        "\n",
        "        # Definir cor e fonte\n",
        "        font = cv2.FONT_HERSHEY_SIMPLEX\n",
        "        font_scale = 0.5  # Tamanho menor da fonte\n",
        "        font_thickness = 1  # Espessura do texto\n",
        "\n",
        "        # Obter tamanho do texto para calcular a posição correta\n",
        "        text_size = cv2.getTextSize(text, font, font_scale, font_thickness)[0]\n",
        "        text_x, text_y = x1, y1 - 5  # Posição padrão do texto acima da bounding box\n",
        "\n",
        "        # Ajustar se o texto estiver saindo da imagem\n",
        "        if text_y < 10:\n",
        "            text_y = y1 + text_size[1] + 5  # Move para baixo se estiver cortando\n",
        "\n",
        "        # Adicionar fundo preto para melhor visibilidade\n",
        "        cv2.rectangle(img, (text_x, text_y - text_size[1] - 5),\n",
        "                      (text_x + text_size[0], text_y + 5), (0, 0, 0), -1)\n",
        "\n",
        "        # Adicionar o texto na imagem\n",
        "        cv2.putText(img, text, (text_x, text_y), font, font_scale, (255, 255, 255), font_thickness)\n",
        "\n",
        "        # Desenhar a bounding box\n",
        "        cv2.rectangle(img, (x1, y1), (x2, y2), (0, 255, 0), 2)\n",
        "\n",
        "    # Salvar ou exibir a imagem processada\n",
        "    cv2.imwrite(\"/content/detection_result.jpg\", img)"
      ],
      "metadata": {
        "id": "m1oMss1rY4qn"
      },
      "execution_count": null,
      "outputs": []
    },
    {
      "cell_type": "code",
      "source": [
        "from IPython.display import display\n",
        "from PIL import Image\n",
        "\n",
        "display(Image.open(\"/content/detection_result.jpg\"))"
      ],
      "metadata": {
        "colab": {
          "base_uri": "https://localhost:8080/",
          "height": 200
        },
        "id": "3lHhpTihZF-O",
        "outputId": "6d8e29b5-1d3c-4f90-d818-48de5c6cb9bb"
      },
      "execution_count": null,
      "outputs": [
        {
          "output_type": "display_data",
          "data": {
            "text/plain": [
              "<PIL.JpegImagePlugin.JpegImageFile image mode=RGB size=275x183>"
            ],
            "image/png": "[encoded data removed]",
            "image/jpeg": "[encoded data removed]"
          },
          "metadata": {}
        }
      ]
    }
  ]
}